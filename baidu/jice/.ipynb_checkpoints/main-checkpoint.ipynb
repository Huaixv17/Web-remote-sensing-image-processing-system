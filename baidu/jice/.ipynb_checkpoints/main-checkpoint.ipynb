{
 "cells": [
  {
   "cell_type": "code",
   "execution_count": 1,
   "id": "18ec0d12",
   "metadata": {},
   "outputs": [
    {
     "name": "stdout",
     "output_type": "stream",
     "text": [
      "数据集划分已完成。\n"
     ]
    }
   ],
   "source": [
    "# 划分训练集/验证集/测试集，并生成文件名列表\n",
    "# 所有样本从RSOD数据集的playground子集中选取\n",
    "\n",
    "import random\n",
    "import os.path as osp\n",
    "from os import listdir\n",
    "\n",
    "\n",
    "# 随机数生成器种子\n",
    "RNG_SEED = 52980\n",
    "# 调节此参数控制训练集数据的占比\n",
    "TRAIN_RATIO = 0.9\n",
    "# 调节此参数控制验证集数据的占比\n",
    "VAL_RATIO = 0.05\n",
    "# 数据集路径\n",
    "DATA_DIR = 'C:/Users/Administrator/diwu_pre/baidu/jice/data/'\n",
    "\n",
    "# 目标类别\n",
    "CLASS = 'playground'\n",
    "\n",
    "print(\"数据集划分已完成。\")"
   ]
  },
  {
   "cell_type": "code",
   "execution_count": 2,
   "id": "a7845117",
   "metadata": {},
   "outputs": [
    {
     "name": "stderr",
     "output_type": "stream",
     "text": [
      "D:\\Anaconda3\\envs\\paddle\\lib\\site-packages\\sklearn\\utils\\multiclass.py:13: DeprecationWarning: Please use `spmatrix` from the `scipy.sparse` namespace, the `scipy.sparse.base` namespace is deprecated.\n",
      "  from scipy.sparse.base import spmatrix\n",
      "D:\\Anaconda3\\envs\\paddle\\Lib\\site-packages\\paddlers-0.0.1-py3.9.egg\\paddlers\\models\\ppcls\\data\\preprocess\\ops\\timm_autoaugment.py:38: DeprecationWarning: BILINEAR is deprecated and will be removed in Pillow 10 (2023-07-01). Use Resampling.BILINEAR instead.\n",
      "  _RANDOM_INTERPOLATION = (Image.BILINEAR, Image.BICUBIC)\n",
      "D:\\Anaconda3\\envs\\paddle\\Lib\\site-packages\\paddlers-0.0.1-py3.9.egg\\paddlers\\models\\ppcls\\data\\preprocess\\ops\\timm_autoaugment.py:38: DeprecationWarning: BICUBIC is deprecated and will be removed in Pillow 10 (2023-07-01). Use Resampling.BICUBIC instead.\n",
      "  _RANDOM_INTERPOLATION = (Image.BILINEAR, Image.BICUBIC)\n",
      "2022-07-05 14:52:48,687-WARNING: type object 'QuantizationTransformPass' has no attribute '_supported_quantizable_op_type'\n",
      "2022-07-05 14:52:48,688-WARNING: If you want to use training-aware and post-training quantization, please use Paddle >= 1.8.4 or develop version\n"
     ]
    }
   ],
   "source": [
    "# 导入需要用到的库\n",
    "\n",
    "import random\n",
    "import os.path as osp\n",
    "\n",
    "import cv2\n",
    "import numpy as np\n",
    "import paddle\n",
    "import paddlers as pdrs\n",
    "from paddlers import transforms as T\n",
    "from paddlers.tasks.utils.visualize import visualize_detection\n",
    "from matplotlib import pyplot as plt\n",
    "from PIL import Image"
   ]
  },
  {
   "cell_type": "code",
   "execution_count": 3,
   "id": "72fe2876",
   "metadata": {},
   "outputs": [],
   "source": [
    "# 定义全局变量\n",
    "\n",
    "# 随机种子\n",
    "SEED = 52980\n",
    "# 数据集存放目录\n",
    "DATA_DIR = 'C:/Users/Administrator/diwu_pre/baidu/jice/data/'\n",
    "# 训练集`file_list`文件路径\n",
    "\n",
    "# 验证集`file_list`文件路径\n",
    "\n",
    "# 测试集`file_list`文件路径\n",
    "TEST_FILE_LIST_PATH = 'C:/Users/Administrator/diwu_pre/baidu/jice/data/test.txt'\n",
    "# 数据集类别信息文件路径\n",
    "LABEL_LIST_PATH = 'C:/Users/Administrator/diwu_pre/baidu/jice/data/labels.txt'\n",
    "# 实验目录，保存输出的模型权重和结果\n",
    "EXP_DIR =  'C:/Users/Administrator/diwu_pre/baidu/jice/exp/'\n",
    "# 目标类别\n",
    "CLASS = 'playground'\n",
    "# 模型验证阶段输入影像尺寸\n",
    "INPUT_SIZE = 608"
   ]
  },
  {
   "cell_type": "code",
   "execution_count": 4,
   "id": "df27e949",
   "metadata": {},
   "outputs": [
    {
     "data": {
      "text/plain": [
       "<paddle.fluid.core_avx.Generator at 0x27856b2a6b0>"
      ]
     },
     "execution_count": 4,
     "metadata": {},
     "output_type": "execute_result"
    }
   ],
   "source": [
    "# 固定随机种子，尽可能使实验结果可复现\n",
    "\n",
    "random.seed(SEED)\n",
    "np.random.seed(SEED)\n",
    "paddle.seed(SEED)"
   ]
  },
  {
   "cell_type": "code",
   "execution_count": 5,
   "id": "b409c979",
   "metadata": {},
   "outputs": [],
   "source": [
    "# 构建数据集\n",
    "\n",
    "\n",
    "eval_transforms = T.Compose([\n",
    "    # 使用双三次插值将输入影像缩放到固定大小\n",
    "    T.Resize(\n",
    "        target_size=INPUT_SIZE, interp='CUBIC'\n",
    "    ),\n",
    "    # 验证阶段与训练阶段的归一化方式必须相同\n",
    "    T.Normalize(\n",
    "        mean=[0.485, 0.456, 0.406], std=[0.229, 0.224, 0.225]\n",
    "    )\n",
    "])\n",
    "\n",
    "\n",
    "\n",
    "# 分别构建训练和验证所用的数据集"
   ]
  },
  {
   "cell_type": "code",
   "execution_count": 6,
   "id": "08d130d9",
   "metadata": {},
   "outputs": [
    {
     "name": "stdout",
     "output_type": "stream",
     "text": [
      "2022-07-05 14:52:57 [INFO]\tLoading pretrained model from C:/Users/Administrator/diwu_pre/baidu/jice/exp/pretrain\\ppyolo_r50vd_dcn_2x_coco.pdparams\n",
      "2022-07-05 14:52:58 [WARNING]\t[SKIP] Shape of pretrained params yolo_head.yolo_output.0.weight doesn't match.(Pretrained: (258, 1024, 1, 1), Actual: [21, 1024, 1, 1])\n",
      "2022-07-05 14:52:58 [WARNING]\t[SKIP] Shape of pretrained params yolo_head.yolo_output.0.bias doesn't match.(Pretrained: (258,), Actual: [21])\n",
      "2022-07-05 14:52:58 [WARNING]\t[SKIP] Shape of pretrained params yolo_head.yolo_output.1.weight doesn't match.(Pretrained: (258, 512, 1, 1), Actual: [21, 512, 1, 1])\n",
      "2022-07-05 14:52:58 [WARNING]\t[SKIP] Shape of pretrained params yolo_head.yolo_output.1.bias doesn't match.(Pretrained: (258,), Actual: [21])\n",
      "2022-07-05 14:52:58 [WARNING]\t[SKIP] Shape of pretrained params yolo_head.yolo_output.2.weight doesn't match.(Pretrained: (258, 256, 1, 1), Actual: [21, 256, 1, 1])\n",
      "2022-07-05 14:52:58 [WARNING]\t[SKIP] Shape of pretrained params yolo_head.yolo_output.2.bias doesn't match.(Pretrained: (258,), Actual: [21])\n",
      "2022-07-05 14:52:59 [INFO]\tThere are 386/392 variables loaded into PPYOLO.\n"
     ]
    }
   ],
   "source": [
    "# 构建PP-YOLO模型\n",
    "model = pdrs.tasks.PPYOLO(num_classes=1)\n",
    "model.net_initialize(\n",
    "    pretrain_weights='COCO',\n",
    "    save_dir=osp.join(EXP_DIR, 'pretrain'),\n",
    "    resume_checkpoint=None,\n",
    "    is_backbone_weights=False\n",
    ")"
   ]
  },
  {
   "cell_type": "code",
   "execution_count": 8,
   "id": "aef0961b",
   "metadata": {},
   "outputs": [
    {
     "name": "stdout",
     "output_type": "stream",
     "text": [
      "2022-07-05 14:54:04 [INFO]\tStarting to read file list from dataset...\n",
      "2022-07-05 14:54:04 [INFO]\t1 samples in file C:/Users/Administrator/diwu_pre/baidu/jice/data/test.txt, including 1 positive samples and 0 negative samples.\n",
      "creating index...\n",
      "index created!\n",
      "<paddlers.datasets.voc.VOCDetection object at 0x0000027826391B20>\n",
      "2022-07-05 14:54:05 [INFO]\tStart to evaluate(total_samples=1, total_steps=1)...\n"
     ]
    },
    {
     "ename": "ValueError",
     "evalue": "(InvalidArgument) yolo_box(): argument 'X' (position 0) must be Tensor, but got Tensor (at ..\\paddle\\fluid\\pybind\\op_function_common.cc:805)\n",
     "output_type": "error",
     "traceback": [
      "\u001b[1;31m---------------------------------------------------------------------------\u001b[0m",
      "\u001b[1;31mValueError\u001b[0m                                Traceback (most recent call last)",
      "Input \u001b[1;32mIn [8]\u001b[0m, in \u001b[0;36m<cell line: 16>\u001b[1;34m()\u001b[0m\n\u001b[0;32m     14\u001b[0m \u001b[38;5;28mprint\u001b[39m(test_dataset)\n\u001b[0;32m     15\u001b[0m \u001b[38;5;66;03m# 执行测试\u001b[39;00m\n\u001b[1;32m---> 16\u001b[0m test_result \u001b[38;5;241m=\u001b[39m \u001b[43mmodel\u001b[49m\u001b[38;5;241;43m.\u001b[39;49m\u001b[43mevaluate\u001b[49m\u001b[43m(\u001b[49m\u001b[43mtest_dataset\u001b[49m\u001b[43m)\u001b[49m\n\u001b[0;32m     17\u001b[0m \u001b[38;5;28mprint\u001b[39m(\n\u001b[0;32m     18\u001b[0m     \u001b[38;5;124m\"\u001b[39m\u001b[38;5;124m测试集上指标：bbox mAP为\u001b[39m\u001b[38;5;132;01m{:.2f}\u001b[39;00m\u001b[38;5;124m\"\u001b[39m\u001b[38;5;241m.\u001b[39mformat(\n\u001b[0;32m     19\u001b[0m         test_result[\u001b[38;5;124m'\u001b[39m\u001b[38;5;124mbbox_map\u001b[39m\u001b[38;5;124m'\u001b[39m],\n\u001b[0;32m     20\u001b[0m     )\n\u001b[0;32m     21\u001b[0m )\n",
      "File \u001b[1;32mD:\\Anaconda3\\envs\\paddle\\lib\\site-packages\\paddlers-0.0.1-py3.9.egg\\paddlers\\tasks\\object_detector.py:499\u001b[0m, in \u001b[0;36mBaseDetector.evaluate\u001b[1;34m(self, eval_dataset, batch_size, metric, return_details)\u001b[0m\n\u001b[0;32m    497\u001b[0m \u001b[38;5;28;01mwith\u001b[39;00m paddle\u001b[38;5;241m.\u001b[39mno_grad():\n\u001b[0;32m    498\u001b[0m     \u001b[38;5;28;01mfor\u001b[39;00m step, data \u001b[38;5;129;01min\u001b[39;00m \u001b[38;5;28menumerate\u001b[39m(\u001b[38;5;28mself\u001b[39m\u001b[38;5;241m.\u001b[39meval_data_loader):\n\u001b[1;32m--> 499\u001b[0m         outputs \u001b[38;5;241m=\u001b[39m \u001b[38;5;28;43mself\u001b[39;49m\u001b[38;5;241;43m.\u001b[39;49m\u001b[43mrun\u001b[49m\u001b[43m(\u001b[49m\u001b[38;5;28;43mself\u001b[39;49m\u001b[38;5;241;43m.\u001b[39;49m\u001b[43mnet\u001b[49m\u001b[43m,\u001b[49m\u001b[43m \u001b[49m\u001b[43mdata\u001b[49m\u001b[43m,\u001b[49m\u001b[43m \u001b[49m\u001b[38;5;124;43m'\u001b[39;49m\u001b[38;5;124;43meval\u001b[39;49m\u001b[38;5;124;43m'\u001b[39;49m\u001b[43m)\u001b[49m\n\u001b[0;32m    500\u001b[0m         eval_metric\u001b[38;5;241m.\u001b[39mupdate(data, outputs)\n\u001b[0;32m    501\u001b[0m     eval_metric\u001b[38;5;241m.\u001b[39maccumulate()\n",
      "File \u001b[1;32mD:\\Anaconda3\\envs\\paddle\\lib\\site-packages\\paddlers-0.0.1-py3.9.egg\\paddlers\\tasks\\object_detector.py:105\u001b[0m, in \u001b[0;36mBaseDetector.run\u001b[1;34m(self, net, inputs, mode)\u001b[0m\n\u001b[0;32m    104\u001b[0m \u001b[38;5;28;01mdef\u001b[39;00m \u001b[38;5;21mrun\u001b[39m(\u001b[38;5;28mself\u001b[39m, net, inputs, mode):\n\u001b[1;32m--> 105\u001b[0m     net_out \u001b[38;5;241m=\u001b[39m \u001b[43mnet\u001b[49m\u001b[43m(\u001b[49m\u001b[43minputs\u001b[49m\u001b[43m)\u001b[49m\n\u001b[0;32m    106\u001b[0m     \u001b[38;5;28;01mif\u001b[39;00m mode \u001b[38;5;129;01min\u001b[39;00m [\u001b[38;5;124m'\u001b[39m\u001b[38;5;124mtrain\u001b[39m\u001b[38;5;124m'\u001b[39m, \u001b[38;5;124m'\u001b[39m\u001b[38;5;124meval\u001b[39m\u001b[38;5;124m'\u001b[39m]:\n\u001b[0;32m    107\u001b[0m         outputs \u001b[38;5;241m=\u001b[39m net_out\n",
      "File \u001b[1;32mD:\\Anaconda3\\envs\\paddle\\lib\\site-packages\\paddle\\fluid\\dygraph\\layers.py:927\u001b[0m, in \u001b[0;36mLayer.__call__\u001b[1;34m(self, *inputs, **kwargs)\u001b[0m\n\u001b[0;32m    924\u001b[0m \u001b[38;5;28;01mif\u001b[39;00m (\u001b[38;5;129;01mnot\u001b[39;00m in_declarative_mode()) \u001b[38;5;129;01mand\u001b[39;00m (\u001b[38;5;129;01mnot\u001b[39;00m \u001b[38;5;28mself\u001b[39m\u001b[38;5;241m.\u001b[39m_forward_pre_hooks) \\\n\u001b[0;32m    925\u001b[0m     \u001b[38;5;129;01mand\u001b[39;00m (\u001b[38;5;129;01mnot\u001b[39;00m \u001b[38;5;28mself\u001b[39m\u001b[38;5;241m.\u001b[39m_forward_post_hooks) \u001b[38;5;129;01mand\u001b[39;00m (\u001b[38;5;129;01mnot\u001b[39;00m \u001b[38;5;28mself\u001b[39m\u001b[38;5;241m.\u001b[39m_built) \u001b[38;5;129;01mand\u001b[39;00m in_dygraph_mode() \u001b[38;5;129;01mand\u001b[39;00m (\u001b[38;5;129;01mnot\u001b[39;00m in_profiler_mode()):\n\u001b[0;32m    926\u001b[0m     \u001b[38;5;28mself\u001b[39m\u001b[38;5;241m.\u001b[39m_build_once(\u001b[38;5;241m*\u001b[39minputs, \u001b[38;5;241m*\u001b[39m\u001b[38;5;241m*\u001b[39mkwargs)\n\u001b[1;32m--> 927\u001b[0m     \u001b[38;5;28;01mreturn\u001b[39;00m \u001b[38;5;28mself\u001b[39m\u001b[38;5;241m.\u001b[39mforward(\u001b[38;5;241m*\u001b[39minputs, \u001b[38;5;241m*\u001b[39m\u001b[38;5;241m*\u001b[39mkwargs)\n\u001b[0;32m    928\u001b[0m \u001b[38;5;28;01melse\u001b[39;00m:\n\u001b[0;32m    929\u001b[0m     \u001b[38;5;28;01mreturn\u001b[39;00m \u001b[38;5;28mself\u001b[39m\u001b[38;5;241m.\u001b[39m_dygraph_call_func(\u001b[38;5;241m*\u001b[39minputs, \u001b[38;5;241m*\u001b[39m\u001b[38;5;241m*\u001b[39mkwargs)\n",
      "File \u001b[1;32mD:\\Anaconda3\\envs\\paddle\\lib\\site-packages\\paddlers-0.0.1-py3.9.egg\\paddlers\\models\\ppdet\\modeling\\architectures\\meta_arch.py:71\u001b[0m, in \u001b[0;36mBaseArch.forward\u001b[1;34m(self, inputs)\u001b[0m\n\u001b[0;32m     69\u001b[0m \u001b[38;5;28;01mfor\u001b[39;00m inp \u001b[38;5;129;01min\u001b[39;00m inputs_list:\n\u001b[0;32m     70\u001b[0m     \u001b[38;5;28mself\u001b[39m\u001b[38;5;241m.\u001b[39minputs \u001b[38;5;241m=\u001b[39m inp\n\u001b[1;32m---> 71\u001b[0m     outs\u001b[38;5;241m.\u001b[39mappend(\u001b[38;5;28;43mself\u001b[39;49m\u001b[38;5;241;43m.\u001b[39;49m\u001b[43mget_pred\u001b[49m\u001b[43m(\u001b[49m\u001b[43m)\u001b[49m)\n\u001b[0;32m     73\u001b[0m \u001b[38;5;66;03m# multi-scale test\u001b[39;00m\n\u001b[0;32m     74\u001b[0m \u001b[38;5;28;01mif\u001b[39;00m \u001b[38;5;28mlen\u001b[39m(outs) \u001b[38;5;241m>\u001b[39m \u001b[38;5;241m1\u001b[39m:\n",
      "File \u001b[1;32mD:\\Anaconda3\\envs\\paddle\\lib\\site-packages\\paddlers-0.0.1-py3.9.egg\\paddlers\\models\\ppdet\\modeling\\architectures\\yolo.py:124\u001b[0m, in \u001b[0;36mYOLOv3.get_pred\u001b[1;34m(self)\u001b[0m\n\u001b[0;32m    123\u001b[0m \u001b[38;5;28;01mdef\u001b[39;00m \u001b[38;5;21mget_pred\u001b[39m(\u001b[38;5;28mself\u001b[39m):\n\u001b[1;32m--> 124\u001b[0m     \u001b[38;5;28;01mreturn\u001b[39;00m \u001b[38;5;28;43mself\u001b[39;49m\u001b[38;5;241;43m.\u001b[39;49m\u001b[43m_forward\u001b[49m\u001b[43m(\u001b[49m\u001b[43m)\u001b[49m\n",
      "File \u001b[1;32mD:\\Anaconda3\\envs\\paddle\\lib\\site-packages\\paddlers-0.0.1-py3.9.egg\\paddlers\\models\\ppdet\\modeling\\architectures\\yolo.py:113\u001b[0m, in \u001b[0;36mYOLOv3._forward\u001b[1;34m(self)\u001b[0m\n\u001b[0;32m    110\u001b[0m         _, bbox, bbox_num, _ \u001b[38;5;241m=\u001b[39m \u001b[38;5;28mself\u001b[39m\u001b[38;5;241m.\u001b[39mpost_process(\n\u001b[0;32m    111\u001b[0m             yolo_head_outs, \u001b[38;5;28mself\u001b[39m\u001b[38;5;241m.\u001b[39myolo_head\u001b[38;5;241m.\u001b[39mmask_anchors)\n\u001b[0;32m    112\u001b[0m     \u001b[38;5;28;01melse\u001b[39;00m:\n\u001b[1;32m--> 113\u001b[0m         bbox, bbox_num \u001b[38;5;241m=\u001b[39m \u001b[38;5;28;43mself\u001b[39;49m\u001b[38;5;241;43m.\u001b[39;49m\u001b[43mpost_process\u001b[49m\u001b[43m(\u001b[49m\n\u001b[0;32m    114\u001b[0m \u001b[43m            \u001b[49m\u001b[43myolo_head_outs\u001b[49m\u001b[43m,\u001b[49m\u001b[43m \u001b[49m\u001b[38;5;28;43mself\u001b[39;49m\u001b[38;5;241;43m.\u001b[39;49m\u001b[43myolo_head\u001b[49m\u001b[38;5;241;43m.\u001b[39;49m\u001b[43mmask_anchors\u001b[49m\u001b[43m,\u001b[49m\n\u001b[0;32m    115\u001b[0m \u001b[43m            \u001b[49m\u001b[38;5;28;43mself\u001b[39;49m\u001b[38;5;241;43m.\u001b[39;49m\u001b[43minputs\u001b[49m\u001b[43m[\u001b[49m\u001b[38;5;124;43m'\u001b[39;49m\u001b[38;5;124;43mim_shape\u001b[39;49m\u001b[38;5;124;43m'\u001b[39;49m\u001b[43m]\u001b[49m\u001b[43m,\u001b[49m\u001b[43m \u001b[49m\u001b[38;5;28;43mself\u001b[39;49m\u001b[38;5;241;43m.\u001b[39;49m\u001b[43minputs\u001b[49m\u001b[43m[\u001b[49m\u001b[38;5;124;43m'\u001b[39;49m\u001b[38;5;124;43mscale_factor\u001b[39;49m\u001b[38;5;124;43m'\u001b[39;49m\u001b[43m]\u001b[49m\u001b[43m)\u001b[49m\n\u001b[0;32m    116\u001b[0m     output \u001b[38;5;241m=\u001b[39m {\u001b[38;5;124m'\u001b[39m\u001b[38;5;124mbbox\u001b[39m\u001b[38;5;124m'\u001b[39m: bbox, \u001b[38;5;124m'\u001b[39m\u001b[38;5;124mbbox_num\u001b[39m\u001b[38;5;124m'\u001b[39m: bbox_num}\n\u001b[0;32m    118\u001b[0m \u001b[38;5;28;01mreturn\u001b[39;00m output\n",
      "File \u001b[1;32mD:\\Anaconda3\\envs\\paddle\\lib\\site-packages\\paddle\\fluid\\dygraph\\layers.py:927\u001b[0m, in \u001b[0;36mLayer.__call__\u001b[1;34m(self, *inputs, **kwargs)\u001b[0m\n\u001b[0;32m    924\u001b[0m \u001b[38;5;28;01mif\u001b[39;00m (\u001b[38;5;129;01mnot\u001b[39;00m in_declarative_mode()) \u001b[38;5;129;01mand\u001b[39;00m (\u001b[38;5;129;01mnot\u001b[39;00m \u001b[38;5;28mself\u001b[39m\u001b[38;5;241m.\u001b[39m_forward_pre_hooks) \\\n\u001b[0;32m    925\u001b[0m     \u001b[38;5;129;01mand\u001b[39;00m (\u001b[38;5;129;01mnot\u001b[39;00m \u001b[38;5;28mself\u001b[39m\u001b[38;5;241m.\u001b[39m_forward_post_hooks) \u001b[38;5;129;01mand\u001b[39;00m (\u001b[38;5;129;01mnot\u001b[39;00m \u001b[38;5;28mself\u001b[39m\u001b[38;5;241m.\u001b[39m_built) \u001b[38;5;129;01mand\u001b[39;00m in_dygraph_mode() \u001b[38;5;129;01mand\u001b[39;00m (\u001b[38;5;129;01mnot\u001b[39;00m in_profiler_mode()):\n\u001b[0;32m    926\u001b[0m     \u001b[38;5;28mself\u001b[39m\u001b[38;5;241m.\u001b[39m_build_once(\u001b[38;5;241m*\u001b[39minputs, \u001b[38;5;241m*\u001b[39m\u001b[38;5;241m*\u001b[39mkwargs)\n\u001b[1;32m--> 927\u001b[0m     \u001b[38;5;28;01mreturn\u001b[39;00m \u001b[38;5;28mself\u001b[39m\u001b[38;5;241m.\u001b[39mforward(\u001b[38;5;241m*\u001b[39minputs, \u001b[38;5;241m*\u001b[39m\u001b[38;5;241m*\u001b[39mkwargs)\n\u001b[0;32m    928\u001b[0m \u001b[38;5;28;01melse\u001b[39;00m:\n\u001b[0;32m    929\u001b[0m     \u001b[38;5;28;01mreturn\u001b[39;00m \u001b[38;5;28mself\u001b[39m\u001b[38;5;241m.\u001b[39m_dygraph_call_func(\u001b[38;5;241m*\u001b[39minputs, \u001b[38;5;241m*\u001b[39m\u001b[38;5;241m*\u001b[39mkwargs)\n",
      "File \u001b[1;32mD:\\Anaconda3\\envs\\paddle\\lib\\site-packages\\paddlers-0.0.1-py3.9.egg\\paddlers\\models\\ppdet\\modeling\\post_process.py:63\u001b[0m, in \u001b[0;36mBBoxPostProcess.forward\u001b[1;34m(self, head_out, rois, im_shape, scale_factor)\u001b[0m\n\u001b[0;32m     47\u001b[0m \u001b[38;5;124;03m\"\"\"\u001b[39;00m\n\u001b[0;32m     48\u001b[0m \u001b[38;5;124;03mDecode the bbox and do NMS if needed.\u001b[39;00m\n\u001b[0;32m     49\u001b[0m \n\u001b[1;32m   (...)\u001b[0m\n\u001b[0;32m     60\u001b[0m \u001b[38;5;124;03m        shape [1], and is N.\u001b[39;00m\n\u001b[0;32m     61\u001b[0m \u001b[38;5;124;03m\"\"\"\u001b[39;00m\n\u001b[0;32m     62\u001b[0m \u001b[38;5;28;01mif\u001b[39;00m \u001b[38;5;28mself\u001b[39m\u001b[38;5;241m.\u001b[39mnms \u001b[38;5;129;01mis\u001b[39;00m \u001b[38;5;129;01mnot\u001b[39;00m \u001b[38;5;28;01mNone\u001b[39;00m:\n\u001b[1;32m---> 63\u001b[0m     bboxes, score \u001b[38;5;241m=\u001b[39m \u001b[38;5;28;43mself\u001b[39;49m\u001b[38;5;241;43m.\u001b[39;49m\u001b[43mdecode\u001b[49m\u001b[43m(\u001b[49m\u001b[43mhead_out\u001b[49m\u001b[43m,\u001b[49m\u001b[43m \u001b[49m\u001b[43mrois\u001b[49m\u001b[43m,\u001b[49m\u001b[43m \u001b[49m\u001b[43mim_shape\u001b[49m\u001b[43m,\u001b[49m\u001b[43m \u001b[49m\u001b[43mscale_factor\u001b[49m\u001b[43m)\u001b[49m\n\u001b[0;32m     64\u001b[0m     bbox_pred, bbox_num, _ \u001b[38;5;241m=\u001b[39m \u001b[38;5;28mself\u001b[39m\u001b[38;5;241m.\u001b[39mnms(bboxes, score, \u001b[38;5;28mself\u001b[39m\u001b[38;5;241m.\u001b[39mnum_classes)\n\u001b[0;32m     65\u001b[0m \u001b[38;5;28;01melse\u001b[39;00m:\n",
      "File \u001b[1;32mD:\\Anaconda3\\envs\\paddle\\lib\\site-packages\\paddlers-0.0.1-py3.9.egg\\paddlers\\models\\ppdet\\modeling\\layers.py:542\u001b[0m, in \u001b[0;36mYOLOBox.__call__\u001b[1;34m(self, yolo_head_out, anchors, im_shape, scale_factor, var_weight)\u001b[0m\n\u001b[0;32m    540\u001b[0m origin_shape \u001b[38;5;241m=\u001b[39m paddle\u001b[38;5;241m.\u001b[39mcast(origin_shape, \u001b[38;5;124m'\u001b[39m\u001b[38;5;124mint32\u001b[39m\u001b[38;5;124m'\u001b[39m)\n\u001b[0;32m    541\u001b[0m \u001b[38;5;28;01mfor\u001b[39;00m i, head_out \u001b[38;5;129;01min\u001b[39;00m \u001b[38;5;28menumerate\u001b[39m(yolo_head_out):\n\u001b[1;32m--> 542\u001b[0m     boxes, scores \u001b[38;5;241m=\u001b[39m \u001b[43mops\u001b[49m\u001b[38;5;241;43m.\u001b[39;49m\u001b[43myolo_box\u001b[49m\u001b[43m(\u001b[49m\u001b[43mhead_out\u001b[49m\u001b[43m,\u001b[49m\u001b[43m \u001b[49m\u001b[43morigin_shape\u001b[49m\u001b[43m,\u001b[49m\u001b[43m \u001b[49m\u001b[43manchors\u001b[49m\u001b[43m[\u001b[49m\u001b[43mi\u001b[49m\u001b[43m]\u001b[49m\u001b[43m,\u001b[49m\n\u001b[0;32m    543\u001b[0m \u001b[43m                                 \u001b[49m\u001b[38;5;28;43mself\u001b[39;49m\u001b[38;5;241;43m.\u001b[39;49m\u001b[43mnum_classes\u001b[49m\u001b[43m,\u001b[49m\u001b[43m \u001b[49m\u001b[38;5;28;43mself\u001b[39;49m\u001b[38;5;241;43m.\u001b[39;49m\u001b[43mconf_thresh\u001b[49m\u001b[43m,\u001b[49m\n\u001b[0;32m    544\u001b[0m \u001b[43m                                 \u001b[49m\u001b[38;5;28;43mself\u001b[39;49m\u001b[38;5;241;43m.\u001b[39;49m\u001b[43mdownsample_ratio\u001b[49m\u001b[43m \u001b[49m\u001b[38;5;241;43m/\u001b[39;49m\u001b[38;5;241;43m/\u001b[39;49m\u001b[43m \u001b[49m\u001b[38;5;241;43m2\u001b[39;49m\u001b[38;5;241;43m*\u001b[39;49m\u001b[38;5;241;43m*\u001b[39;49m\u001b[43mi\u001b[49m\u001b[43m,\u001b[49m\n\u001b[0;32m    545\u001b[0m \u001b[43m                                 \u001b[49m\u001b[38;5;28;43mself\u001b[39;49m\u001b[38;5;241;43m.\u001b[39;49m\u001b[43mclip_bbox\u001b[49m\u001b[43m,\u001b[49m\u001b[43m \u001b[49m\u001b[38;5;28;43mself\u001b[39;49m\u001b[38;5;241;43m.\u001b[39;49m\u001b[43mscale_x_y\u001b[49m\u001b[43m)\u001b[49m\n\u001b[0;32m    546\u001b[0m     boxes_list\u001b[38;5;241m.\u001b[39mappend(boxes)\n\u001b[0;32m    547\u001b[0m     scores_list\u001b[38;5;241m.\u001b[39mappend(paddle\u001b[38;5;241m.\u001b[39mtranspose(scores, perm\u001b[38;5;241m=\u001b[39m[\u001b[38;5;241m0\u001b[39m, \u001b[38;5;241m2\u001b[39m, \u001b[38;5;241m1\u001b[39m]))\n",
      "File \u001b[1;32mD:\\Anaconda3\\envs\\paddle\\lib\\site-packages\\paddlers-0.0.1-py3.9.egg\\paddlers\\models\\ppdet\\modeling\\ops.py:700\u001b[0m, in \u001b[0;36myolo_box\u001b[1;34m(x, origin_shape, anchors, class_num, conf_thresh, downsample_ratio, clip_bbox, scale_x_y, name)\u001b[0m\n\u001b[0;32m    696\u001b[0m \u001b[38;5;28;01mif\u001b[39;00m in_dygraph_mode():\n\u001b[0;32m    697\u001b[0m     attrs \u001b[38;5;241m=\u001b[39m (\u001b[38;5;124m'\u001b[39m\u001b[38;5;124manchors\u001b[39m\u001b[38;5;124m'\u001b[39m, anchors, \u001b[38;5;124m'\u001b[39m\u001b[38;5;124mclass_num\u001b[39m\u001b[38;5;124m'\u001b[39m, class_num, \u001b[38;5;124m'\u001b[39m\u001b[38;5;124mconf_thresh\u001b[39m\u001b[38;5;124m'\u001b[39m,\n\u001b[0;32m    698\u001b[0m              conf_thresh, \u001b[38;5;124m'\u001b[39m\u001b[38;5;124mdownsample_ratio\u001b[39m\u001b[38;5;124m'\u001b[39m, downsample_ratio,\n\u001b[0;32m    699\u001b[0m              \u001b[38;5;124m'\u001b[39m\u001b[38;5;124mclip_bbox\u001b[39m\u001b[38;5;124m'\u001b[39m, clip_bbox, \u001b[38;5;124m'\u001b[39m\u001b[38;5;124mscale_x_y\u001b[39m\u001b[38;5;124m'\u001b[39m, scale_x_y)\n\u001b[1;32m--> 700\u001b[0m     boxes, scores \u001b[38;5;241m=\u001b[39m \u001b[43mcore\u001b[49m\u001b[38;5;241;43m.\u001b[39;49m\u001b[43mops\u001b[49m\u001b[38;5;241;43m.\u001b[39;49m\u001b[43myolo_box\u001b[49m\u001b[43m(\u001b[49m\u001b[43mx\u001b[49m\u001b[43m,\u001b[49m\u001b[43m \u001b[49m\u001b[43morigin_shape\u001b[49m\u001b[43m,\u001b[49m\u001b[43m \u001b[49m\u001b[38;5;241;43m*\u001b[39;49m\u001b[43mattrs\u001b[49m\u001b[43m)\u001b[49m\n\u001b[0;32m    701\u001b[0m     \u001b[38;5;28;01mreturn\u001b[39;00m boxes, scores\n\u001b[0;32m    702\u001b[0m \u001b[38;5;28;01melse\u001b[39;00m:\n",
      "\u001b[1;31mValueError\u001b[0m: (InvalidArgument) yolo_box(): argument 'X' (position 0) must be Tensor, but got Tensor (at ..\\paddle\\fluid\\pybind\\op_function_common.cc:805)\n"
     ]
    }
   ],
   "source": [
    "# 构建测试集\n",
    "test_dataset = pdrs.datasets.VOCDetection(\n",
    "    data_dir=DATA_DIR,\n",
    "    file_list=TEST_FILE_LIST_PATH,\n",
    "    label_list=LABEL_LIST_PATH,\n",
    "    transforms=eval_transforms,\n",
    "    shuffle=False\n",
    ")\n",
    "\n",
    "\n",
    "# 为模型加载历史最佳权重\n",
    "state_dict = paddle.load(osp.join(EXP_DIR, 'model.pdparams'))\n",
    "model.net.set_state_dict(state_dict)\n",
    "print(test_dataset)\n",
    "# 执行测试\n",
    "test_result = model.evaluate(test_dataset)\n",
    "print(\n",
    "    \"测试集上指标：bbox mAP为{:.2f}\".format(\n",
    "        test_result['bbox_map'],\n",
    "    )\n",
    ")"
   ]
  },
  {
   "cell_type": "code",
   "execution_count": 12,
   "id": "a7e092fb",
   "metadata": {},
   "outputs": [
    {
     "ename": "ValueError",
     "evalue": "(InvalidArgument) yolo_box(): argument 'X' (position 0) must be Tensor, but got Tensor (at ..\\paddle\\fluid\\pybind\\op_function_common.cc:805)\n",
     "output_type": "error",
     "traceback": [
      "\u001b[1;31m---------------------------------------------------------------------------\u001b[0m",
      "\u001b[1;31mValueError\u001b[0m                                Traceback (most recent call last)",
      "Input \u001b[1;32mIn [12]\u001b[0m, in \u001b[0;36m<cell line: 42>\u001b[1;34m()\u001b[0m\n\u001b[0;32m     47\u001b[0m gt \u001b[38;5;241m=\u001b[39m [\n\u001b[0;32m     48\u001b[0m     {\n\u001b[0;32m     49\u001b[0m         \u001b[38;5;124m'\u001b[39m\u001b[38;5;124mcategory_id\u001b[39m\u001b[38;5;124m'\u001b[39m: cid[\u001b[38;5;241m0\u001b[39m], \n\u001b[1;32m   (...)\u001b[0m\n\u001b[0;32m     54\u001b[0m     \u001b[38;5;28;01mfor\u001b[39;00m cid, bbox \u001b[38;5;129;01min\u001b[39;00m \u001b[38;5;28mzip\u001b[39m(sample[\u001b[38;5;124m'\u001b[39m\u001b[38;5;124mgt_class\u001b[39m\u001b[38;5;124m'\u001b[39m], sample[\u001b[38;5;124m'\u001b[39m\u001b[38;5;124mgt_bbox\u001b[39m\u001b[38;5;124m'\u001b[39m])\n\u001b[0;32m     55\u001b[0m ]\n\u001b[0;32m     57\u001b[0m im \u001b[38;5;241m=\u001b[39m cv2\u001b[38;5;241m.\u001b[39mresize(im[\u001b[38;5;241m.\u001b[39m\u001b[38;5;241m.\u001b[39m\u001b[38;5;241m.\u001b[39m,::\u001b[38;5;241m-\u001b[39m\u001b[38;5;241m1\u001b[39m], (INPUT_SIZE, INPUT_SIZE), interpolation\u001b[38;5;241m=\u001b[39mcv2\u001b[38;5;241m.\u001b[39mINTER_CUBIC)\n\u001b[1;32m---> 58\u001b[0m pred \u001b[38;5;241m=\u001b[39m \u001b[43mmodel\u001b[49m\u001b[38;5;241;43m.\u001b[39;49m\u001b[43mpredict\u001b[49m\u001b[43m(\u001b[49m\u001b[43mim\u001b[49m\u001b[43m,\u001b[49m\u001b[43m \u001b[49m\u001b[43meval_transforms\u001b[49m\u001b[43m)\u001b[49m\n\u001b[0;32m     60\u001b[0m vis \u001b[38;5;241m=\u001b[39m im\n\u001b[0;32m     61\u001b[0m \u001b[38;5;66;03m# 用绿色画出预测目标框\u001b[39;00m\n",
      "File \u001b[1;32mD:\\Anaconda3\\envs\\paddle\\lib\\site-packages\\paddlers-0.0.1-py3.9.egg\\paddlers\\tasks\\object_detector.py:540\u001b[0m, in \u001b[0;36mBaseDetector.predict\u001b[1;34m(self, img_file, transforms)\u001b[0m\n\u001b[0;32m    538\u001b[0m batch_samples \u001b[38;5;241m=\u001b[39m \u001b[38;5;28mself\u001b[39m\u001b[38;5;241m.\u001b[39m_preprocess(images, transforms)\n\u001b[0;32m    539\u001b[0m \u001b[38;5;28mself\u001b[39m\u001b[38;5;241m.\u001b[39mnet\u001b[38;5;241m.\u001b[39meval()\n\u001b[1;32m--> 540\u001b[0m outputs \u001b[38;5;241m=\u001b[39m \u001b[38;5;28;43mself\u001b[39;49m\u001b[38;5;241;43m.\u001b[39;49m\u001b[43mrun\u001b[49m\u001b[43m(\u001b[49m\u001b[38;5;28;43mself\u001b[39;49m\u001b[38;5;241;43m.\u001b[39;49m\u001b[43mnet\u001b[49m\u001b[43m,\u001b[49m\u001b[43m \u001b[49m\u001b[43mbatch_samples\u001b[49m\u001b[43m,\u001b[49m\u001b[43m \u001b[49m\u001b[38;5;124;43m'\u001b[39;49m\u001b[38;5;124;43mtest\u001b[39;49m\u001b[38;5;124;43m'\u001b[39;49m\u001b[43m)\u001b[49m\n\u001b[0;32m    541\u001b[0m prediction \u001b[38;5;241m=\u001b[39m \u001b[38;5;28mself\u001b[39m\u001b[38;5;241m.\u001b[39m_postprocess(outputs)\n\u001b[0;32m    543\u001b[0m \u001b[38;5;28;01mif\u001b[39;00m \u001b[38;5;28misinstance\u001b[39m(img_file, (\u001b[38;5;28mstr\u001b[39m, np\u001b[38;5;241m.\u001b[39mndarray)):\n",
      "File \u001b[1;32mD:\\Anaconda3\\envs\\paddle\\lib\\site-packages\\paddlers-0.0.1-py3.9.egg\\paddlers\\tasks\\object_detector.py:105\u001b[0m, in \u001b[0;36mBaseDetector.run\u001b[1;34m(self, net, inputs, mode)\u001b[0m\n\u001b[0;32m    104\u001b[0m \u001b[38;5;28;01mdef\u001b[39;00m \u001b[38;5;21mrun\u001b[39m(\u001b[38;5;28mself\u001b[39m, net, inputs, mode):\n\u001b[1;32m--> 105\u001b[0m     net_out \u001b[38;5;241m=\u001b[39m \u001b[43mnet\u001b[49m\u001b[43m(\u001b[49m\u001b[43minputs\u001b[49m\u001b[43m)\u001b[49m\n\u001b[0;32m    106\u001b[0m     \u001b[38;5;28;01mif\u001b[39;00m mode \u001b[38;5;129;01min\u001b[39;00m [\u001b[38;5;124m'\u001b[39m\u001b[38;5;124mtrain\u001b[39m\u001b[38;5;124m'\u001b[39m, \u001b[38;5;124m'\u001b[39m\u001b[38;5;124meval\u001b[39m\u001b[38;5;124m'\u001b[39m]:\n\u001b[0;32m    107\u001b[0m         outputs \u001b[38;5;241m=\u001b[39m net_out\n",
      "File \u001b[1;32mD:\\Anaconda3\\envs\\paddle\\lib\\site-packages\\paddle\\fluid\\dygraph\\layers.py:927\u001b[0m, in \u001b[0;36mLayer.__call__\u001b[1;34m(self, *inputs, **kwargs)\u001b[0m\n\u001b[0;32m    924\u001b[0m \u001b[38;5;28;01mif\u001b[39;00m (\u001b[38;5;129;01mnot\u001b[39;00m in_declarative_mode()) \u001b[38;5;129;01mand\u001b[39;00m (\u001b[38;5;129;01mnot\u001b[39;00m \u001b[38;5;28mself\u001b[39m\u001b[38;5;241m.\u001b[39m_forward_pre_hooks) \\\n\u001b[0;32m    925\u001b[0m     \u001b[38;5;129;01mand\u001b[39;00m (\u001b[38;5;129;01mnot\u001b[39;00m \u001b[38;5;28mself\u001b[39m\u001b[38;5;241m.\u001b[39m_forward_post_hooks) \u001b[38;5;129;01mand\u001b[39;00m (\u001b[38;5;129;01mnot\u001b[39;00m \u001b[38;5;28mself\u001b[39m\u001b[38;5;241m.\u001b[39m_built) \u001b[38;5;129;01mand\u001b[39;00m in_dygraph_mode() \u001b[38;5;129;01mand\u001b[39;00m (\u001b[38;5;129;01mnot\u001b[39;00m in_profiler_mode()):\n\u001b[0;32m    926\u001b[0m     \u001b[38;5;28mself\u001b[39m\u001b[38;5;241m.\u001b[39m_build_once(\u001b[38;5;241m*\u001b[39minputs, \u001b[38;5;241m*\u001b[39m\u001b[38;5;241m*\u001b[39mkwargs)\n\u001b[1;32m--> 927\u001b[0m     \u001b[38;5;28;01mreturn\u001b[39;00m \u001b[38;5;28mself\u001b[39m\u001b[38;5;241m.\u001b[39mforward(\u001b[38;5;241m*\u001b[39minputs, \u001b[38;5;241m*\u001b[39m\u001b[38;5;241m*\u001b[39mkwargs)\n\u001b[0;32m    928\u001b[0m \u001b[38;5;28;01melse\u001b[39;00m:\n\u001b[0;32m    929\u001b[0m     \u001b[38;5;28;01mreturn\u001b[39;00m \u001b[38;5;28mself\u001b[39m\u001b[38;5;241m.\u001b[39m_dygraph_call_func(\u001b[38;5;241m*\u001b[39minputs, \u001b[38;5;241m*\u001b[39m\u001b[38;5;241m*\u001b[39mkwargs)\n",
      "File \u001b[1;32mD:\\Anaconda3\\envs\\paddle\\lib\\site-packages\\paddlers-0.0.1-py3.9.egg\\paddlers\\models\\ppdet\\modeling\\architectures\\meta_arch.py:71\u001b[0m, in \u001b[0;36mBaseArch.forward\u001b[1;34m(self, inputs)\u001b[0m\n\u001b[0;32m     69\u001b[0m \u001b[38;5;28;01mfor\u001b[39;00m inp \u001b[38;5;129;01min\u001b[39;00m inputs_list:\n\u001b[0;32m     70\u001b[0m     \u001b[38;5;28mself\u001b[39m\u001b[38;5;241m.\u001b[39minputs \u001b[38;5;241m=\u001b[39m inp\n\u001b[1;32m---> 71\u001b[0m     outs\u001b[38;5;241m.\u001b[39mappend(\u001b[38;5;28;43mself\u001b[39;49m\u001b[38;5;241;43m.\u001b[39;49m\u001b[43mget_pred\u001b[49m\u001b[43m(\u001b[49m\u001b[43m)\u001b[49m)\n\u001b[0;32m     73\u001b[0m \u001b[38;5;66;03m# multi-scale test\u001b[39;00m\n\u001b[0;32m     74\u001b[0m \u001b[38;5;28;01mif\u001b[39;00m \u001b[38;5;28mlen\u001b[39m(outs) \u001b[38;5;241m>\u001b[39m \u001b[38;5;241m1\u001b[39m:\n",
      "File \u001b[1;32mD:\\Anaconda3\\envs\\paddle\\lib\\site-packages\\paddlers-0.0.1-py3.9.egg\\paddlers\\models\\ppdet\\modeling\\architectures\\yolo.py:124\u001b[0m, in \u001b[0;36mYOLOv3.get_pred\u001b[1;34m(self)\u001b[0m\n\u001b[0;32m    123\u001b[0m \u001b[38;5;28;01mdef\u001b[39;00m \u001b[38;5;21mget_pred\u001b[39m(\u001b[38;5;28mself\u001b[39m):\n\u001b[1;32m--> 124\u001b[0m     \u001b[38;5;28;01mreturn\u001b[39;00m \u001b[38;5;28;43mself\u001b[39;49m\u001b[38;5;241;43m.\u001b[39;49m\u001b[43m_forward\u001b[49m\u001b[43m(\u001b[49m\u001b[43m)\u001b[49m\n",
      "File \u001b[1;32mD:\\Anaconda3\\envs\\paddle\\lib\\site-packages\\paddlers-0.0.1-py3.9.egg\\paddlers\\models\\ppdet\\modeling\\architectures\\yolo.py:113\u001b[0m, in \u001b[0;36mYOLOv3._forward\u001b[1;34m(self)\u001b[0m\n\u001b[0;32m    110\u001b[0m         _, bbox, bbox_num, _ \u001b[38;5;241m=\u001b[39m \u001b[38;5;28mself\u001b[39m\u001b[38;5;241m.\u001b[39mpost_process(\n\u001b[0;32m    111\u001b[0m             yolo_head_outs, \u001b[38;5;28mself\u001b[39m\u001b[38;5;241m.\u001b[39myolo_head\u001b[38;5;241m.\u001b[39mmask_anchors)\n\u001b[0;32m    112\u001b[0m     \u001b[38;5;28;01melse\u001b[39;00m:\n\u001b[1;32m--> 113\u001b[0m         bbox, bbox_num \u001b[38;5;241m=\u001b[39m \u001b[38;5;28;43mself\u001b[39;49m\u001b[38;5;241;43m.\u001b[39;49m\u001b[43mpost_process\u001b[49m\u001b[43m(\u001b[49m\n\u001b[0;32m    114\u001b[0m \u001b[43m            \u001b[49m\u001b[43myolo_head_outs\u001b[49m\u001b[43m,\u001b[49m\u001b[43m \u001b[49m\u001b[38;5;28;43mself\u001b[39;49m\u001b[38;5;241;43m.\u001b[39;49m\u001b[43myolo_head\u001b[49m\u001b[38;5;241;43m.\u001b[39;49m\u001b[43mmask_anchors\u001b[49m\u001b[43m,\u001b[49m\n\u001b[0;32m    115\u001b[0m \u001b[43m            \u001b[49m\u001b[38;5;28;43mself\u001b[39;49m\u001b[38;5;241;43m.\u001b[39;49m\u001b[43minputs\u001b[49m\u001b[43m[\u001b[49m\u001b[38;5;124;43m'\u001b[39;49m\u001b[38;5;124;43mim_shape\u001b[39;49m\u001b[38;5;124;43m'\u001b[39;49m\u001b[43m]\u001b[49m\u001b[43m,\u001b[49m\u001b[43m \u001b[49m\u001b[38;5;28;43mself\u001b[39;49m\u001b[38;5;241;43m.\u001b[39;49m\u001b[43minputs\u001b[49m\u001b[43m[\u001b[49m\u001b[38;5;124;43m'\u001b[39;49m\u001b[38;5;124;43mscale_factor\u001b[39;49m\u001b[38;5;124;43m'\u001b[39;49m\u001b[43m]\u001b[49m\u001b[43m)\u001b[49m\n\u001b[0;32m    116\u001b[0m     output \u001b[38;5;241m=\u001b[39m {\u001b[38;5;124m'\u001b[39m\u001b[38;5;124mbbox\u001b[39m\u001b[38;5;124m'\u001b[39m: bbox, \u001b[38;5;124m'\u001b[39m\u001b[38;5;124mbbox_num\u001b[39m\u001b[38;5;124m'\u001b[39m: bbox_num}\n\u001b[0;32m    118\u001b[0m \u001b[38;5;28;01mreturn\u001b[39;00m output\n",
      "File \u001b[1;32mD:\\Anaconda3\\envs\\paddle\\lib\\site-packages\\paddle\\fluid\\dygraph\\layers.py:927\u001b[0m, in \u001b[0;36mLayer.__call__\u001b[1;34m(self, *inputs, **kwargs)\u001b[0m\n\u001b[0;32m    924\u001b[0m \u001b[38;5;28;01mif\u001b[39;00m (\u001b[38;5;129;01mnot\u001b[39;00m in_declarative_mode()) \u001b[38;5;129;01mand\u001b[39;00m (\u001b[38;5;129;01mnot\u001b[39;00m \u001b[38;5;28mself\u001b[39m\u001b[38;5;241m.\u001b[39m_forward_pre_hooks) \\\n\u001b[0;32m    925\u001b[0m     \u001b[38;5;129;01mand\u001b[39;00m (\u001b[38;5;129;01mnot\u001b[39;00m \u001b[38;5;28mself\u001b[39m\u001b[38;5;241m.\u001b[39m_forward_post_hooks) \u001b[38;5;129;01mand\u001b[39;00m (\u001b[38;5;129;01mnot\u001b[39;00m \u001b[38;5;28mself\u001b[39m\u001b[38;5;241m.\u001b[39m_built) \u001b[38;5;129;01mand\u001b[39;00m in_dygraph_mode() \u001b[38;5;129;01mand\u001b[39;00m (\u001b[38;5;129;01mnot\u001b[39;00m in_profiler_mode()):\n\u001b[0;32m    926\u001b[0m     \u001b[38;5;28mself\u001b[39m\u001b[38;5;241m.\u001b[39m_build_once(\u001b[38;5;241m*\u001b[39minputs, \u001b[38;5;241m*\u001b[39m\u001b[38;5;241m*\u001b[39mkwargs)\n\u001b[1;32m--> 927\u001b[0m     \u001b[38;5;28;01mreturn\u001b[39;00m \u001b[38;5;28mself\u001b[39m\u001b[38;5;241m.\u001b[39mforward(\u001b[38;5;241m*\u001b[39minputs, \u001b[38;5;241m*\u001b[39m\u001b[38;5;241m*\u001b[39mkwargs)\n\u001b[0;32m    928\u001b[0m \u001b[38;5;28;01melse\u001b[39;00m:\n\u001b[0;32m    929\u001b[0m     \u001b[38;5;28;01mreturn\u001b[39;00m \u001b[38;5;28mself\u001b[39m\u001b[38;5;241m.\u001b[39m_dygraph_call_func(\u001b[38;5;241m*\u001b[39minputs, \u001b[38;5;241m*\u001b[39m\u001b[38;5;241m*\u001b[39mkwargs)\n",
      "File \u001b[1;32mD:\\Anaconda3\\envs\\paddle\\lib\\site-packages\\paddlers-0.0.1-py3.9.egg\\paddlers\\models\\ppdet\\modeling\\post_process.py:63\u001b[0m, in \u001b[0;36mBBoxPostProcess.forward\u001b[1;34m(self, head_out, rois, im_shape, scale_factor)\u001b[0m\n\u001b[0;32m     47\u001b[0m \u001b[38;5;124;03m\"\"\"\u001b[39;00m\n\u001b[0;32m     48\u001b[0m \u001b[38;5;124;03mDecode the bbox and do NMS if needed.\u001b[39;00m\n\u001b[0;32m     49\u001b[0m \n\u001b[1;32m   (...)\u001b[0m\n\u001b[0;32m     60\u001b[0m \u001b[38;5;124;03m        shape [1], and is N.\u001b[39;00m\n\u001b[0;32m     61\u001b[0m \u001b[38;5;124;03m\"\"\"\u001b[39;00m\n\u001b[0;32m     62\u001b[0m \u001b[38;5;28;01mif\u001b[39;00m \u001b[38;5;28mself\u001b[39m\u001b[38;5;241m.\u001b[39mnms \u001b[38;5;129;01mis\u001b[39;00m \u001b[38;5;129;01mnot\u001b[39;00m \u001b[38;5;28;01mNone\u001b[39;00m:\n\u001b[1;32m---> 63\u001b[0m     bboxes, score \u001b[38;5;241m=\u001b[39m \u001b[38;5;28;43mself\u001b[39;49m\u001b[38;5;241;43m.\u001b[39;49m\u001b[43mdecode\u001b[49m\u001b[43m(\u001b[49m\u001b[43mhead_out\u001b[49m\u001b[43m,\u001b[49m\u001b[43m \u001b[49m\u001b[43mrois\u001b[49m\u001b[43m,\u001b[49m\u001b[43m \u001b[49m\u001b[43mim_shape\u001b[49m\u001b[43m,\u001b[49m\u001b[43m \u001b[49m\u001b[43mscale_factor\u001b[49m\u001b[43m)\u001b[49m\n\u001b[0;32m     64\u001b[0m     bbox_pred, bbox_num, _ \u001b[38;5;241m=\u001b[39m \u001b[38;5;28mself\u001b[39m\u001b[38;5;241m.\u001b[39mnms(bboxes, score, \u001b[38;5;28mself\u001b[39m\u001b[38;5;241m.\u001b[39mnum_classes)\n\u001b[0;32m     65\u001b[0m \u001b[38;5;28;01melse\u001b[39;00m:\n",
      "File \u001b[1;32mD:\\Anaconda3\\envs\\paddle\\lib\\site-packages\\paddlers-0.0.1-py3.9.egg\\paddlers\\models\\ppdet\\modeling\\layers.py:542\u001b[0m, in \u001b[0;36mYOLOBox.__call__\u001b[1;34m(self, yolo_head_out, anchors, im_shape, scale_factor, var_weight)\u001b[0m\n\u001b[0;32m    540\u001b[0m origin_shape \u001b[38;5;241m=\u001b[39m paddle\u001b[38;5;241m.\u001b[39mcast(origin_shape, \u001b[38;5;124m'\u001b[39m\u001b[38;5;124mint32\u001b[39m\u001b[38;5;124m'\u001b[39m)\n\u001b[0;32m    541\u001b[0m \u001b[38;5;28;01mfor\u001b[39;00m i, head_out \u001b[38;5;129;01min\u001b[39;00m \u001b[38;5;28menumerate\u001b[39m(yolo_head_out):\n\u001b[1;32m--> 542\u001b[0m     boxes, scores \u001b[38;5;241m=\u001b[39m \u001b[43mops\u001b[49m\u001b[38;5;241;43m.\u001b[39;49m\u001b[43myolo_box\u001b[49m\u001b[43m(\u001b[49m\u001b[43mhead_out\u001b[49m\u001b[43m,\u001b[49m\u001b[43m \u001b[49m\u001b[43morigin_shape\u001b[49m\u001b[43m,\u001b[49m\u001b[43m \u001b[49m\u001b[43manchors\u001b[49m\u001b[43m[\u001b[49m\u001b[43mi\u001b[49m\u001b[43m]\u001b[49m\u001b[43m,\u001b[49m\n\u001b[0;32m    543\u001b[0m \u001b[43m                                 \u001b[49m\u001b[38;5;28;43mself\u001b[39;49m\u001b[38;5;241;43m.\u001b[39;49m\u001b[43mnum_classes\u001b[49m\u001b[43m,\u001b[49m\u001b[43m \u001b[49m\u001b[38;5;28;43mself\u001b[39;49m\u001b[38;5;241;43m.\u001b[39;49m\u001b[43mconf_thresh\u001b[49m\u001b[43m,\u001b[49m\n\u001b[0;32m    544\u001b[0m \u001b[43m                                 \u001b[49m\u001b[38;5;28;43mself\u001b[39;49m\u001b[38;5;241;43m.\u001b[39;49m\u001b[43mdownsample_ratio\u001b[49m\u001b[43m \u001b[49m\u001b[38;5;241;43m/\u001b[39;49m\u001b[38;5;241;43m/\u001b[39;49m\u001b[43m \u001b[49m\u001b[38;5;241;43m2\u001b[39;49m\u001b[38;5;241;43m*\u001b[39;49m\u001b[38;5;241;43m*\u001b[39;49m\u001b[43mi\u001b[49m\u001b[43m,\u001b[49m\n\u001b[0;32m    545\u001b[0m \u001b[43m                                 \u001b[49m\u001b[38;5;28;43mself\u001b[39;49m\u001b[38;5;241;43m.\u001b[39;49m\u001b[43mclip_bbox\u001b[49m\u001b[43m,\u001b[49m\u001b[43m \u001b[49m\u001b[38;5;28;43mself\u001b[39;49m\u001b[38;5;241;43m.\u001b[39;49m\u001b[43mscale_x_y\u001b[49m\u001b[43m)\u001b[49m\n\u001b[0;32m    546\u001b[0m     boxes_list\u001b[38;5;241m.\u001b[39mappend(boxes)\n\u001b[0;32m    547\u001b[0m     scores_list\u001b[38;5;241m.\u001b[39mappend(paddle\u001b[38;5;241m.\u001b[39mtranspose(scores, perm\u001b[38;5;241m=\u001b[39m[\u001b[38;5;241m0\u001b[39m, \u001b[38;5;241m2\u001b[39m, \u001b[38;5;241m1\u001b[39m]))\n",
      "File \u001b[1;32mD:\\Anaconda3\\envs\\paddle\\lib\\site-packages\\paddlers-0.0.1-py3.9.egg\\paddlers\\models\\ppdet\\modeling\\ops.py:700\u001b[0m, in \u001b[0;36myolo_box\u001b[1;34m(x, origin_shape, anchors, class_num, conf_thresh, downsample_ratio, clip_bbox, scale_x_y, name)\u001b[0m\n\u001b[0;32m    696\u001b[0m \u001b[38;5;28;01mif\u001b[39;00m in_dygraph_mode():\n\u001b[0;32m    697\u001b[0m     attrs \u001b[38;5;241m=\u001b[39m (\u001b[38;5;124m'\u001b[39m\u001b[38;5;124manchors\u001b[39m\u001b[38;5;124m'\u001b[39m, anchors, \u001b[38;5;124m'\u001b[39m\u001b[38;5;124mclass_num\u001b[39m\u001b[38;5;124m'\u001b[39m, class_num, \u001b[38;5;124m'\u001b[39m\u001b[38;5;124mconf_thresh\u001b[39m\u001b[38;5;124m'\u001b[39m,\n\u001b[0;32m    698\u001b[0m              conf_thresh, \u001b[38;5;124m'\u001b[39m\u001b[38;5;124mdownsample_ratio\u001b[39m\u001b[38;5;124m'\u001b[39m, downsample_ratio,\n\u001b[0;32m    699\u001b[0m              \u001b[38;5;124m'\u001b[39m\u001b[38;5;124mclip_bbox\u001b[39m\u001b[38;5;124m'\u001b[39m, clip_bbox, \u001b[38;5;124m'\u001b[39m\u001b[38;5;124mscale_x_y\u001b[39m\u001b[38;5;124m'\u001b[39m, scale_x_y)\n\u001b[1;32m--> 700\u001b[0m     boxes, scores \u001b[38;5;241m=\u001b[39m \u001b[43mcore\u001b[49m\u001b[38;5;241;43m.\u001b[39;49m\u001b[43mops\u001b[49m\u001b[38;5;241;43m.\u001b[39;49m\u001b[43myolo_box\u001b[49m\u001b[43m(\u001b[49m\u001b[43mx\u001b[49m\u001b[43m,\u001b[49m\u001b[43m \u001b[49m\u001b[43morigin_shape\u001b[49m\u001b[43m,\u001b[49m\u001b[43m \u001b[49m\u001b[38;5;241;43m*\u001b[39;49m\u001b[43mattrs\u001b[49m\u001b[43m)\u001b[49m\n\u001b[0;32m    701\u001b[0m     \u001b[38;5;28;01mreturn\u001b[39;00m boxes, scores\n\u001b[0;32m    702\u001b[0m \u001b[38;5;28;01melse\u001b[39;00m:\n",
      "\u001b[1;31mValueError\u001b[0m: (InvalidArgument) yolo_box(): argument 'X' (position 0) must be Tensor, but got Tensor (at ..\\paddle\\fluid\\pybind\\op_function_common.cc:805)\n"
     ]
    }
   ],
   "source": [
    "# 预测结果可视化\n",
    "# 重复运行本单元可以查看不同结果\n",
    "\n",
    "def read_rgb(path):\n",
    "    im = cv2.imread(path)\n",
    "    im = im[...,::-1]\n",
    "    return im\n",
    "\n",
    "\n",
    "def show_images_in_row(ims, fig, title='', lut=None):\n",
    "    n = len(ims)\n",
    "    fig.suptitle(title)\n",
    "    axs = fig.subplots(nrows=1, ncols=n)\n",
    "    for idx, (im, ax) in enumerate(zip(ims, axs)):\n",
    "        # 去掉刻度线和边框\n",
    "        ax.spines['top'].set_visible(False)\n",
    "        ax.spines['right'].set_visible(False)\n",
    "        ax.spines['bottom'].set_visible(False)\n",
    "        ax.spines['left'].set_visible(False)\n",
    "        ax.get_xaxis().set_ticks([])\n",
    "        ax.get_yaxis().set_ticks([])\n",
    "\n",
    "        ax.imshow(im)\n",
    "\n",
    "def get_lut():\n",
    "    lut = np.zeros((256,3), dtype=np.uint8)\n",
    "    lut[0] = [255, 0, 0]\n",
    "    lut[1] = [30, 255, 142]\n",
    "    lut[2] = [60, 0, 255]\n",
    "    lut[3] = [255, 222, 0]\n",
    "    lut[4] = [0, 0, 0]\n",
    "    return lut\n",
    "        \n",
    "# 需要展示的样本个数\n",
    "num_imgs_to_show = 4\n",
    "# 随机抽取样本\n",
    "chosen_indices = random.choices(range(len(test_dataset)), k=num_imgs_to_show)\n",
    "\n",
    "# 参考 https://stackoverflow.com/a/68209152\n",
    "fig = plt.figure(constrained_layout=True)\n",
    "fig.suptitle(\"Test Results\")\n",
    "\n",
    "subfigs = fig.subfigures(nrows=2, ncols=1)\n",
    "\n",
    "# 读取输入影像并显示\n",
    "ims = [read_rgb(test_dataset.file_list[idx]['image']) for idx in chosen_indices]\n",
    "show_images_in_row(ims, subfigs[0], title='Image')\n",
    "\n",
    "# 绘制目标框\n",
    "with paddle.no_grad():\n",
    "    vis_res = []\n",
    "    model.labels = test_dataset.labels\n",
    "    for idx, im in zip(chosen_indices, ims):\n",
    "        sample = test_dataset[idx]\n",
    "        gt = [\n",
    "            {\n",
    "                'category_id': cid[0], \n",
    "                'category': CLASS, \n",
    "                'bbox': [bbox[0], bbox[1], bbox[2]-bbox[0], bbox[3]-bbox[1]], \n",
    "                'score': 1.0\n",
    "            } \n",
    "            for cid, bbox in zip(sample['gt_class'], sample['gt_bbox'])\n",
    "        ]\n",
    "\n",
    "        im = cv2.resize(im[...,::-1], (INPUT_SIZE, INPUT_SIZE), interpolation=cv2.INTER_CUBIC)\n",
    "        pred = model.predict(im, eval_transforms)\n",
    "\n",
    "        vis = im\n",
    "        # 用绿色画出预测目标框\n",
    "        if len(pred) > 0:\n",
    "            vis = visualize_detection(\n",
    "                np.array(vis), pred, \n",
    "                color=np.asarray([[0,255,0]], dtype=np.uint8), \n",
    "                threshold=0.2, save_dir=None\n",
    "            )\n",
    "        # 用蓝色画出真实目标框\n",
    "        if len(gt) > 0:\n",
    "            vis = visualize_detection(\n",
    "                np.array(vis), gt, \n",
    "                color=np.asarray([[0,0,255]], dtype=np.uint8), \n",
    "                save_dir=None\n",
    "            )\n",
    "        vis_res.append(vis)\n",
    "show_images_in_row(vis_res, subfigs[1], title='Detection')\n",
    "im = Image.fromarray(get_lut()[vis_res[0]])\n",
    "im.save(\"jice/results/your_file.png\")\n",
    "# 渲染结果\n",
    "fig.canvas.draw()\n",
    "Image.frombytes('RGB', fig.canvas.get_width_height(), fig.canvas.tostring_rgb())"
   ]
  },
  {
   "cell_type": "code",
   "execution_count": null,
   "id": "f219064a",
   "metadata": {},
   "outputs": [],
   "source": []
  }
 ],
 "metadata": {
  "kernelspec": {
   "display_name": "paddle",
   "language": "python",
   "name": "paddle"
  },
  "language_info": {
   "codemirror_mode": {
    "name": "ipython",
    "version": 3
   },
   "file_extension": ".py",
   "mimetype": "text/x-python",
   "name": "python",
   "nbconvert_exporter": "python",
   "pygments_lexer": "ipython3",
   "version": "3.9.12"
  }
 },
 "nbformat": 4,
 "nbformat_minor": 5
}
