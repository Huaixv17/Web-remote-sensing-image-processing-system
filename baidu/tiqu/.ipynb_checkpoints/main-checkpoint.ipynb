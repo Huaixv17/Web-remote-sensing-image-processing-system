{
 "cells": [
  {
   "cell_type": "code",
   "execution_count": 3,
   "id": "37ebd1b2",
   "metadata": {},
   "outputs": [
    {
     "name": "stdout",
     "output_type": "stream",
     "text": [
      "数据集划分已完成。\n"
     ]
    }
   ],
   "source": [
    "# 划分训练集/验证集/测试集，并生成文件名列表\n",
    "\n",
    "import random\n",
    "import os.path as osp\n",
    "from os import listdir\n",
    "\n",
    "import cv2\n",
    "\n",
    "\n",
    "# 随机数生成器种子\n",
    "RNG_SEED = 56961\n",
    "# 调节此参数控制训练集数据的占比\n",
    "TRAIN_RATIO = 0.9\n",
    "# 数据集路径\n",
    "DATA_DIR = 'C:/Users/Administrator/diwu_pre/baidu/tiqu/data/'\n",
    "\n",
    "# 分割类别\n",
    "CLASSES = (\n",
    "    'background',\n",
    "    'road',\n",
    ")\n",
    "\n",
    "print(\"数据集划分已完成。\")"
   ]
  },
  {
   "cell_type": "code",
   "execution_count": 4,
   "id": "502e31a4",
   "metadata": {},
   "outputs": [],
   "source": [
    "# 将GT中的255改写为1，便于训练\n",
    "\n",
    "import os.path as osp\n",
    "from glob import glob\n",
    "\n",
    "import cv2\n",
    "from tqdm import tqdm"
   ]
  },
  {
   "cell_type": "code",
   "execution_count": 5,
   "id": "e5fd426f",
   "metadata": {},
   "outputs": [
    {
     "name": "stderr",
     "output_type": "stream",
     "text": [
      "D:\\Anaconda3\\envs\\paddle\\lib\\site-packages\\sklearn\\utils\\multiclass.py:13: DeprecationWarning: Please use `spmatrix` from the `scipy.sparse` namespace, the `scipy.sparse.base` namespace is deprecated.\n",
      "  from scipy.sparse.base import spmatrix\n",
      "D:\\Anaconda3\\envs\\paddle\\Lib\\site-packages\\paddlers-0.0.1-py3.9.egg\\paddlers\\models\\ppcls\\data\\preprocess\\ops\\timm_autoaugment.py:38: DeprecationWarning: BILINEAR is deprecated and will be removed in Pillow 10 (2023-07-01). Use Resampling.BILINEAR instead.\n",
      "  _RANDOM_INTERPOLATION = (Image.BILINEAR, Image.BICUBIC)\n",
      "D:\\Anaconda3\\envs\\paddle\\Lib\\site-packages\\paddlers-0.0.1-py3.9.egg\\paddlers\\models\\ppcls\\data\\preprocess\\ops\\timm_autoaugment.py:38: DeprecationWarning: BICUBIC is deprecated and will be removed in Pillow 10 (2023-07-01). Use Resampling.BICUBIC instead.\n",
      "  _RANDOM_INTERPOLATION = (Image.BILINEAR, Image.BICUBIC)\n",
      "2022-07-04 17:26:18,306-WARNING: type object 'QuantizationTransformPass' has no attribute '_supported_quantizable_op_type'\n",
      "2022-07-04 17:26:18,307-WARNING: If you want to use training-aware and post-training quantization, please use Paddle >= 1.8.4 or develop version\n"
     ]
    }
   ],
   "source": [
    "# 导入需要用到的库\n",
    "\n",
    "import random\n",
    "import os.path as osp\n",
    "\n",
    "import cv2\n",
    "import numpy as np\n",
    "import paddle\n",
    "import paddlers as pdrs\n",
    "from paddlers import transforms as T\n",
    "from matplotlib import pyplot as plt\n",
    "from PIL import Image"
   ]
  },
  {
   "cell_type": "code",
   "execution_count": 6,
   "id": "f347826a",
   "metadata": {},
   "outputs": [],
   "source": [
    "# 定义全局变量\n",
    "\n",
    "# 随机种子\n",
    "SEED = 56961\n",
    "# 数据集存放目录\n",
    "DATA_DIR = 'C:/Users/Administrator/diwu_pre/baidu/tiqu/data'\n",
    "# 训练集`file_list`文件路径\n",
    "\n",
    "# 验证集`file_list`文件路径\n",
    "\n",
    "# 测试集`file_list`文件路径\n",
    "TEST_FILE_LIST_PATH = 'C:/Users/Administrator/diwu_pre/baidu/tiqu/data/test.txt'\n",
    "# 数据集类别信息文件路径\n",
    "\n",
    "# 实验目录，保存输出的模型权重和结果\n",
    "EXP_DIR =  'C:/Users/Administrator/diwu_pre/baidu/tiqu/exp/'"
   ]
  },
  {
   "cell_type": "code",
   "execution_count": 7,
   "id": "6c13dd6e",
   "metadata": {},
   "outputs": [
    {
     "data": {
      "text/plain": [
       "<paddle.fluid.core_avx.Generator at 0x185df94cb70>"
      ]
     },
     "execution_count": 7,
     "metadata": {},
     "output_type": "execute_result"
    }
   ],
   "source": [
    "# 固定随机种子，尽可能使实验结果可复现\n",
    "\n",
    "random.seed(SEED)\n",
    "np.random.seed(SEED)\n",
    "paddle.seed(SEED)"
   ]
  },
  {
   "cell_type": "code",
   "execution_count": 8,
   "id": "f8546a84",
   "metadata": {},
   "outputs": [],
   "source": [
    "# 构建数据集\n",
    "\n",
    "# 定义训练和验证时使用的数据变换（数据增强、预处理等）\n",
    "eval_transforms = T.Compose([\n",
    "    T.Resize(target_size=1488),\n",
    "    # 验证阶段与训练阶段的数据归一化方式必须相同\n",
    "    T.Normalize(\n",
    "        mean=[0.5, 0.5, 0.5], std=[0.5, 0.5, 0.5]),\n",
    "])\n",
    "\n",
    "# 分别构建训练和验证所用的数据集"
   ]
  },
  {
   "cell_type": "code",
   "execution_count": 9,
   "id": "fb692a60",
   "metadata": {},
   "outputs": [
    {
     "name": "stdout",
     "output_type": "stream",
     "text": [
      "2022-07-04 17:28:06 [INFO]\tDownloading model.pdparams from https://bj.bcebos.com/paddleseg/dygraph/cityscapes/deeplabv3p_resnet50_os8_cityscapes_1024x512_80k/model.pdparams\n"
     ]
    },
    {
     "name": "stderr",
     "output_type": "stream",
     "text": [
      "  0%|▏                                                                           | 483/157928 [00:00<03:21, 782.81KB/s]"
     ]
    },
    {
     "name": "stdout",
     "output_type": "stream",
     "text": [
      "2022-07-04 17:28:08 [DEBUG]\tDownloading: TotalSize=154.23M, DownloadSize=0.5M, Speed=702KB/s\n"
     ]
    },
    {
     "name": "stderr",
     "output_type": "stream",
     "text": [
      "  1%|▍                                                                          | 915/157928 [00:01<02:06, 1242.96KB/s]"
     ]
    },
    {
     "name": "stdout",
     "output_type": "stream",
     "text": [
      "2022-07-04 17:28:08 [DEBUG]\tDownloading: TotalSize=154.23M, DownloadSize=1.0M, Speed=1342KB/s\n"
     ]
    },
    {
     "name": "stderr",
     "output_type": "stream",
     "text": [
      "  1%|▋                                                                         | 1491/157928 [00:01<01:32, 1698.97KB/s]"
     ]
    },
    {
     "name": "stdout",
     "output_type": "stream",
     "text": [
      "2022-07-04 17:28:08 [DEBUG]\tDownloading: TotalSize=154.23M, DownloadSize=1.5M, Speed=1985KB/s\n"
     ]
    },
    {
     "name": "stderr",
     "output_type": "stream",
     "text": [
      "\r",
      "  1%|▊                                                                         | 1763/157928 [00:01<01:18, 1996.39KB/s]"
     ]
    },
    {
     "name": "stdout",
     "output_type": "stream",
     "text": [
      "2022-07-04 17:28:08 [DEBUG]\tDownloading: TotalSize=154.23M, DownloadSize=2.0M, Speed=2657KB/s\n"
     ]
    },
    {
     "name": "stderr",
     "output_type": "stream",
     "text": [
      "  2%|█▏                                                                        | 2467/157928 [00:01<01:00, 2589.73KB/s]"
     ]
    },
    {
     "name": "stdout",
     "output_type": "stream",
     "text": [
      "2022-07-04 17:28:09 [DEBUG]\tDownloading: TotalSize=154.23M, DownloadSize=2.5M, Speed=3014KB/s\n"
     ]
    },
    {
     "name": "stderr",
     "output_type": "stream",
     "text": [
      "\r",
      "  2%|█▎                                                                        | 2883/157928 [00:01<00:52, 2927.90KB/s]"
     ]
    },
    {
     "name": "stdout",
     "output_type": "stream",
     "text": [
      "2022-07-04 17:28:09 [DEBUG]\tDownloading: TotalSize=154.23M, DownloadSize=3.0M, Speed=3362KB/s\n"
     ]
    },
    {
     "name": "stderr",
     "output_type": "stream",
     "text": [
      "\r",
      "  2%|█▌                                                                        | 3331/157928 [00:01<00:46, 3358.17KB/s]"
     ]
    },
    {
     "name": "stdout",
     "output_type": "stream",
     "text": [
      "2022-07-04 17:28:09 [DEBUG]\tDownloading: TotalSize=154.23M, DownloadSize=3.5M, Speed=4241KB/s\n"
     ]
    },
    {
     "name": "stderr",
     "output_type": "stream",
     "text": [
      "\r",
      "  2%|█▊                                                                        | 3795/157928 [00:01<00:41, 3693.85KB/s]"
     ]
    },
    {
     "name": "stdout",
     "output_type": "stream",
     "text": [
      "2022-07-04 17:28:09 [DEBUG]\tDownloading: TotalSize=154.23M, DownloadSize=4.0M, Speed=4803KB/s\n"
     ]
    },
    {
     "name": "stderr",
     "output_type": "stream",
     "text": [
      "\r",
      "  3%|██                                                                        | 4339/157928 [00:02<00:36, 4166.50KB/s]"
     ]
    },
    {
     "name": "stdout",
     "output_type": "stream",
     "text": [
      "2022-07-04 17:28:09 [DEBUG]\tDownloading: TotalSize=154.23M, DownloadSize=4.5M, Speed=4942KB/s\n"
     ]
    },
    {
     "name": "stderr",
     "output_type": "stream",
     "text": [
      "\r",
      "  3%|██▎                                                                       | 4947/157928 [00:02<00:32, 4698.11KB/s]"
     ]
    },
    {
     "name": "stdout",
     "output_type": "stream",
     "text": [
      "2022-07-04 17:28:09 [DEBUG]\tDownloading: TotalSize=154.23M, DownloadSize=5.0M, Speed=5587KB/s\n"
     ]
    },
    {
     "name": "stderr",
     "output_type": "stream",
     "text": [
      "\r",
      "  4%|██▌                                                                       | 5587/157928 [00:02<00:29, 5160.95KB/s]"
     ]
    },
    {
     "name": "stdout",
     "output_type": "stream",
     "text": [
      "2022-07-04 17:28:09 [DEBUG]\tDownloading: TotalSize=154.23M, DownloadSize=5.5M, Speed=5164KB/s\n",
      "2022-07-04 17:28:09 [DEBUG]\tDownloading: TotalSize=154.23M, DownloadSize=6.0M, Speed=6222KB/s\n"
     ]
    },
    {
     "name": "stderr",
     "output_type": "stream",
     "text": [
      "\r",
      "  4%|██▉                                                                       | 6243/157928 [00:02<00:27, 5539.17KB/s]"
     ]
    },
    {
     "name": "stdout",
     "output_type": "stream",
     "text": [
      "2022-07-04 17:28:09 [DEBUG]\tDownloading: TotalSize=154.23M, DownloadSize=6.5M, Speed=5641KB/s\n"
     ]
    },
    {
     "name": "stderr",
     "output_type": "stream",
     "text": [
      "\r",
      "  4%|███▎                                                                      | 6963/157928 [00:02<00:25, 5970.18KB/s]"
     ]
    },
    {
     "name": "stdout",
     "output_type": "stream",
     "text": [
      "2022-07-04 17:28:09 [DEBUG]\tDownloading: TotalSize=154.23M, DownloadSize=7.0M, Speed=5575KB/s\n"
     ]
    },
    {
     "name": "stderr",
     "output_type": "stream",
     "text": [
      "\r",
      "  5%|███▌                                                                      | 7562/157928 [00:02<00:25, 5807.41KB/s]"
     ]
    },
    {
     "name": "stdout",
     "output_type": "stream",
     "text": [
      "2022-07-04 17:28:09 [DEBUG]\tDownloading: TotalSize=154.23M, DownloadSize=7.5M, Speed=5084KB/s\n"
     ]
    },
    {
     "name": "stderr",
     "output_type": "stream",
     "text": [
      "\r",
      "  5%|███▊                                                                      | 8179/157928 [00:02<00:25, 5854.46KB/s]"
     ]
    },
    {
     "name": "stdout",
     "output_type": "stream",
     "text": [
      "2022-07-04 17:28:10 [DEBUG]\tDownloading: TotalSize=154.23M, DownloadSize=8.0M, Speed=5390KB/s\n",
      "2022-07-04 17:28:10 [DEBUG]\tDownloading: TotalSize=154.23M, DownloadSize=8.5M, Speed=6589KB/s\n"
     ]
    },
    {
     "name": "stderr",
     "output_type": "stream",
     "text": [
      "\r",
      "  6%|████▏                                                                     | 8899/157928 [00:02<00:24, 6200.74KB/s]"
     ]
    },
    {
     "name": "stdout",
     "output_type": "stream",
     "text": [
      "2022-07-04 17:28:10 [DEBUG]\tDownloading: TotalSize=154.23M, DownloadSize=9.0M, Speed=5028KB/s\n"
     ]
    },
    {
     "name": "stderr",
     "output_type": "stream",
     "text": [
      "\r",
      "  6%|████▍                                                                     | 9539/157928 [00:02<00:23, 6228.81KB/s]"
     ]
    },
    {
     "name": "stdout",
     "output_type": "stream",
     "text": [
      "2022-07-04 17:28:10 [DEBUG]\tDownloading: TotalSize=154.23M, DownloadSize=9.5M, Speed=6434KB/s\n"
     ]
    },
    {
     "name": "stderr",
     "output_type": "stream",
     "text": [
      "\r",
      "  6%|████▋                                                                    | 10163/157928 [00:03<00:24, 5920.50KB/s]"
     ]
    },
    {
     "name": "stdout",
     "output_type": "stream",
     "text": [
      "2022-07-04 17:28:10 [DEBUG]\tDownloading: TotalSize=154.23M, DownloadSize=10.0M, Speed=4655KB/s\n",
      "2022-07-04 17:28:10 [DEBUG]\tDownloading: TotalSize=154.23M, DownloadSize=10.5M, Speed=5730KB/s\n"
     ]
    },
    {
     "name": "stderr",
     "output_type": "stream",
     "text": [
      "\r",
      "  7%|█████                                                                    | 10835/157928 [00:03<00:24, 6092.69KB/s]"
     ]
    },
    {
     "name": "stdout",
     "output_type": "stream",
     "text": [
      "2022-07-04 17:28:10 [DEBUG]\tDownloading: TotalSize=154.23M, DownloadSize=11.0M, Speed=6592KB/s\n"
     ]
    },
    {
     "name": "stderr",
     "output_type": "stream",
     "text": [
      "\r",
      "  7%|█████▎                                                                   | 11603/157928 [00:03<00:22, 6507.32KB/s]"
     ]
    },
    {
     "name": "stdout",
     "output_type": "stream",
     "text": [
      "2022-07-04 17:28:10 [DEBUG]\tDownloading: TotalSize=154.23M, DownloadSize=11.5M, Speed=6558KB/s\n",
      "2022-07-04 17:28:10 [DEBUG]\tDownloading: TotalSize=154.23M, DownloadSize=12.0M, Speed=6328KB/s\n"
     ]
    },
    {
     "name": "stderr",
     "output_type": "stream",
     "text": [
      "\r",
      "  8%|█████▋                                                                   | 12371/157928 [00:03<00:21, 6833.00KB/s]"
     ]
    },
    {
     "name": "stdout",
     "output_type": "stream",
     "text": [
      "2022-07-04 17:28:10 [DEBUG]\tDownloading: TotalSize=154.23M, DownloadSize=12.5M, Speed=5980KB/s\n"
     ]
    },
    {
     "name": "stderr",
     "output_type": "stream",
     "text": [
      "\r",
      "  8%|██████                                                                   | 13058/157928 [00:03<00:21, 6776.33KB/s]"
     ]
    },
    {
     "name": "stdout",
     "output_type": "stream",
     "text": [
      "2022-07-04 17:28:10 [DEBUG]\tDownloading: TotalSize=154.23M, DownloadSize=13.0M, Speed=5933KB/s\n"
     ]
    },
    {
     "name": "stderr",
     "output_type": "stream",
     "text": [
      "\r",
      "  9%|██████▎                                                                  | 13747/157928 [00:03<00:21, 6776.36KB/s]"
     ]
    },
    {
     "name": "stdout",
     "output_type": "stream",
     "text": [
      "2022-07-04 17:28:10 [DEBUG]\tDownloading: TotalSize=154.23M, DownloadSize=13.5M, Speed=6101KB/s\n",
      "2022-07-04 17:28:10 [DEBUG]\tDownloading: TotalSize=154.23M, DownloadSize=14.0M, Speed=6115KB/s\n"
     ]
    },
    {
     "name": "stderr",
     "output_type": "stream",
     "text": [
      "\r",
      "  9%|██████▋                                                                  | 14427/157928 [00:03<00:21, 6734.06KB/s]"
     ]
    },
    {
     "name": "stdout",
     "output_type": "stream",
     "text": [
      "2022-07-04 17:28:11 [DEBUG]\tDownloading: TotalSize=154.23M, DownloadSize=14.5M, Speed=6291KB/s\n"
     ]
    },
    {
     "name": "stderr",
     "output_type": "stream",
     "text": [
      "\r",
      " 10%|██████▉                                                                  | 15139/157928 [00:03<00:20, 6808.90KB/s]"
     ]
    },
    {
     "name": "stdout",
     "output_type": "stream",
     "text": [
      "2022-07-04 17:28:11 [DEBUG]\tDownloading: TotalSize=154.23M, DownloadSize=15.0M, Speed=5838KB/s\n"
     ]
    },
    {
     "name": "stderr",
     "output_type": "stream",
     "text": [
      "\r",
      " 10%|███████▎                                                                 | 15827/157928 [00:03<00:20, 6778.46KB/s]"
     ]
    },
    {
     "name": "stdout",
     "output_type": "stream",
     "text": [
      "2022-07-04 17:28:11 [DEBUG]\tDownloading: TotalSize=154.23M, DownloadSize=15.5M, Speed=5585KB/s\n",
      "2022-07-04 17:28:11 [DEBUG]\tDownloading: TotalSize=154.23M, DownloadSize=16.0M, Speed=6813KB/s\n"
     ]
    },
    {
     "name": "stderr",
     "output_type": "stream",
     "text": [
      "\r",
      " 10%|███████▋                                                                 | 16547/157928 [00:03<00:20, 6862.68KB/s]"
     ]
    },
    {
     "name": "stdout",
     "output_type": "stream",
     "text": [
      "2022-07-04 17:28:11 [DEBUG]\tDownloading: TotalSize=154.23M, DownloadSize=16.5M, Speed=6236KB/s\n"
     ]
    },
    {
     "name": "stderr",
     "output_type": "stream",
     "text": [
      "\r",
      " 11%|███████▉                                                                 | 17251/157928 [00:04<00:20, 6884.52KB/s]"
     ]
    },
    {
     "name": "stdout",
     "output_type": "stream",
     "text": [
      "2022-07-04 17:28:11 [DEBUG]\tDownloading: TotalSize=154.23M, DownloadSize=17.0M, Speed=5671KB/s\n",
      "2022-07-04 17:28:11 [DEBUG]\tDownloading: TotalSize=154.23M, DownloadSize=17.5M, Speed=5425KB/s\n"
     ]
    },
    {
     "name": "stderr",
     "output_type": "stream",
     "text": [
      "\r",
      " 11%|████████▎                                                                | 17940/157928 [00:04<00:21, 6654.76KB/s]"
     ]
    },
    {
     "name": "stdout",
     "output_type": "stream",
     "text": [
      "2022-07-04 17:28:11 [DEBUG]\tDownloading: TotalSize=154.23M, DownloadSize=18.0M, Speed=3928KB/s\n"
     ]
    },
    {
     "name": "stderr",
     "output_type": "stream",
     "text": [
      "\r",
      " 12%|████████▌                                                                | 18608/157928 [00:04<00:24, 5755.47KB/s]"
     ]
    },
    {
     "name": "stdout",
     "output_type": "stream",
     "text": [
      "2022-07-04 17:28:11 [DEBUG]\tDownloading: TotalSize=154.23M, DownloadSize=18.5M, Speed=4252KB/s\n"
     ]
    },
    {
     "name": "stderr",
     "output_type": "stream",
     "text": [
      "\r",
      " 12%|████████▉                                                                | 19205/157928 [00:04<00:25, 5336.47KB/s]"
     ]
    },
    {
     "name": "stdout",
     "output_type": "stream",
     "text": [
      "2022-07-04 17:28:11 [DEBUG]\tDownloading: TotalSize=154.23M, DownloadSize=19.0M, Speed=4491KB/s\n"
     ]
    },
    {
     "name": "stderr",
     "output_type": "stream",
     "text": [
      "\r",
      " 13%|█████████▏                                                               | 19763/157928 [00:04<00:25, 5346.39KB/s]"
     ]
    },
    {
     "name": "stdout",
     "output_type": "stream",
     "text": [
      "2022-07-04 17:28:11 [DEBUG]\tDownloading: TotalSize=154.23M, DownloadSize=19.5M, Speed=4560KB/s\n"
     ]
    },
    {
     "name": "stderr",
     "output_type": "stream",
     "text": [
      "\r",
      " 13%|█████████▍                                                               | 20311/157928 [00:04<00:25, 5359.66KB/s]"
     ]
    },
    {
     "name": "stdout",
     "output_type": "stream",
     "text": [
      "2022-07-04 17:28:12 [DEBUG]\tDownloading: TotalSize=154.23M, DownloadSize=20.0M, Speed=5069KB/s\n"
     ]
    },
    {
     "name": "stderr",
     "output_type": "stream",
     "text": [
      "\r",
      " 13%|█████████▋                                                               | 20915/157928 [00:04<00:24, 5526.77KB/s]"
     ]
    },
    {
     "name": "stdout",
     "output_type": "stream",
     "text": [
      "2022-07-04 17:28:12 [DEBUG]\tDownloading: TotalSize=154.23M, DownloadSize=20.5M, Speed=4790KB/s\n"
     ]
    },
    {
     "name": "stderr",
     "output_type": "stream",
     "text": [
      "\r",
      " 14%|█████████▉                                                               | 21476/157928 [00:04<00:26, 5092.75KB/s]"
     ]
    },
    {
     "name": "stdout",
     "output_type": "stream",
     "text": [
      "2022-07-04 17:28:12 [DEBUG]\tDownloading: TotalSize=154.23M, DownloadSize=21.0M, Speed=4054KB/s\n"
     ]
    },
    {
     "name": "stderr",
     "output_type": "stream",
     "text": [
      "\r",
      " 14%|██████████▏                                                              | 21996/157928 [00:04<00:28, 4760.73KB/s]"
     ]
    },
    {
     "name": "stdout",
     "output_type": "stream",
     "text": [
      "2022-07-04 17:28:12 [DEBUG]\tDownloading: TotalSize=154.23M, DownloadSize=21.5M, Speed=3874KB/s\n",
      "2022-07-04 17:28:12 [DEBUG]\tDownloading: TotalSize=154.23M, DownloadSize=22.0M, Speed=5362KB/s\n"
     ]
    },
    {
     "name": "stderr",
     "output_type": "stream",
     "text": [
      "\r",
      " 14%|██████████▍                                                              | 22601/157928 [00:05<00:26, 5099.22KB/s]"
     ]
    },
    {
     "name": "stdout",
     "output_type": "stream",
     "text": [
      "2022-07-04 17:28:12 [DEBUG]\tDownloading: TotalSize=154.23M, DownloadSize=22.5M, Speed=5996KB/s\n"
     ]
    },
    {
     "name": "stderr",
     "output_type": "stream",
     "text": [
      "\r",
      " 15%|██████████▊                                                              | 23363/157928 [00:05<00:23, 5769.89KB/s]"
     ]
    },
    {
     "name": "stdout",
     "output_type": "stream",
     "text": [
      "2022-07-04 17:28:12 [DEBUG]\tDownloading: TotalSize=154.23M, DownloadSize=23.0M, Speed=6781KB/s\n"
     ]
    },
    {
     "name": "stderr",
     "output_type": "stream",
     "text": [
      "\r",
      " 15%|███████████                                                              | 23971/157928 [00:05<00:22, 5856.00KB/s]"
     ]
    },
    {
     "name": "stdout",
     "output_type": "stream",
     "text": [
      "2022-07-04 17:28:12 [DEBUG]\tDownloading: TotalSize=154.23M, DownloadSize=23.5M, Speed=5382KB/s\n",
      "2022-07-04 17:28:12 [DEBUG]\tDownloading: TotalSize=154.23M, DownloadSize=24.0M, Speed=5521KB/s\n"
     ]
    },
    {
     "name": "stderr",
     "output_type": "stream",
     "text": [
      "\r",
      " 16%|███████████▍                                                             | 24619/157928 [00:05<00:22, 6018.18KB/s]"
     ]
    },
    {
     "name": "stdout",
     "output_type": "stream",
     "text": [
      "2022-07-04 17:28:12 [DEBUG]\tDownloading: TotalSize=154.23M, DownloadSize=24.5M, Speed=5706KB/s\n"
     ]
    },
    {
     "name": "stderr",
     "output_type": "stream",
     "text": [
      "\r",
      " 16%|███████████▋                                                             | 25331/157928 [00:05<00:21, 6301.42KB/s]"
     ]
    },
    {
     "name": "stdout",
     "output_type": "stream",
     "text": [
      "2022-07-04 17:28:12 [DEBUG]\tDownloading: TotalSize=154.23M, DownloadSize=25.0M, Speed=5484KB/s\n"
     ]
    },
    {
     "name": "stderr",
     "output_type": "stream",
     "text": [
      "\r",
      " 16%|████████████                                                             | 25968/157928 [00:05<00:21, 6175.94KB/s]"
     ]
    },
    {
     "name": "stdout",
     "output_type": "stream",
     "text": [
      "2022-07-04 17:28:12 [DEBUG]\tDownloading: TotalSize=154.23M, DownloadSize=25.5M, Speed=6509KB/s\n",
      "2022-07-04 17:28:13 [DEBUG]\tDownloading: TotalSize=154.23M, DownloadSize=26.0M, Speed=5602KB/s\n"
     ]
    },
    {
     "name": "stderr",
     "output_type": "stream",
     "text": [
      "\r",
      " 17%|████████████▎                                                            | 26659/157928 [00:05<00:20, 6266.00KB/s]"
     ]
    },
    {
     "name": "stdout",
     "output_type": "stream",
     "text": [
      "2022-07-04 17:28:13 [DEBUG]\tDownloading: TotalSize=154.23M, DownloadSize=26.5M, Speed=5581KB/s\n"
     ]
    },
    {
     "name": "stderr",
     "output_type": "stream",
     "text": [
      "\r",
      " 17%|████████████▋                                                            | 27347/157928 [00:05<00:20, 6442.17KB/s]"
     ]
    },
    {
     "name": "stdout",
     "output_type": "stream",
     "text": [
      "2022-07-04 17:28:13 [DEBUG]\tDownloading: TotalSize=154.23M, DownloadSize=27.0M, Speed=5863KB/s\n"
     ]
    },
    {
     "name": "stderr",
     "output_type": "stream",
     "text": [
      "\r",
      " 18%|████████████▉                                                            | 28067/157928 [00:05<00:20, 6492.10KB/s]"
     ]
    },
    {
     "name": "stdout",
     "output_type": "stream",
     "text": [
      "2022-07-04 17:28:13 [DEBUG]\tDownloading: TotalSize=154.23M, DownloadSize=27.5M, Speed=7041KB/s\n",
      "2022-07-04 17:28:13 [DEBUG]\tDownloading: TotalSize=154.23M, DownloadSize=28.0M, Speed=5277KB/s\n"
     ]
    },
    {
     "name": "stderr",
     "output_type": "stream",
     "text": [
      "\r",
      " 18%|█████████████▎                                                           | 28755/157928 [00:06<00:19, 6602.86KB/s]"
     ]
    },
    {
     "name": "stdout",
     "output_type": "stream",
     "text": [
      "2022-07-04 17:28:13 [DEBUG]\tDownloading: TotalSize=154.23M, DownloadSize=28.5M, Speed=5450KB/s\n"
     ]
    },
    {
     "name": "stderr",
     "output_type": "stream",
     "text": [
      "\r",
      " 19%|█████████████▌                                                           | 29418/157928 [00:06<00:19, 6524.89KB/s]"
     ]
    },
    {
     "name": "stdout",
     "output_type": "stream",
     "text": [
      "2022-07-04 17:28:13 [DEBUG]\tDownloading: TotalSize=154.23M, DownloadSize=29.0M, Speed=6176KB/s\n"
     ]
    },
    {
     "name": "stderr",
     "output_type": "stream",
     "text": [
      "\r",
      " 19%|█████████████▉                                                           | 30115/157928 [00:06<00:19, 6611.12KB/s]"
     ]
    },
    {
     "name": "stdout",
     "output_type": "stream",
     "text": [
      "2022-07-04 17:28:13 [DEBUG]\tDownloading: TotalSize=154.23M, DownloadSize=29.5M, Speed=6402KB/s\n",
      "2022-07-04 17:28:13 [DEBUG]\tDownloading: TotalSize=154.23M, DownloadSize=30.0M, Speed=5703KB/s\n"
     ]
    },
    {
     "name": "stderr",
     "output_type": "stream",
     "text": [
      "\r",
      " 20%|██████████████▏                                                          | 30803/157928 [00:06<00:19, 6636.39KB/s]"
     ]
    },
    {
     "name": "stdout",
     "output_type": "stream",
     "text": [
      "2022-07-04 17:28:13 [DEBUG]\tDownloading: TotalSize=154.23M, DownloadSize=30.5M, Speed=5886KB/s\n"
     ]
    },
    {
     "name": "stderr",
     "output_type": "stream",
     "text": [
      "\r",
      " 20%|██████████████▌                                                          | 31475/157928 [00:06<00:19, 6469.98KB/s]"
     ]
    },
    {
     "name": "stdout",
     "output_type": "stream",
     "text": [
      "2022-07-04 17:28:13 [DEBUG]\tDownloading: TotalSize=154.23M, DownloadSize=31.0M, Speed=4481KB/s\n"
     ]
    },
    {
     "name": "stderr",
     "output_type": "stream",
     "text": [
      "\r",
      " 20%|██████████████▊                                                          | 32124/157928 [00:06<00:20, 6008.95KB/s]"
     ]
    },
    {
     "name": "stdout",
     "output_type": "stream",
     "text": [
      "2022-07-04 17:28:13 [DEBUG]\tDownloading: TotalSize=154.23M, DownloadSize=31.5M, Speed=4218KB/s\n"
     ]
    },
    {
     "name": "stderr",
     "output_type": "stream",
     "text": [
      "\r",
      " 21%|███████████████▏                                                         | 32732/157928 [00:06<00:20, 5999.32KB/s]"
     ]
    },
    {
     "name": "stdout",
     "output_type": "stream",
     "text": [
      "2022-07-04 17:28:14 [DEBUG]\tDownloading: TotalSize=154.23M, DownloadSize=32.0M, Speed=6422KB/s\n",
      "2022-07-04 17:28:14 [DEBUG]\tDownloading: TotalSize=154.23M, DownloadSize=32.5M, Speed=5691KB/s\n"
     ]
    },
    {
     "name": "stderr",
     "output_type": "stream",
     "text": [
      "\r",
      " 21%|███████████████▍                                                         | 33337/157928 [00:06<00:20, 6003.72KB/s]"
     ]
    },
    {
     "name": "stdout",
     "output_type": "stream",
     "text": [
      "2022-07-04 17:28:14 [DEBUG]\tDownloading: TotalSize=154.23M, DownloadSize=33.0M, Speed=5095KB/s\n"
     ]
    },
    {
     "name": "stderr",
     "output_type": "stream",
     "text": [
      "\r",
      " 22%|███████████████▋                                                         | 33955/157928 [00:06<00:20, 6024.56KB/s]"
     ]
    },
    {
     "name": "stdout",
     "output_type": "stream",
     "text": [
      "2022-07-04 17:28:14 [DEBUG]\tDownloading: TotalSize=154.23M, DownloadSize=33.5M, Speed=5717KB/s\n"
     ]
    },
    {
     "name": "stderr",
     "output_type": "stream",
     "text": [
      "\r",
      " 22%|████████████████                                                         | 34643/157928 [00:06<00:19, 6228.39KB/s]"
     ]
    },
    {
     "name": "stdout",
     "output_type": "stream",
     "text": [
      "2022-07-04 17:28:14 [DEBUG]\tDownloading: TotalSize=154.23M, DownloadSize=34.0M, Speed=6120KB/s\n",
      "2022-07-04 17:28:14 [DEBUG]\tDownloading: TotalSize=154.23M, DownloadSize=34.5M, Speed=6568KB/s\n"
     ]
    },
    {
     "name": "stderr",
     "output_type": "stream",
     "text": [
      "\r",
      " 22%|████████████████▎                                                        | 35347/157928 [00:07<00:19, 6402.21KB/s]"
     ]
    },
    {
     "name": "stdout",
     "output_type": "stream",
     "text": [
      "2022-07-04 17:28:14 [DEBUG]\tDownloading: TotalSize=154.23M, DownloadSize=35.0M, Speed=6454KB/s\n"
     ]
    },
    {
     "name": "stderr",
     "output_type": "stream",
     "text": [
      "\r",
      " 23%|████████████████▋                                                        | 36099/157928 [00:07<00:18, 6695.98KB/s]"
     ]
    },
    {
     "name": "stdout",
     "output_type": "stream",
     "text": [
      "2022-07-04 17:28:14 [DEBUG]\tDownloading: TotalSize=154.23M, DownloadSize=35.5M, Speed=6203KB/s\n",
      "2022-07-04 17:28:14 [DEBUG]\tDownloading: TotalSize=154.23M, DownloadSize=36.0M, Speed=7158KB/s\n"
     ]
    },
    {
     "name": "stderr",
     "output_type": "stream",
     "text": [
      "\r",
      " 23%|█████████████████                                                        | 36883/157928 [00:07<00:17, 6980.68KB/s]"
     ]
    },
    {
     "name": "stdout",
     "output_type": "stream",
     "text": [
      "2022-07-04 17:28:14 [DEBUG]\tDownloading: TotalSize=154.23M, DownloadSize=36.5M, Speed=6053KB/s\n"
     ]
    },
    {
     "name": "stderr",
     "output_type": "stream",
     "text": [
      "\r",
      " 24%|█████████████████▍                                                       | 37651/157928 [00:07<00:16, 7132.21KB/s]"
     ]
    },
    {
     "name": "stdout",
     "output_type": "stream",
     "text": [
      "2022-07-04 17:28:14 [DEBUG]\tDownloading: TotalSize=154.23M, DownloadSize=37.0M, Speed=6546KB/s\n"
     ]
    },
    {
     "name": "stderr",
     "output_type": "stream",
     "text": [
      "\r",
      " 24%|█████████████████▋                                                       | 38366/157928 [00:07<00:18, 6377.60KB/s]"
     ]
    },
    {
     "name": "stdout",
     "output_type": "stream",
     "text": [
      "2022-07-04 17:28:14 [DEBUG]\tDownloading: TotalSize=154.23M, DownloadSize=37.5M, Speed=4067KB/s\n",
      "2022-07-04 17:28:14 [DEBUG]\tDownloading: TotalSize=154.23M, DownloadSize=38.0M, Speed=6648KB/s\n"
     ]
    },
    {
     "name": "stderr",
     "output_type": "stream",
     "text": [
      "\r",
      " 25%|██████████████████                                                       | 39107/157928 [00:07<00:17, 6624.09KB/s]"
     ]
    },
    {
     "name": "stdout",
     "output_type": "stream",
     "text": [
      "2022-07-04 17:28:15 [DEBUG]\tDownloading: TotalSize=154.23M, DownloadSize=38.5M, Speed=6723KB/s\n"
     ]
    },
    {
     "name": "stderr",
     "output_type": "stream",
     "text": [
      "\r",
      " 25%|██████████████████▍                                                      | 39859/157928 [00:07<00:17, 6848.92KB/s]"
     ]
    },
    {
     "name": "stdout",
     "output_type": "stream",
     "text": [
      "2022-07-04 17:28:15 [DEBUG]\tDownloading: TotalSize=154.23M, DownloadSize=39.0M, Speed=6417KB/s\n",
      "2022-07-04 17:28:15 [DEBUG]\tDownloading: TotalSize=154.23M, DownloadSize=39.5M, Speed=6379KB/s\n"
     ]
    },
    {
     "name": "stderr",
     "output_type": "stream",
     "text": [
      "\r",
      " 26%|██████████████████▊                                                      | 40611/157928 [00:07<00:16, 7029.22KB/s]"
     ]
    },
    {
     "name": "stdout",
     "output_type": "stream",
     "text": [
      "2022-07-04 17:28:15 [DEBUG]\tDownloading: TotalSize=154.23M, DownloadSize=40.0M, Speed=6836KB/s\n"
     ]
    },
    {
     "name": "stderr",
     "output_type": "stream",
     "text": [
      "\r",
      " 26%|███████████████████                                                      | 41363/157928 [00:07<00:16, 7090.39KB/s]"
     ]
    },
    {
     "name": "stdout",
     "output_type": "stream",
     "text": [
      "2022-07-04 17:28:15 [DEBUG]\tDownloading: TotalSize=154.23M, DownloadSize=40.5M, Speed=6100KB/s\n",
      "2022-07-04 17:28:15 [DEBUG]\tDownloading: TotalSize=154.23M, DownloadSize=41.0M, Speed=5878KB/s\n"
     ]
    },
    {
     "name": "stderr",
     "output_type": "stream",
     "text": [
      "\r",
      " 27%|███████████████████▍                                                     | 42099/157928 [00:08<00:16, 7147.01KB/s]"
     ]
    },
    {
     "name": "stdout",
     "output_type": "stream",
     "text": [
      "2022-07-04 17:28:15 [DEBUG]\tDownloading: TotalSize=154.23M, DownloadSize=41.5M, Speed=7227KB/s\n"
     ]
    },
    {
     "name": "stderr",
     "output_type": "stream",
     "text": [
      "\r",
      " 27%|███████████████████▊                                                     | 42819/157928 [00:08<00:16, 7096.81KB/s]"
     ]
    },
    {
     "name": "stdout",
     "output_type": "stream",
     "text": [
      "2022-07-04 17:28:15 [DEBUG]\tDownloading: TotalSize=154.23M, DownloadSize=42.0M, Speed=5903KB/s\n",
      "2022-07-04 17:28:15 [DEBUG]\tDownloading: TotalSize=154.23M, DownloadSize=42.5M, Speed=6381KB/s\n"
     ]
    },
    {
     "name": "stderr",
     "output_type": "stream",
     "text": [
      "\r",
      " 28%|████████████████████▏                                                    | 43541/157928 [00:08<00:16, 7114.56KB/s]"
     ]
    },
    {
     "name": "stdout",
     "output_type": "stream",
     "text": [
      "2022-07-04 17:28:15 [DEBUG]\tDownloading: TotalSize=154.23M, DownloadSize=43.0M, Speed=7216KB/s\n"
     ]
    },
    {
     "name": "stderr",
     "output_type": "stream",
     "text": [
      "\r",
      " 28%|████████████████████▍                                                    | 44307/157928 [00:08<00:15, 7219.86KB/s]"
     ]
    },
    {
     "name": "stdout",
     "output_type": "stream",
     "text": [
      "2022-07-04 17:28:15 [DEBUG]\tDownloading: TotalSize=154.23M, DownloadSize=43.5M, Speed=5990KB/s\n",
      "2022-07-04 17:28:15 [DEBUG]\tDownloading: TotalSize=154.23M, DownloadSize=44.0M, Speed=6192KB/s\n"
     ]
    },
    {
     "name": "stderr",
     "output_type": "stream",
     "text": [
      "\r",
      " 29%|████████████████████▊                                                    | 45056/157928 [00:08<00:15, 7243.43KB/s]"
     ]
    },
    {
     "name": "stdout",
     "output_type": "stream",
     "text": [
      "2022-07-04 17:28:15 [DEBUG]\tDownloading: TotalSize=154.23M, DownloadSize=44.5M, Speed=6245KB/s\n"
     ]
    },
    {
     "name": "stderr",
     "output_type": "stream",
     "text": [
      "\r",
      " 29%|█████████████████████▏                                                   | 45795/157928 [00:08<00:15, 7266.80KB/s]"
     ]
    },
    {
     "name": "stdout",
     "output_type": "stream",
     "text": [
      "2022-07-04 17:28:15 [DEBUG]\tDownloading: TotalSize=154.23M, DownloadSize=45.0M, Speed=6385KB/s\n"
     ]
    },
    {
     "name": "stderr",
     "output_type": "stream",
     "text": [
      "\r",
      " 29%|█████████████████████▌                                                   | 46523/157928 [00:08<00:15, 7173.30KB/s]"
     ]
    },
    {
     "name": "stdout",
     "output_type": "stream",
     "text": [
      "2022-07-04 17:28:15 [DEBUG]\tDownloading: TotalSize=154.23M, DownloadSize=45.5M, Speed=6063KB/s\n",
      "2022-07-04 17:28:16 [DEBUG]\tDownloading: TotalSize=154.23M, DownloadSize=46.0M, Speed=5837KB/s\n"
     ]
    },
    {
     "name": "stderr",
     "output_type": "stream",
     "text": [
      "\r",
      " 30%|█████████████████████▊                                                   | 47241/157928 [00:08<00:15, 7066.74KB/s]"
     ]
    },
    {
     "name": "stdout",
     "output_type": "stream",
     "text": [
      "2022-07-04 17:28:16 [DEBUG]\tDownloading: TotalSize=154.23M, DownloadSize=46.5M, Speed=7096KB/s\n"
     ]
    },
    {
     "name": "stderr",
     "output_type": "stream",
     "text": [
      "\r",
      " 30%|██████████████████████▏                                                  | 48035/157928 [00:08<00:15, 7270.79KB/s]"
     ]
    },
    {
     "name": "stdout",
     "output_type": "stream",
     "text": [
      "2022-07-04 17:28:16 [DEBUG]\tDownloading: TotalSize=154.23M, DownloadSize=47.0M, Speed=6222KB/s\n",
      "2022-07-04 17:28:16 [DEBUG]\tDownloading: TotalSize=154.23M, DownloadSize=47.5M, Speed=5583KB/s\n"
     ]
    },
    {
     "name": "stderr",
     "output_type": "stream",
     "text": [
      "\r",
      " 31%|██████████████████████▌                                                  | 48763/157928 [00:08<00:15, 6889.30KB/s]"
     ]
    },
    {
     "name": "stdout",
     "output_type": "stream",
     "text": [
      "2022-07-04 17:28:16 [DEBUG]\tDownloading: TotalSize=154.23M, DownloadSize=48.0M, Speed=5578KB/s\n"
     ]
    },
    {
     "name": "stderr",
     "output_type": "stream",
     "text": [
      "\r",
      " 31%|██████████████████████▊                                                  | 49475/157928 [00:09<00:15, 6873.65KB/s]"
     ]
    },
    {
     "name": "stdout",
     "output_type": "stream",
     "text": [
      "2022-07-04 17:28:16 [DEBUG]\tDownloading: TotalSize=154.23M, DownloadSize=48.5M, Speed=6453KB/s\n",
      "2022-07-04 17:28:16 [DEBUG]\tDownloading: TotalSize=154.23M, DownloadSize=49.0M, Speed=6416KB/s\n"
     ]
    },
    {
     "name": "stderr",
     "output_type": "stream",
     "text": [
      "\r",
      " 32%|███████████████████████▏                                                 | 50241/157928 [00:09<00:15, 7081.04KB/s]"
     ]
    },
    {
     "name": "stdout",
     "output_type": "stream",
     "text": [
      "2022-07-04 17:28:16 [DEBUG]\tDownloading: TotalSize=154.23M, DownloadSize=49.5M, Speed=6197KB/s\n"
     ]
    },
    {
     "name": "stderr",
     "output_type": "stream",
     "text": [
      "\r",
      " 32%|███████████████████████▌                                                 | 50995/157928 [00:09<00:14, 7197.57KB/s]"
     ]
    },
    {
     "name": "stdout",
     "output_type": "stream",
     "text": [
      "2022-07-04 17:28:16 [DEBUG]\tDownloading: TotalSize=154.23M, DownloadSize=50.0M, Speed=7299KB/s\n",
      "2022-07-04 17:28:16 [DEBUG]\tDownloading: TotalSize=154.23M, DownloadSize=50.5M, Speed=5805KB/s\n"
     ]
    },
    {
     "name": "stderr",
     "output_type": "stream",
     "text": [
      "\r",
      " 33%|███████████████████████▉                                                 | 51718/157928 [00:09<00:14, 7098.87KB/s]"
     ]
    },
    {
     "name": "stdout",
     "output_type": "stream",
     "text": [
      "2022-07-04 17:28:16 [DEBUG]\tDownloading: TotalSize=154.23M, DownloadSize=51.0M, Speed=6707KB/s\n"
     ]
    },
    {
     "name": "stderr",
     "output_type": "stream",
     "text": [
      "\r",
      " 33%|████████████████████████▎                                                | 52531/157928 [00:09<00:14, 7392.56KB/s]"
     ]
    },
    {
     "name": "stdout",
     "output_type": "stream",
     "text": [
      "2022-07-04 17:28:16 [DEBUG]\tDownloading: TotalSize=154.23M, DownloadSize=51.5M, Speed=7122KB/s\n",
      "2022-07-04 17:28:16 [DEBUG]\tDownloading: TotalSize=154.23M, DownloadSize=52.0M, Speed=6022KB/s\n"
     ]
    },
    {
     "name": "stderr",
     "output_type": "stream",
     "text": [
      "\r",
      " 34%|████████████████████████▌                                                | 53273/157928 [00:09<00:14, 7381.58KB/s]"
     ]
    },
    {
     "name": "stdout",
     "output_type": "stream",
     "text": [
      "2022-07-04 17:28:16 [DEBUG]\tDownloading: TotalSize=154.23M, DownloadSize=52.5M, Speed=6422KB/s\n"
     ]
    },
    {
     "name": "stderr",
     "output_type": "stream",
     "text": [
      "\r",
      " 34%|████████████████████████▉                                                | 54035/157928 [00:09<00:14, 7377.85KB/s]"
     ]
    },
    {
     "name": "stdout",
     "output_type": "stream",
     "text": [
      "2022-07-04 17:28:17 [DEBUG]\tDownloading: TotalSize=154.23M, DownloadSize=53.0M, Speed=7026KB/s\n"
     ]
    },
    {
     "name": "stderr",
     "output_type": "stream",
     "text": [
      "\r",
      " 35%|█████████████████████████▎                                               | 54774/157928 [00:09<00:14, 7209.45KB/s]"
     ]
    },
    {
     "name": "stdout",
     "output_type": "stream",
     "text": [
      "2022-07-04 17:28:17 [DEBUG]\tDownloading: TotalSize=154.23M, DownloadSize=53.5M, Speed=5510KB/s\n",
      "2022-07-04 17:28:17 [DEBUG]\tDownloading: TotalSize=154.23M, DownloadSize=54.0M, Speed=5190KB/s\n"
     ]
    },
    {
     "name": "stderr",
     "output_type": "stream",
     "text": [
      "\r",
      " 35%|█████████████████████████▋                                               | 55497/157928 [00:09<00:15, 6780.79KB/s]"
     ]
    },
    {
     "name": "stdout",
     "output_type": "stream",
     "text": [
      "2022-07-04 17:28:17 [DEBUG]\tDownloading: TotalSize=154.23M, DownloadSize=54.5M, Speed=5780KB/s\n"
     ]
    },
    {
     "name": "stderr",
     "output_type": "stream",
     "text": [
      "\r",
      " 36%|█████████████████████████▉                                               | 56181/157928 [00:10<00:15, 6567.86KB/s]"
     ]
    },
    {
     "name": "stdout",
     "output_type": "stream",
     "text": [
      "2022-07-04 17:28:17 [DEBUG]\tDownloading: TotalSize=154.23M, DownloadSize=55.0M, Speed=4953KB/s\n",
      "2022-07-04 17:28:17 [DEBUG]\tDownloading: TotalSize=154.23M, DownloadSize=55.5M, Speed=5708KB/s\n"
     ]
    },
    {
     "name": "stderr",
     "output_type": "stream",
     "text": [
      "\r",
      " 36%|██████████████████████████▎                                              | 56842/157928 [00:10<00:15, 6398.52KB/s]"
     ]
    },
    {
     "name": "stdout",
     "output_type": "stream",
     "text": [
      "2022-07-04 17:28:17 [DEBUG]\tDownloading: TotalSize=154.23M, DownloadSize=56.0M, Speed=6348KB/s\n"
     ]
    },
    {
     "name": "stderr",
     "output_type": "stream",
     "text": [
      "\r",
      " 36%|██████████████████████████▌                                              | 57507/157928 [00:10<00:15, 6320.90KB/s]"
     ]
    },
    {
     "name": "stdout",
     "output_type": "stream",
     "text": [
      "2022-07-04 17:28:17 [DEBUG]\tDownloading: TotalSize=154.23M, DownloadSize=56.5M, Speed=5301KB/s\n"
     ]
    },
    {
     "name": "stderr",
     "output_type": "stream",
     "text": [
      "\r",
      " 37%|██████████████████████████▉                                              | 58291/157928 [00:10<00:14, 6701.42KB/s]"
     ]
    },
    {
     "name": "stdout",
     "output_type": "stream",
     "text": [
      "2022-07-04 17:28:17 [DEBUG]\tDownloading: TotalSize=154.23M, DownloadSize=57.0M, Speed=6490KB/s\n",
      "2022-07-04 17:28:17 [DEBUG]\tDownloading: TotalSize=154.23M, DownloadSize=57.5M, Speed=6650KB/s\n"
     ]
    },
    {
     "name": "stderr",
     "output_type": "stream",
     "text": [
      "\r",
      " 37%|███████████████████████████▎                                             | 59011/157928 [00:10<00:14, 6794.57KB/s]"
     ]
    },
    {
     "name": "stdout",
     "output_type": "stream",
     "text": [
      "2022-07-04 17:28:17 [DEBUG]\tDownloading: TotalSize=154.23M, DownloadSize=58.0M, Speed=6121KB/s\n"
     ]
    },
    {
     "name": "stderr",
     "output_type": "stream",
     "text": [
      "\r",
      " 38%|███████████████████████████▋                                             | 59779/157928 [00:10<00:14, 6851.50KB/s]"
     ]
    },
    {
     "name": "stdout",
     "output_type": "stream",
     "text": [
      "2022-07-04 17:28:17 [DEBUG]\tDownloading: TotalSize=154.23M, DownloadSize=58.5M, Speed=6171KB/s\n",
      "2022-07-04 17:28:18 [DEBUG]\tDownloading: TotalSize=154.23M, DownloadSize=59.0M, Speed=5606KB/s\n"
     ]
    },
    {
     "name": "stderr",
     "output_type": "stream",
     "text": [
      "\r",
      " 38%|███████████████████████████▉                                             | 60466/157928 [00:10<00:14, 6772.79KB/s]"
     ]
    },
    {
     "name": "stdout",
     "output_type": "stream",
     "text": [
      "2022-07-04 17:28:18 [DEBUG]\tDownloading: TotalSize=154.23M, DownloadSize=59.5M, Speed=6518KB/s\n"
     ]
    },
    {
     "name": "stderr",
     "output_type": "stream",
     "text": [
      "\r",
      " 39%|████████████████████████████▎                                            | 61155/157928 [00:10<00:14, 6776.12KB/s]"
     ]
    },
    {
     "name": "stdout",
     "output_type": "stream",
     "text": [
      "2022-07-04 17:28:18 [DEBUG]\tDownloading: TotalSize=154.23M, DownloadSize=60.0M, Speed=5661KB/s\n"
     ]
    },
    {
     "name": "stderr",
     "output_type": "stream",
     "text": [
      "\r",
      " 39%|████████████████████████████▌                                            | 61834/157928 [00:10<00:14, 6749.35KB/s]"
     ]
    },
    {
     "name": "stdout",
     "output_type": "stream",
     "text": [
      "2022-07-04 17:28:18 [DEBUG]\tDownloading: TotalSize=154.23M, DownloadSize=60.5M, Speed=5384KB/s\n",
      "2022-07-04 17:28:18 [DEBUG]\tDownloading: TotalSize=154.23M, DownloadSize=61.0M, Speed=5660KB/s\n"
     ]
    },
    {
     "name": "stderr",
     "output_type": "stream",
     "text": [
      "\r",
      " 40%|████████████████████████████▉                                            | 62510/157928 [00:10<00:14, 6647.72KB/s]"
     ]
    },
    {
     "name": "stdout",
     "output_type": "stream",
     "text": [
      "2022-07-04 17:28:18 [DEBUG]\tDownloading: TotalSize=154.23M, DownloadSize=61.5M, Speed=5584KB/s\n"
     ]
    },
    {
     "name": "stderr",
     "output_type": "stream",
     "text": [
      "\r",
      " 40%|█████████████████████████████▏                                           | 63176/157928 [00:11<00:14, 6421.46KB/s]"
     ]
    },
    {
     "name": "stdout",
     "output_type": "stream",
     "text": [
      "2022-07-04 17:28:18 [DEBUG]\tDownloading: TotalSize=154.23M, DownloadSize=62.0M, Speed=5150KB/s\n"
     ]
    },
    {
     "name": "stderr",
     "output_type": "stream",
     "text": [
      "\r",
      " 40%|█████████████████████████████▍                                           | 63820/157928 [00:11<00:15, 6042.70KB/s]"
     ]
    },
    {
     "name": "stdout",
     "output_type": "stream",
     "text": [
      "2022-07-04 17:28:18 [DEBUG]\tDownloading: TotalSize=154.23M, DownloadSize=62.5M, Speed=4916KB/s\n"
     ]
    },
    {
     "name": "stderr",
     "output_type": "stream",
     "text": [
      "\r",
      " 41%|█████████████████████████████▊                                           | 64429/157928 [00:11<00:16, 5665.59KB/s]"
     ]
    },
    {
     "name": "stdout",
     "output_type": "stream",
     "text": [
      "2022-07-04 17:28:18 [DEBUG]\tDownloading: TotalSize=154.23M, DownloadSize=63.0M, Speed=4265KB/s\n",
      "2022-07-04 17:28:18 [DEBUG]\tDownloading: TotalSize=154.23M, DownloadSize=63.5M, Speed=5724KB/s\n"
     ]
    },
    {
     "name": "stderr",
     "output_type": "stream",
     "text": [
      "\r",
      " 41%|██████████████████████████████                                           | 65091/157928 [00:11<00:15, 5896.66KB/s]"
     ]
    },
    {
     "name": "stdout",
     "output_type": "stream",
     "text": [
      "2022-07-04 17:28:18 [DEBUG]\tDownloading: TotalSize=154.23M, DownloadSize=64.0M, Speed=5695KB/s\n"
     ]
    },
    {
     "name": "stderr",
     "output_type": "stream",
     "text": [
      "\r",
      " 42%|██████████████████████████████▍                                          | 65747/157928 [00:11<00:15, 5988.81KB/s]"
     ]
    },
    {
     "name": "stdout",
     "output_type": "stream",
     "text": [
      "2022-07-04 17:28:18 [DEBUG]\tDownloading: TotalSize=154.23M, DownloadSize=64.5M, Speed=4514KB/s\n"
     ]
    },
    {
     "name": "stderr",
     "output_type": "stream",
     "text": [
      "\r",
      " 42%|██████████████████████████████▋                                          | 66351/157928 [00:11<00:16, 5484.00KB/s]"
     ]
    },
    {
     "name": "stdout",
     "output_type": "stream",
     "text": [
      "2022-07-04 17:28:19 [DEBUG]\tDownloading: TotalSize=154.23M, DownloadSize=65.0M, Speed=4909KB/s\n"
     ]
    },
    {
     "name": "stderr",
     "output_type": "stream",
     "text": [
      "\r",
      " 42%|██████████████████████████████▉                                          | 67043/157928 [00:11<00:15, 5752.42KB/s]"
     ]
    },
    {
     "name": "stdout",
     "output_type": "stream",
     "text": [
      "2022-07-04 17:28:19 [DEBUG]\tDownloading: TotalSize=154.23M, DownloadSize=65.5M, Speed=5473KB/s\n",
      "2022-07-04 17:28:19 [DEBUG]\tDownloading: TotalSize=154.23M, DownloadSize=66.0M, Speed=7298KB/s\n"
     ]
    },
    {
     "name": "stderr",
     "output_type": "stream",
     "text": [
      "\r",
      " 43%|███████████████████████████████▎                                         | 67795/157928 [00:11<00:14, 6190.66KB/s]"
     ]
    },
    {
     "name": "stdout",
     "output_type": "stream",
     "text": [
      "2022-07-04 17:28:19 [DEBUG]\tDownloading: TotalSize=154.23M, DownloadSize=66.5M, Speed=5518KB/s\n"
     ]
    },
    {
     "name": "stderr",
     "output_type": "stream",
     "text": [
      "\r",
      " 43%|███████████████████████████████▋                                         | 68467/157928 [00:11<00:14, 6299.86KB/s]"
     ]
    },
    {
     "name": "stdout",
     "output_type": "stream",
     "text": [
      "2022-07-04 17:28:19 [DEBUG]\tDownloading: TotalSize=154.23M, DownloadSize=67.0M, Speed=6006KB/s\n",
      "2022-07-04 17:28:19 [DEBUG]\tDownloading: TotalSize=154.23M, DownloadSize=67.5M, Speed=6872KB/s\n"
     ]
    },
    {
     "name": "stderr",
     "output_type": "stream",
     "text": [
      "\r",
      " 44%|███████████████████████████████▉                                         | 69219/157928 [00:12<00:13, 6596.97KB/s]"
     ]
    },
    {
     "name": "stdout",
     "output_type": "stream",
     "text": [
      "2022-07-04 17:28:19 [DEBUG]\tDownloading: TotalSize=154.23M, DownloadSize=68.0M, Speed=6241KB/s\n"
     ]
    },
    {
     "name": "stderr",
     "output_type": "stream",
     "text": [
      "\r",
      " 44%|████████████████████████████████▎                                        | 69971/157928 [00:12<00:12, 6814.73KB/s]"
     ]
    },
    {
     "name": "stdout",
     "output_type": "stream",
     "text": [
      "2022-07-04 17:28:19 [DEBUG]\tDownloading: TotalSize=154.23M, DownloadSize=68.5M, Speed=6236KB/s\n",
      "2022-07-04 17:28:19 [DEBUG]\tDownloading: TotalSize=154.23M, DownloadSize=69.0M, Speed=7129KB/s\n"
     ]
    },
    {
     "name": "stderr",
     "output_type": "stream",
     "text": [
      "\r",
      " 45%|████████████████████████████████▋                                        | 70803/157928 [00:12<00:12, 7047.49KB/s]"
     ]
    },
    {
     "name": "stdout",
     "output_type": "stream",
     "text": [
      "2022-07-04 17:28:19 [DEBUG]\tDownloading: TotalSize=154.23M, DownloadSize=69.5M, Speed=6454KB/s\n"
     ]
    },
    {
     "name": "stderr",
     "output_type": "stream",
     "text": [
      "\r",
      " 45%|█████████████████████████████████                                        | 71587/157928 [00:12<00:11, 7209.28KB/s]"
     ]
    },
    {
     "name": "stdout",
     "output_type": "stream",
     "text": [
      "2022-07-04 17:28:19 [DEBUG]\tDownloading: TotalSize=154.23M, DownloadSize=70.0M, Speed=6375KB/s\n",
      "2022-07-04 17:28:19 [DEBUG]\tDownloading: TotalSize=154.23M, DownloadSize=70.5M, Speed=6815KB/s\n"
     ]
    },
    {
     "name": "stderr",
     "output_type": "stream",
     "text": [
      "\r",
      " 46%|█████████████████████████████████▍                                       | 72339/157928 [00:12<00:11, 7254.82KB/s]"
     ]
    },
    {
     "name": "stdout",
     "output_type": "stream",
     "text": [
      "2022-07-04 17:28:19 [DEBUG]\tDownloading: TotalSize=154.23M, DownloadSize=71.0M, Speed=6071KB/s\n"
     ]
    },
    {
     "name": "stderr",
     "output_type": "stream",
     "text": [
      "\r",
      " 46%|█████████████████████████████████▊                                       | 73067/157928 [00:12<00:12, 6941.21KB/s]"
     ]
    },
    {
     "name": "stdout",
     "output_type": "stream",
     "text": [
      "2022-07-04 17:28:19 [DEBUG]\tDownloading: TotalSize=154.23M, DownloadSize=71.5M, Speed=5492KB/s\n",
      "2022-07-04 17:28:20 [DEBUG]\tDownloading: TotalSize=154.23M, DownloadSize=72.0M, Speed=5898KB/s\n"
     ]
    },
    {
     "name": "stderr",
     "output_type": "stream",
     "text": [
      "\r",
      " 47%|██████████████████████████████████                                       | 73811/157928 [00:12<00:11, 7020.26KB/s]"
     ]
    },
    {
     "name": "stdout",
     "output_type": "stream",
     "text": [
      "2022-07-04 17:28:20 [DEBUG]\tDownloading: TotalSize=154.23M, DownloadSize=72.5M, Speed=6773KB/s\n"
     ]
    },
    {
     "name": "stderr",
     "output_type": "stream",
     "text": [
      "\r",
      " 47%|██████████████████████████████████▍                                      | 74552/157928 [00:12<00:11, 7120.84KB/s]"
     ]
    },
    {
     "name": "stdout",
     "output_type": "stream",
     "text": [
      "2022-07-04 17:28:20 [DEBUG]\tDownloading: TotalSize=154.23M, DownloadSize=73.0M, Speed=6707KB/s\n",
      "2022-07-04 17:28:20 [DEBUG]\tDownloading: TotalSize=154.23M, DownloadSize=73.5M, Speed=6114KB/s\n"
     ]
    },
    {
     "name": "stderr",
     "output_type": "stream",
     "text": [
      "\r",
      " 48%|██████████████████████████████████▊                                      | 75283/157928 [00:12<00:11, 7138.95KB/s]"
     ]
    },
    {
     "name": "stdout",
     "output_type": "stream",
     "text": [
      "2022-07-04 17:28:20 [DEBUG]\tDownloading: TotalSize=154.23M, DownloadSize=74.0M, Speed=6909KB/s\n"
     ]
    },
    {
     "name": "stderr",
     "output_type": "stream",
     "text": [
      "\r",
      " 48%|███████████████████████████████████▏                                     | 76004/157928 [00:13<00:11, 7159.14KB/s]"
     ]
    },
    {
     "name": "stdout",
     "output_type": "stream",
     "text": [
      "2022-07-04 17:28:20 [DEBUG]\tDownloading: TotalSize=154.23M, DownloadSize=74.5M, Speed=5752KB/s\n"
     ]
    },
    {
     "name": "stderr",
     "output_type": "stream",
     "text": [
      "\r",
      " 49%|███████████████████████████████████▍                                     | 76771/157928 [00:13<00:11, 7270.10KB/s]"
     ]
    },
    {
     "name": "stdout",
     "output_type": "stream",
     "text": [
      "2022-07-04 17:28:20 [DEBUG]\tDownloading: TotalSize=154.23M, DownloadSize=75.0M, Speed=6411KB/s\n",
      "2022-07-04 17:28:20 [DEBUG]\tDownloading: TotalSize=154.23M, DownloadSize=75.5M, Speed=6809KB/s\n"
     ]
    },
    {
     "name": "stderr",
     "output_type": "stream",
     "text": [
      "\r",
      " 49%|███████████████████████████████████▊                                     | 77555/157928 [00:13<00:10, 7361.24KB/s]"
     ]
    },
    {
     "name": "stdout",
     "output_type": "stream",
     "text": [
      "2022-07-04 17:28:20 [DEBUG]\tDownloading: TotalSize=154.23M, DownloadSize=76.0M, Speed=6645KB/s\n"
     ]
    },
    {
     "name": "stderr",
     "output_type": "stream",
     "text": [
      "\r",
      " 50%|████████████████████████████████████▏                                    | 78307/157928 [00:13<00:10, 7367.19KB/s]"
     ]
    },
    {
     "name": "stdout",
     "output_type": "stream",
     "text": [
      "2022-07-04 17:28:20 [DEBUG]\tDownloading: TotalSize=154.23M, DownloadSize=76.5M, Speed=6230KB/s\n",
      "2022-07-04 17:28:20 [DEBUG]\tDownloading: TotalSize=154.23M, DownloadSize=77.0M, Speed=7011KB/s\n"
     ]
    },
    {
     "name": "stderr",
     "output_type": "stream",
     "text": [
      "\r",
      " 50%|████████████████████████████████████▌                                    | 79075/157928 [00:13<00:10, 7454.56KB/s]"
     ]
    },
    {
     "name": "stdout",
     "output_type": "stream",
     "text": [
      "2022-07-04 17:28:20 [DEBUG]\tDownloading: TotalSize=154.23M, DownloadSize=77.5M, Speed=6453KB/s\n"
     ]
    },
    {
     "name": "stderr",
     "output_type": "stream",
     "text": [
      "\r",
      " 51%|████████████████████████████████████▉                                    | 79821/157928 [00:13<00:10, 7443.38KB/s]"
     ]
    },
    {
     "name": "stdout",
     "output_type": "stream",
     "text": [
      "2022-07-04 17:28:20 [DEBUG]\tDownloading: TotalSize=154.23M, DownloadSize=78.0M, Speed=5899KB/s\n",
      "2022-07-04 17:28:20 [DEBUG]\tDownloading: TotalSize=154.23M, DownloadSize=78.5M, Speed=6261KB/s\n"
     ]
    },
    {
     "name": "stderr",
     "output_type": "stream",
     "text": [
      "\r",
      " 51%|█████████████████████████████████████▏                                   | 80566/157928 [00:13<00:10, 7255.52KB/s]"
     ]
    },
    {
     "name": "stdout",
     "output_type": "stream",
     "text": [
      "2022-07-04 17:28:21 [DEBUG]\tDownloading: TotalSize=154.23M, DownloadSize=79.0M, Speed=6985KB/s\n"
     ]
    },
    {
     "name": "stderr",
     "output_type": "stream",
     "text": [
      "\r",
      " 51%|█████████████████████████████████████▌                                   | 81293/157928 [00:13<00:10, 7140.80KB/s]"
     ]
    },
    {
     "name": "stdout",
     "output_type": "stream",
     "text": [
      "2022-07-04 17:28:21 [DEBUG]\tDownloading: TotalSize=154.23M, DownloadSize=79.5M, Speed=5731KB/s\n",
      "2022-07-04 17:28:21 [DEBUG]\tDownloading: TotalSize=154.23M, DownloadSize=80.0M, Speed=7097KB/s\n"
     ]
    },
    {
     "name": "stderr",
     "output_type": "stream",
     "text": [
      "\r",
      " 52%|█████████████████████████████████████▉                                   | 82008/157928 [00:13<00:10, 7077.22KB/s]"
     ]
    },
    {
     "name": "stdout",
     "output_type": "stream",
     "text": [
      "2022-07-04 17:28:21 [DEBUG]\tDownloading: TotalSize=154.23M, DownloadSize=80.5M, Speed=5294KB/s\n"
     ]
    },
    {
     "name": "stderr",
     "output_type": "stream",
     "text": [
      "\r",
      " 52%|██████████████████████████████████████▎                                  | 82755/157928 [00:13<00:10, 7144.66KB/s]"
     ]
    },
    {
     "name": "stdout",
     "output_type": "stream",
     "text": [
      "2022-07-04 17:28:21 [DEBUG]\tDownloading: TotalSize=154.23M, DownloadSize=81.0M, Speed=6334KB/s\n",
      "2022-07-04 17:28:21 [DEBUG]\tDownloading: TotalSize=154.23M, DownloadSize=81.5M, Speed=4945KB/s\n"
     ]
    },
    {
     "name": "stderr",
     "output_type": "stream",
     "text": [
      "\r",
      " 53%|██████████████████████████████████████▌                                  | 83470/157928 [00:14<00:10, 6789.33KB/s]"
     ]
    },
    {
     "name": "stdout",
     "output_type": "stream",
     "text": [
      "2022-07-04 17:28:21 [DEBUG]\tDownloading: TotalSize=154.23M, DownloadSize=82.0M, Speed=6265KB/s\n"
     ]
    },
    {
     "name": "stderr",
     "output_type": "stream",
     "text": [
      "\r",
      " 53%|██████████████████████████████████████▉                                  | 84153/157928 [00:14<00:10, 6737.81KB/s]"
     ]
    },
    {
     "name": "stdout",
     "output_type": "stream",
     "text": [
      "2022-07-04 17:28:21 [DEBUG]\tDownloading: TotalSize=154.23M, DownloadSize=82.5M, Speed=5358KB/s\n"
     ]
    },
    {
     "name": "stderr",
     "output_type": "stream",
     "text": [
      "\r",
      " 54%|███████████████████████████████████████▏                                 | 84830/157928 [00:14<00:11, 6422.95KB/s]"
     ]
    },
    {
     "name": "stdout",
     "output_type": "stream",
     "text": [
      "2022-07-04 17:28:21 [DEBUG]\tDownloading: TotalSize=154.23M, DownloadSize=83.0M, Speed=4878KB/s\n"
     ]
    },
    {
     "name": "stderr",
     "output_type": "stream",
     "text": [
      "\r",
      " 54%|███████████████████████████████████████▌                                 | 85496/157928 [00:14<00:11, 6486.80KB/s]"
     ]
    },
    {
     "name": "stdout",
     "output_type": "stream",
     "text": [
      "2022-07-04 17:28:21 [DEBUG]\tDownloading: TotalSize=154.23M, DownloadSize=83.5M, Speed=6416KB/s\n",
      "2022-07-04 17:28:21 [DEBUG]\tDownloading: TotalSize=154.23M, DownloadSize=84.0M, Speed=4201KB/s\n"
     ]
    },
    {
     "name": "stderr",
     "output_type": "stream",
     "text": [
      "\r",
      " 55%|███████████████████████████████████████▊                                 | 86148/157928 [00:14<00:11, 6096.75KB/s]"
     ]
    },
    {
     "name": "stdout",
     "output_type": "stream",
     "text": [
      "2022-07-04 17:28:21 [DEBUG]\tDownloading: TotalSize=154.23M, DownloadSize=84.5M, Speed=6129KB/s\n"
     ]
    },
    {
     "name": "stderr",
     "output_type": "stream",
     "text": [
      "\r",
      " 55%|████████████████████████████████████████▏                                | 86835/157928 [00:14<00:11, 6287.15KB/s]"
     ]
    },
    {
     "name": "stdout",
     "output_type": "stream",
     "text": [
      "2022-07-04 17:28:21 [DEBUG]\tDownloading: TotalSize=154.23M, DownloadSize=85.0M, Speed=6506KB/s\n"
     ]
    },
    {
     "name": "stderr",
     "output_type": "stream",
     "text": [
      "\r",
      " 55%|████████████████████████████████████████▍                                | 87523/157928 [00:14<00:10, 6445.03KB/s]"
     ]
    },
    {
     "name": "stdout",
     "output_type": "stream",
     "text": [
      "2022-07-04 17:28:22 [DEBUG]\tDownloading: TotalSize=154.23M, DownloadSize=85.5M, Speed=6042KB/s\n",
      "2022-07-04 17:28:22 [DEBUG]\tDownloading: TotalSize=154.23M, DownloadSize=86.0M, Speed=6236KB/s\n"
     ]
    },
    {
     "name": "stderr",
     "output_type": "stream",
     "text": [
      "\r",
      " 56%|████████████████████████████████████████▊                                | 88227/157928 [00:14<00:10, 6608.93KB/s]"
     ]
    },
    {
     "name": "stdout",
     "output_type": "stream",
     "text": [
      "2022-07-04 17:28:22 [DEBUG]\tDownloading: TotalSize=154.23M, DownloadSize=86.5M, Speed=5500KB/s\n"
     ]
    },
    {
     "name": "stderr",
     "output_type": "stream",
     "text": [
      "\r",
      " 56%|█████████████████████████████████████████                                | 88892/157928 [00:14<00:10, 6517.21KB/s]"
     ]
    },
    {
     "name": "stdout",
     "output_type": "stream",
     "text": [
      "2022-07-04 17:28:22 [DEBUG]\tDownloading: TotalSize=154.23M, DownloadSize=87.0M, Speed=6340KB/s\n",
      "2022-07-04 17:28:22 [DEBUG]\tDownloading: TotalSize=154.23M, DownloadSize=87.5M, Speed=6070KB/s\n"
     ]
    },
    {
     "name": "stderr",
     "output_type": "stream",
     "text": [
      "\r",
      " 57%|█████████████████████████████████████████▍                               | 89651/157928 [00:15<00:10, 6761.76KB/s]"
     ]
    },
    {
     "name": "stdout",
     "output_type": "stream",
     "text": [
      "2022-07-04 17:28:22 [DEBUG]\tDownloading: TotalSize=154.23M, DownloadSize=88.0M, Speed=6044KB/s\n"
     ]
    },
    {
     "name": "stderr",
     "output_type": "stream",
     "text": [
      "\r",
      " 57%|█████████████████████████████████████████▊                               | 90371/157928 [00:15<00:09, 6822.48KB/s]"
     ]
    },
    {
     "name": "stdout",
     "output_type": "stream",
     "text": [
      "2022-07-04 17:28:22 [DEBUG]\tDownloading: TotalSize=154.23M, DownloadSize=88.5M, Speed=6914KB/s\n",
      "2022-07-04 17:28:22 [DEBUG]\tDownloading: TotalSize=154.23M, DownloadSize=89.0M, Speed=6894KB/s\n"
     ]
    },
    {
     "name": "stderr",
     "output_type": "stream",
     "text": [
      "\r",
      " 58%|██████████████████████████████████████████▏                              | 91136/157928 [00:15<00:09, 7051.69KB/s]"
     ]
    },
    {
     "name": "stdout",
     "output_type": "stream",
     "text": [
      "2022-07-04 17:28:22 [DEBUG]\tDownloading: TotalSize=154.23M, DownloadSize=89.5M, Speed=6301KB/s\n"
     ]
    },
    {
     "name": "stderr",
     "output_type": "stream",
     "text": [
      "\r",
      " 58%|██████████████████████████████████████████▍                              | 91939/157928 [00:15<00:09, 7326.20KB/s]"
     ]
    },
    {
     "name": "stdout",
     "output_type": "stream",
     "text": [
      "2022-07-04 17:28:22 [DEBUG]\tDownloading: TotalSize=154.23M, DownloadSize=90.0M, Speed=5986KB/s\n",
      "2022-07-04 17:28:22 [DEBUG]\tDownloading: TotalSize=154.23M, DownloadSize=90.5M, Speed=6783KB/s\n"
     ]
    },
    {
     "name": "stderr",
     "output_type": "stream",
     "text": [
      "\r",
      " 59%|██████████████████████████████████████████▊                              | 92674/157928 [00:15<00:09, 7170.05KB/s]"
     ]
    },
    {
     "name": "stdout",
     "output_type": "stream",
     "text": [
      "2022-07-04 17:28:22 [DEBUG]\tDownloading: TotalSize=154.23M, DownloadSize=91.0M, Speed=6430KB/s\n"
     ]
    },
    {
     "name": "stderr",
     "output_type": "stream",
     "text": [
      "\r",
      " 59%|███████████████████████████████████████████▏                             | 93443/157928 [00:15<00:08, 7297.45KB/s]"
     ]
    },
    {
     "name": "stdout",
     "output_type": "stream",
     "text": [
      "2022-07-04 17:28:22 [DEBUG]\tDownloading: TotalSize=154.23M, DownloadSize=91.5M, Speed=5895KB/s\n"
     ]
    },
    {
     "name": "stderr",
     "output_type": "stream",
     "text": [
      "\r",
      " 60%|███████████████████████████████████████████▌                             | 94175/157928 [00:15<00:08, 7269.00KB/s]"
     ]
    },
    {
     "name": "stdout",
     "output_type": "stream",
     "text": [
      "2022-07-04 17:28:22 [DEBUG]\tDownloading: TotalSize=154.23M, DownloadSize=92.0M, Speed=7314KB/s\n",
      "2022-07-04 17:28:23 [DEBUG]\tDownloading: TotalSize=154.23M, DownloadSize=92.5M, Speed=6234KB/s\n"
     ]
    },
    {
     "name": "stderr",
     "output_type": "stream",
     "text": [
      "\r",
      " 60%|███████████████████████████████████████████▉                             | 94947/157928 [00:15<00:08, 7009.69KB/s]"
     ]
    },
    {
     "name": "stdout",
     "output_type": "stream",
     "text": [
      "2022-07-04 17:28:23 [DEBUG]\tDownloading: TotalSize=154.23M, DownloadSize=93.0M, Speed=5601KB/s\n"
     ]
    },
    {
     "name": "stderr",
     "output_type": "stream",
     "text": [
      "\r",
      " 61%|████████████████████████████████████████████▎                            | 95731/157928 [00:15<00:08, 7220.70KB/s]"
     ]
    },
    {
     "name": "stdout",
     "output_type": "stream",
     "text": [
      "2022-07-04 17:28:23 [DEBUG]\tDownloading: TotalSize=154.23M, DownloadSize=93.5M, Speed=6647KB/s\n",
      "2022-07-04 17:28:23 [DEBUG]\tDownloading: TotalSize=154.23M, DownloadSize=94.0M, Speed=6130KB/s\n"
     ]
    },
    {
     "name": "stderr",
     "output_type": "stream",
     "text": [
      "\r",
      " 61%|████████████████████████████████████████████▌                            | 96457/157928 [00:15<00:08, 7222.38KB/s]"
     ]
    },
    {
     "name": "stdout",
     "output_type": "stream",
     "text": [
      "2022-07-04 17:28:23 [DEBUG]\tDownloading: TotalSize=154.23M, DownloadSize=94.5M, Speed=6331KB/s\n"
     ]
    },
    {
     "name": "stderr",
     "output_type": "stream",
     "text": [
      "\r",
      " 62%|████████████████████████████████████████████▉                            | 97182/157928 [00:16<00:08, 7144.74KB/s]"
     ]
    },
    {
     "name": "stdout",
     "output_type": "stream",
     "text": [
      "2022-07-04 17:28:23 [DEBUG]\tDownloading: TotalSize=154.23M, DownloadSize=95.0M, Speed=6305KB/s\n",
      "2022-07-04 17:28:23 [DEBUG]\tDownloading: TotalSize=154.23M, DownloadSize=95.5M, Speed=6316KB/s\n"
     ]
    },
    {
     "name": "stderr",
     "output_type": "stream",
     "text": [
      "\r",
      " 62%|█████████████████████████████████████████████▎                           | 97923/157928 [00:16<00:08, 7182.84KB/s]"
     ]
    },
    {
     "name": "stdout",
     "output_type": "stream",
     "text": [
      "2022-07-04 17:28:23 [DEBUG]\tDownloading: TotalSize=154.23M, DownloadSize=96.0M, Speed=6415KB/s\n"
     ]
    },
    {
     "name": "stderr",
     "output_type": "stream",
     "text": [
      "\r",
      " 62%|█████████████████████████████████████████████▌                           | 98691/157928 [00:16<00:08, 7318.88KB/s]"
     ]
    },
    {
     "name": "stdout",
     "output_type": "stream",
     "text": [
      "2022-07-04 17:28:23 [DEBUG]\tDownloading: TotalSize=154.23M, DownloadSize=96.5M, Speed=6744KB/s\n",
      "2022-07-04 17:28:23 [DEBUG]\tDownloading: TotalSize=154.23M, DownloadSize=97.0M, Speed=6259KB/s\n"
     ]
    },
    {
     "name": "stderr",
     "output_type": "stream",
     "text": [
      "\r",
      " 63%|█████████████████████████████████████████████▉                           | 99424/157928 [00:16<00:07, 7318.86KB/s]"
     ]
    },
    {
     "name": "stdout",
     "output_type": "stream",
     "text": [
      "2022-07-04 17:28:23 [DEBUG]\tDownloading: TotalSize=154.23M, DownloadSize=97.5M, Speed=5758KB/s\n"
     ]
    },
    {
     "name": "stderr",
     "output_type": "stream",
     "text": [
      "\r",
      " 63%|█████████████████████████████████████████████▋                          | 100157/157928 [00:16<00:08, 7179.72KB/s]"
     ]
    },
    {
     "name": "stdout",
     "output_type": "stream",
     "text": [
      "2022-07-04 17:28:23 [DEBUG]\tDownloading: TotalSize=154.23M, DownloadSize=98.0M, Speed=5958KB/s\n",
      "2022-07-04 17:28:23 [DEBUG]\tDownloading: TotalSize=154.23M, DownloadSize=98.5M, Speed=7524KB/s\n"
     ]
    },
    {
     "name": "stderr",
     "output_type": "stream",
     "text": [
      "\r",
      " 64%|██████████████████████████████████████████████                          | 100899/157928 [00:16<00:07, 7229.30KB/s]"
     ]
    },
    {
     "name": "stdout",
     "output_type": "stream",
     "text": [
      "2022-07-04 17:28:23 [DEBUG]\tDownloading: TotalSize=154.23M, DownloadSize=99.0M, Speed=6037KB/s\n"
     ]
    },
    {
     "name": "stderr",
     "output_type": "stream",
     "text": [
      "\r",
      " 64%|██████████████████████████████████████████████▎                         | 101651/157928 [00:16<00:07, 7297.20KB/s]"
     ]
    },
    {
     "name": "stdout",
     "output_type": "stream",
     "text": [
      "2022-07-04 17:28:24 [DEBUG]\tDownloading: TotalSize=154.23M, DownloadSize=99.5M, Speed=6594KB/s\n",
      "2022-07-04 17:28:24 [DEBUG]\tDownloading: TotalSize=154.23M, DownloadSize=100.0M, Speed=7075KB/s\n"
     ]
    },
    {
     "name": "stderr",
     "output_type": "stream",
     "text": [
      "\r",
      " 65%|██████████████████████████████████████████████▋                         | 102401/157928 [00:16<00:07, 7351.07KB/s]"
     ]
    },
    {
     "name": "stdout",
     "output_type": "stream",
     "text": [
      "2022-07-04 17:28:24 [DEBUG]\tDownloading: TotalSize=154.23M, DownloadSize=100.5M, Speed=5544KB/s\n"
     ]
    },
    {
     "name": "stderr",
     "output_type": "stream",
     "text": [
      "\r",
      " 65%|███████████████████████████████████████████████                         | 103137/157928 [00:16<00:07, 7275.51KB/s]"
     ]
    },
    {
     "name": "stdout",
     "output_type": "stream",
     "text": [
      "2022-07-04 17:28:24 [DEBUG]\tDownloading: TotalSize=154.23M, DownloadSize=101.0M, Speed=6003KB/s\n"
     ]
    },
    {
     "name": "stderr",
     "output_type": "stream",
     "text": [
      "\r",
      " 66%|███████████████████████████████████████████████▎                        | 103866/157928 [00:16<00:07, 7111.36KB/s]"
     ]
    },
    {
     "name": "stdout",
     "output_type": "stream",
     "text": [
      "2022-07-04 17:28:24 [DEBUG]\tDownloading: TotalSize=154.23M, DownloadSize=101.5M, Speed=7110KB/s\n",
      "2022-07-04 17:28:24 [DEBUG]\tDownloading: TotalSize=154.23M, DownloadSize=102.0M, Speed=5492KB/s\n"
     ]
    },
    {
     "name": "stderr",
     "output_type": "stream",
     "text": [
      "\r",
      " 66%|███████████████████████████████████████████████▋                        | 104579/157928 [00:17<00:07, 6991.01KB/s]"
     ]
    },
    {
     "name": "stdout",
     "output_type": "stream",
     "text": [
      "2022-07-04 17:28:24 [DEBUG]\tDownloading: TotalSize=154.23M, DownloadSize=102.5M, Speed=5993KB/s\n"
     ]
    },
    {
     "name": "stderr",
     "output_type": "stream",
     "text": [
      "\r",
      " 67%|████████████████████████████████████████████████                        | 105297/157928 [00:17<00:07, 7044.10KB/s]"
     ]
    },
    {
     "name": "stdout",
     "output_type": "stream",
     "text": [
      "2022-07-04 17:28:24 [DEBUG]\tDownloading: TotalSize=154.23M, DownloadSize=103.0M, Speed=6435KB/s\n",
      "2022-07-04 17:28:24 [DEBUG]\tDownloading: TotalSize=154.23M, DownloadSize=103.5M, Speed=7150KB/s\n"
     ]
    },
    {
     "name": "stderr",
     "output_type": "stream",
     "text": [
      "\r",
      " 67%|████████████████████████████████████████████████▎                       | 106067/157928 [00:17<00:07, 7204.34KB/s]"
     ]
    },
    {
     "name": "stdout",
     "output_type": "stream",
     "text": [
      "2022-07-04 17:28:24 [DEBUG]\tDownloading: TotalSize=154.23M, DownloadSize=104.0M, Speed=6164KB/s\n"
     ]
    },
    {
     "name": "stderr",
     "output_type": "stream",
     "text": [
      "\r",
      " 68%|████████████████████████████████████████████████▋                       | 106835/157928 [00:17<00:07, 7294.31KB/s]"
     ]
    },
    {
     "name": "stdout",
     "output_type": "stream",
     "text": [
      "2022-07-04 17:28:24 [DEBUG]\tDownloading: TotalSize=154.23M, DownloadSize=104.5M, Speed=6492KB/s\n",
      "2022-07-04 17:28:24 [DEBUG]\tDownloading: TotalSize=154.23M, DownloadSize=105.0M, Speed=6757KB/s\n"
     ]
    },
    {
     "name": "stderr",
     "output_type": "stream",
     "text": [
      "\r",
      " 68%|█████████████████████████████████████████████████                       | 107571/157928 [00:17<00:06, 7250.17KB/s]"
     ]
    },
    {
     "name": "stdout",
     "output_type": "stream",
     "text": [
      "2022-07-04 17:28:24 [DEBUG]\tDownloading: TotalSize=154.23M, DownloadSize=105.5M, Speed=5847KB/s\n"
     ]
    },
    {
     "name": "stderr",
     "output_type": "stream",
     "text": [
      "\r",
      " 69%|█████████████████████████████████████████████████▍                      | 108323/157928 [00:17<00:06, 7287.89KB/s]"
     ]
    },
    {
     "name": "stdout",
     "output_type": "stream",
     "text": [
      "2022-07-04 17:28:24 [DEBUG]\tDownloading: TotalSize=154.23M, DownloadSize=106.0M, Speed=6328KB/s\n"
     ]
    },
    {
     "name": "stderr",
     "output_type": "stream",
     "text": [
      "\r",
      " 69%|█████████████████████████████████████████████████▋                      | 109053/157928 [00:17<00:06, 6997.99KB/s]"
     ]
    },
    {
     "name": "stdout",
     "output_type": "stream",
     "text": [
      "2022-07-04 17:28:25 [DEBUG]\tDownloading: TotalSize=154.23M, DownloadSize=106.5M, Speed=5799KB/s\n",
      "2022-07-04 17:28:25 [DEBUG]\tDownloading: TotalSize=154.23M, DownloadSize=107.0M, Speed=6087KB/s\n"
     ]
    },
    {
     "name": "stderr",
     "output_type": "stream",
     "text": [
      "\r",
      " 69%|██████████████████████████████████████████████████                      | 109756/157928 [00:17<00:06, 6962.83KB/s]"
     ]
    },
    {
     "name": "stdout",
     "output_type": "stream",
     "text": [
      "2022-07-04 17:28:25 [DEBUG]\tDownloading: TotalSize=154.23M, DownloadSize=107.5M, Speed=6411KB/s\n"
     ]
    },
    {
     "name": "stderr",
     "output_type": "stream",
     "text": [
      "\r",
      " 70%|██████████████████████████████████████████████████▎                     | 110483/157928 [00:17<00:06, 6995.27KB/s]"
     ]
    },
    {
     "name": "stdout",
     "output_type": "stream",
     "text": [
      "2022-07-04 17:28:25 [DEBUG]\tDownloading: TotalSize=154.23M, DownloadSize=108.0M, Speed=6022KB/s\n",
      "2022-07-04 17:28:25 [DEBUG]\tDownloading: TotalSize=154.23M, DownloadSize=108.5M, Speed=6723KB/s\n"
     ]
    },
    {
     "name": "stderr",
     "output_type": "stream",
     "text": [
      "\r",
      " 70%|██████████████████████████████████████████████████▋                     | 111235/157928 [00:18<00:06, 7111.11KB/s]"
     ]
    },
    {
     "name": "stdout",
     "output_type": "stream",
     "text": [
      "2022-07-04 17:28:25 [DEBUG]\tDownloading: TotalSize=154.23M, DownloadSize=109.0M, Speed=5624KB/s\n"
     ]
    },
    {
     "name": "stderr",
     "output_type": "stream",
     "text": [
      "\r",
      " 71%|███████████████████████████████████████████████████                     | 111948/157928 [00:18<00:06, 6901.18KB/s]"
     ]
    },
    {
     "name": "stdout",
     "output_type": "stream",
     "text": [
      "2022-07-04 17:28:25 [DEBUG]\tDownloading: TotalSize=154.23M, DownloadSize=109.5M, Speed=6079KB/s\n",
      "2022-07-04 17:28:25 [DEBUG]\tDownloading: TotalSize=154.23M, DownloadSize=110.0M, Speed=7408KB/s\n"
     ]
    },
    {
     "name": "stderr",
     "output_type": "stream",
     "text": [
      "\r",
      " 71%|███████████████████████████████████████████████████▍                    | 112723/157928 [00:18<00:06, 7105.22KB/s]"
     ]
    },
    {
     "name": "stdout",
     "output_type": "stream",
     "text": [
      "2022-07-04 17:28:25 [DEBUG]\tDownloading: TotalSize=154.23M, DownloadSize=110.5M, Speed=6259KB/s\n"
     ]
    },
    {
     "name": "stderr",
     "output_type": "stream",
     "text": [
      "\r",
      " 72%|███████████████████████████████████████████████████▋                    | 113436/157928 [00:18<00:06, 6620.13KB/s]"
     ]
    },
    {
     "name": "stdout",
     "output_type": "stream",
     "text": [
      "2022-07-04 17:28:25 [DEBUG]\tDownloading: TotalSize=154.23M, DownloadSize=111.0M, Speed=4699KB/s\n"
     ]
    },
    {
     "name": "stderr",
     "output_type": "stream",
     "text": [
      "\r",
      " 72%|████████████████████████████████████████████████████                    | 114105/157928 [00:18<00:06, 6622.49KB/s]"
     ]
    },
    {
     "name": "stdout",
     "output_type": "stream",
     "text": [
      "2022-07-04 17:28:25 [DEBUG]\tDownloading: TotalSize=154.23M, DownloadSize=111.5M, Speed=5442KB/s\n",
      "2022-07-04 17:28:25 [DEBUG]\tDownloading: TotalSize=154.23M, DownloadSize=112.0M, Speed=6200KB/s\n"
     ]
    },
    {
     "name": "stderr",
     "output_type": "stream",
     "text": [
      "\r",
      " 73%|████████████████████████████████████████████████████▎                   | 114773/157928 [00:18<00:06, 6632.44KB/s]"
     ]
    },
    {
     "name": "stdout",
     "output_type": "stream",
     "text": [
      "2022-07-04 17:28:25 [DEBUG]\tDownloading: TotalSize=154.23M, DownloadSize=112.5M, Speed=6143KB/s\n"
     ]
    },
    {
     "name": "stderr",
     "output_type": "stream",
     "text": [
      "\r",
      " 73%|████████████████████████████████████████████████████▋                   | 115440/157928 [00:18<00:06, 6627.29KB/s]"
     ]
    },
    {
     "name": "stdout",
     "output_type": "stream",
     "text": [
      "2022-07-04 17:28:26 [DEBUG]\tDownloading: TotalSize=154.23M, DownloadSize=113.0M, Speed=5882KB/s\n"
     ]
    },
    {
     "name": "stderr",
     "output_type": "stream",
     "text": [
      "\r",
      " 74%|████████████████████████████████████████████████████▉                   | 116163/157928 [00:18<00:06, 6754.51KB/s]"
     ]
    },
    {
     "name": "stdout",
     "output_type": "stream",
     "text": [
      "2022-07-04 17:28:26 [DEBUG]\tDownloading: TotalSize=154.23M, DownloadSize=113.5M, Speed=5932KB/s\n",
      "2022-07-04 17:28:26 [DEBUG]\tDownloading: TotalSize=154.23M, DownloadSize=114.0M, Speed=6215KB/s\n"
     ]
    },
    {
     "name": "stderr",
     "output_type": "stream",
     "text": [
      "\r",
      " 74%|█████████████████████████████████████████████████████▎                  | 116867/157928 [00:18<00:06, 6733.14KB/s]"
     ]
    },
    {
     "name": "stdout",
     "output_type": "stream",
     "text": [
      "2022-07-04 17:28:26 [DEBUG]\tDownloading: TotalSize=154.23M, DownloadSize=114.5M, Speed=6648KB/s\n"
     ]
    },
    {
     "name": "stderr",
     "output_type": "stream",
     "text": [
      "\r",
      " 74%|█████████████████████████████████████████████████████▌                  | 117571/157928 [00:18<00:05, 6777.52KB/s]"
     ]
    },
    {
     "name": "stdout",
     "output_type": "stream",
     "text": [
      "2022-07-04 17:28:26 [DEBUG]\tDownloading: TotalSize=154.23M, DownloadSize=115.0M, Speed=5421KB/s\n",
      "2022-07-04 17:28:26 [DEBUG]\tDownloading: TotalSize=154.23M, DownloadSize=115.5M, Speed=6471KB/s\n"
     ]
    },
    {
     "name": "stderr",
     "output_type": "stream",
     "text": [
      "\r",
      " 75%|█████████████████████████████████████████████████████▉                  | 118355/157928 [00:19<00:05, 7061.77KB/s]"
     ]
    },
    {
     "name": "stdout",
     "output_type": "stream",
     "text": [
      "2022-07-04 17:28:26 [DEBUG]\tDownloading: TotalSize=154.23M, DownloadSize=116.0M, Speed=7224KB/s\n"
     ]
    },
    {
     "name": "stderr",
     "output_type": "stream",
     "text": [
      "\r",
      " 75%|██████████████████████████████████████████████████████▎                 | 119063/157928 [00:19<00:05, 7057.30KB/s]"
     ]
    },
    {
     "name": "stdout",
     "output_type": "stream",
     "text": [
      "2022-07-04 17:28:26 [DEBUG]\tDownloading: TotalSize=154.23M, DownloadSize=116.5M, Speed=5860KB/s\n"
     ]
    },
    {
     "name": "stderr",
     "output_type": "stream",
     "text": [
      "\r",
      " 76%|██████████████████████████████████████████████████████▌                 | 119770/157928 [00:19<00:05, 7038.42KB/s]"
     ]
    },
    {
     "name": "stdout",
     "output_type": "stream",
     "text": [
      "2022-07-04 17:28:26 [DEBUG]\tDownloading: TotalSize=154.23M, DownloadSize=117.0M, Speed=5734KB/s\n",
      "2022-07-04 17:28:26 [DEBUG]\tDownloading: TotalSize=154.23M, DownloadSize=117.5M, Speed=6926KB/s\n"
     ]
    },
    {
     "name": "stderr",
     "output_type": "stream",
     "text": [
      "\r",
      " 76%|██████████████████████████████████████████████████████▉                 | 120531/157928 [00:19<00:05, 7163.79KB/s]"
     ]
    },
    {
     "name": "stdout",
     "output_type": "stream",
     "text": [
      "2022-07-04 17:28:26 [DEBUG]\tDownloading: TotalSize=154.23M, DownloadSize=118.0M, Speed=6813KB/s\n"
     ]
    },
    {
     "name": "stderr",
     "output_type": "stream",
     "text": [
      "\r",
      " 77%|███████████████████████████████████████████████████████▎                | 121283/157928 [00:19<00:05, 7216.95KB/s]"
     ]
    },
    {
     "name": "stdout",
     "output_type": "stream",
     "text": [
      "2022-07-04 17:28:26 [DEBUG]\tDownloading: TotalSize=154.23M, DownloadSize=118.5M, Speed=6284KB/s\n",
      "2022-07-04 17:28:26 [DEBUG]\tDownloading: TotalSize=154.23M, DownloadSize=119.0M, Speed=6963KB/s\n"
     ]
    },
    {
     "name": "stderr",
     "output_type": "stream",
     "text": [
      "\r",
      " 77%|███████████████████████████████████████████████████████▋                | 122067/157928 [00:19<00:04, 7292.49KB/s]"
     ]
    },
    {
     "name": "stdout",
     "output_type": "stream",
     "text": [
      "2022-07-04 17:28:26 [DEBUG]\tDownloading: TotalSize=154.23M, DownloadSize=119.5M, Speed=5583KB/s\n"
     ]
    },
    {
     "name": "stderr",
     "output_type": "stream",
     "text": [
      "\r",
      " 78%|███████████████████████████████████████████████████████▉                | 122797/157928 [00:19<00:04, 7056.26KB/s]"
     ]
    },
    {
     "name": "stdout",
     "output_type": "stream",
     "text": [
      "2022-07-04 17:28:27 [DEBUG]\tDownloading: TotalSize=154.23M, DownloadSize=120.0M, Speed=5831KB/s\n",
      "2022-07-04 17:28:27 [DEBUG]\tDownloading: TotalSize=154.23M, DownloadSize=120.5M, Speed=5807KB/s\n"
     ]
    },
    {
     "name": "stderr",
     "output_type": "stream",
     "text": [
      "\r",
      " 78%|████████████████████████████████████████████████████████▎               | 123523/157928 [00:19<00:04, 7083.20KB/s]"
     ]
    },
    {
     "name": "stdout",
     "output_type": "stream",
     "text": [
      "2022-07-04 17:28:27 [DEBUG]\tDownloading: TotalSize=154.23M, DownloadSize=121.0M, Speed=7081KB/s\n"
     ]
    },
    {
     "name": "stderr",
     "output_type": "stream",
     "text": [
      "\r",
      " 79%|████████████████████████████████████████████████████████▋               | 124233/157928 [00:19<00:04, 6930.72KB/s]"
     ]
    },
    {
     "name": "stdout",
     "output_type": "stream",
     "text": [
      "2022-07-04 17:28:27 [DEBUG]\tDownloading: TotalSize=154.23M, DownloadSize=121.5M, Speed=5885KB/s\n",
      "2022-07-04 17:28:27 [DEBUG]\tDownloading: TotalSize=154.23M, DownloadSize=122.0M, Speed=5623KB/s\n"
     ]
    },
    {
     "name": "stderr",
     "output_type": "stream",
     "text": [
      "\r",
      " 79%|████████████████████████████████████████████████████████▉               | 124928/157928 [00:20<00:04, 6903.22KB/s]"
     ]
    },
    {
     "name": "stdout",
     "output_type": "stream",
     "text": [
      "2022-07-04 17:28:27 [DEBUG]\tDownloading: TotalSize=154.23M, DownloadSize=122.5M, Speed=6379KB/s\n"
     ]
    },
    {
     "name": "stderr",
     "output_type": "stream",
     "text": [
      "\r",
      " 80%|█████████████████████████████████████████████████████████▎              | 125699/157928 [00:20<00:04, 7060.18KB/s]"
     ]
    },
    {
     "name": "stdout",
     "output_type": "stream",
     "text": [
      "2022-07-04 17:28:27 [DEBUG]\tDownloading: TotalSize=154.23M, DownloadSize=123.0M, Speed=6676KB/s\n"
     ]
    },
    {
     "name": "stderr",
     "output_type": "stream",
     "text": [
      "\r",
      " 80%|█████████████████████████████████████████████████████████▋              | 126406/157928 [00:20<00:04, 7020.44KB/s]"
     ]
    },
    {
     "name": "stdout",
     "output_type": "stream",
     "text": [
      "2022-07-04 17:28:27 [DEBUG]\tDownloading: TotalSize=154.23M, DownloadSize=123.5M, Speed=4682KB/s\n",
      "2022-07-04 17:28:27 [DEBUG]\tDownloading: TotalSize=154.23M, DownloadSize=124.0M, Speed=6320KB/s\n"
     ]
    },
    {
     "name": "stderr",
     "output_type": "stream",
     "text": [
      "\r",
      " 80%|█████████████████████████████████████████████████████████▉              | 127109/157928 [00:20<00:04, 6826.99KB/s]"
     ]
    },
    {
     "name": "stdout",
     "output_type": "stream",
     "text": [
      "2022-07-04 17:28:27 [DEBUG]\tDownloading: TotalSize=154.23M, DownloadSize=124.5M, Speed=6546KB/s\n"
     ]
    },
    {
     "name": "stderr",
     "output_type": "stream",
     "text": [
      "\r",
      " 81%|██████████████████████████████████████████████████████████▎             | 127793/157928 [00:20<00:04, 6693.20KB/s]"
     ]
    },
    {
     "name": "stdout",
     "output_type": "stream",
     "text": [
      "2022-07-04 17:28:27 [DEBUG]\tDownloading: TotalSize=154.23M, DownloadSize=125.0M, Speed=6299KB/s\n",
      "2022-07-04 17:28:27 [DEBUG]\tDownloading: TotalSize=154.23M, DownloadSize=125.5M, Speed=6264KB/s\n"
     ]
    },
    {
     "name": "stderr",
     "output_type": "stream",
     "text": [
      "\r",
      " 81%|██████████████████████████████████████████████████████████▌             | 128579/157928 [00:20<00:04, 6983.56KB/s]"
     ]
    },
    {
     "name": "stdout",
     "output_type": "stream",
     "text": [
      "2022-07-04 17:28:27 [DEBUG]\tDownloading: TotalSize=154.23M, DownloadSize=126.0M, Speed=6940KB/s\n"
     ]
    },
    {
     "name": "stderr",
     "output_type": "stream",
     "text": [
      "\r",
      " 82%|██████████████████████████████████████████████████████████▉             | 129299/157928 [00:20<00:04, 7003.03KB/s]"
     ]
    },
    {
     "name": "stdout",
     "output_type": "stream",
     "text": [
      "2022-07-04 17:28:28 [DEBUG]\tDownloading: TotalSize=154.23M, DownloadSize=126.5M, Speed=5343KB/s\n"
     ]
    },
    {
     "name": "stderr",
     "output_type": "stream",
     "text": [
      "\r",
      " 82%|███████████████████████████████████████████████████████████▎            | 130019/157928 [00:20<00:03, 6989.75KB/s]"
     ]
    },
    {
     "name": "stdout",
     "output_type": "stream",
     "text": [
      "2022-07-04 17:28:28 [DEBUG]\tDownloading: TotalSize=154.23M, DownloadSize=127.0M, Speed=6446KB/s\n",
      "2022-07-04 17:28:28 [DEBUG]\tDownloading: TotalSize=154.23M, DownloadSize=127.5M, Speed=6114KB/s\n"
     ]
    },
    {
     "name": "stderr",
     "output_type": "stream",
     "text": [
      "\r",
      " 83%|███████████████████████████████████████████████████████████▌            | 130771/157928 [00:20<00:03, 7099.79KB/s]"
     ]
    },
    {
     "name": "stdout",
     "output_type": "stream",
     "text": [
      "2022-07-04 17:28:28 [DEBUG]\tDownloading: TotalSize=154.23M, DownloadSize=128.0M, Speed=4845KB/s\n"
     ]
    },
    {
     "name": "stderr",
     "output_type": "stream",
     "text": [
      "\r",
      " 83%|███████████████████████████████████████████████████████████▉            | 131482/157928 [00:20<00:03, 6656.67KB/s]"
     ]
    },
    {
     "name": "stdout",
     "output_type": "stream",
     "text": [
      "2022-07-04 17:28:28 [DEBUG]\tDownloading: TotalSize=154.23M, DownloadSize=128.5M, Speed=6845KB/s\n",
      "2022-07-04 17:28:28 [DEBUG]\tDownloading: TotalSize=154.23M, DownloadSize=129.0M, Speed=6033KB/s\n"
     ]
    },
    {
     "name": "stderr",
     "output_type": "stream",
     "text": [
      "\r",
      " 84%|████████████████████████████████████████████████████████████▎           | 132211/157928 [00:21<00:03, 6820.52KB/s]"
     ]
    },
    {
     "name": "stdout",
     "output_type": "stream",
     "text": [
      "2022-07-04 17:28:28 [DEBUG]\tDownloading: TotalSize=154.23M, DownloadSize=129.5M, Speed=5836KB/s\n"
     ]
    },
    {
     "name": "stderr",
     "output_type": "stream",
     "text": [
      "\r",
      " 84%|████████████████████████████████████████████████████████████▌           | 132915/157928 [00:21<00:03, 6862.13KB/s]"
     ]
    },
    {
     "name": "stdout",
     "output_type": "stream",
     "text": [
      "2022-07-04 17:28:28 [DEBUG]\tDownloading: TotalSize=154.23M, DownloadSize=130.0M, Speed=6891KB/s\n",
      "2022-07-04 17:28:28 [DEBUG]\tDownloading: TotalSize=154.23M, DownloadSize=130.5M, Speed=6121KB/s\n"
     ]
    },
    {
     "name": "stderr",
     "output_type": "stream",
     "text": [
      "\r",
      " 85%|████████████████████████████████████████████████████████████▉           | 133632/157928 [00:21<00:03, 6918.41KB/s]"
     ]
    },
    {
     "name": "stdout",
     "output_type": "stream",
     "text": [
      "2022-07-04 17:28:28 [DEBUG]\tDownloading: TotalSize=154.23M, DownloadSize=131.0M, Speed=6371KB/s\n"
     ]
    },
    {
     "name": "stderr",
     "output_type": "stream",
     "text": [
      "\r",
      " 85%|█████████████████████████████████████████████████████████████▎          | 134396/157928 [00:21<00:03, 7115.32KB/s]"
     ]
    },
    {
     "name": "stdout",
     "output_type": "stream",
     "text": [
      "2022-07-04 17:28:28 [DEBUG]\tDownloading: TotalSize=154.23M, DownloadSize=131.5M, Speed=7089KB/s\n"
     ]
    },
    {
     "name": "stderr",
     "output_type": "stream",
     "text": [
      "\r",
      " 86%|█████████████████████████████████████████████████████████████▌          | 135142/157928 [00:21<00:03, 7213.84KB/s]"
     ]
    },
    {
     "name": "stdout",
     "output_type": "stream",
     "text": [
      "2022-07-04 17:28:28 [DEBUG]\tDownloading: TotalSize=154.23M, DownloadSize=132.0M, Speed=6076KB/s\n",
      "2022-07-04 17:28:28 [DEBUG]\tDownloading: TotalSize=154.23M, DownloadSize=132.5M, Speed=6036KB/s\n"
     ]
    },
    {
     "name": "stderr",
     "output_type": "stream",
     "text": [
      "\r",
      " 86%|█████████████████████████████████████████████████████████████▉          | 135866/157928 [00:21<00:03, 7205.91KB/s]"
     ]
    },
    {
     "name": "stdout",
     "output_type": "stream",
     "text": [
      "2022-07-04 17:28:28 [DEBUG]\tDownloading: TotalSize=154.23M, DownloadSize=133.0M, Speed=7144KB/s\n"
     ]
    },
    {
     "name": "stderr",
     "output_type": "stream",
     "text": [
      "\r",
      " 87%|██████████████████████████████████████████████████████████████▎         | 136611/157928 [00:21<00:02, 7263.22KB/s]"
     ]
    },
    {
     "name": "stdout",
     "output_type": "stream",
     "text": [
      "2022-07-04 17:28:29 [DEBUG]\tDownloading: TotalSize=154.23M, DownloadSize=133.5M, Speed=6253KB/s\n",
      "2022-07-04 17:28:29 [DEBUG]\tDownloading: TotalSize=154.23M, DownloadSize=134.0M, Speed=5334KB/s\n"
     ]
    },
    {
     "name": "stderr",
     "output_type": "stream",
     "text": [
      "\r",
      " 87%|██████████████████████████████████████████████████████████████▌         | 137339/157928 [00:21<00:02, 6999.97KB/s]"
     ]
    },
    {
     "name": "stdout",
     "output_type": "stream",
     "text": [
      "2022-07-04 17:28:29 [DEBUG]\tDownloading: TotalSize=154.23M, DownloadSize=134.5M, Speed=6297KB/s\n"
     ]
    },
    {
     "name": "stderr",
     "output_type": "stream",
     "text": [
      "\r",
      " 87%|██████████████████████████████████████████████████████████████▉         | 138042/157928 [00:21<00:02, 6973.02KB/s]"
     ]
    },
    {
     "name": "stdout",
     "output_type": "stream",
     "text": [
      "2022-07-04 17:28:29 [DEBUG]\tDownloading: TotalSize=154.23M, DownloadSize=135.0M, Speed=6359KB/s\n",
      "2022-07-04 17:28:29 [DEBUG]\tDownloading: TotalSize=154.23M, DownloadSize=135.5M, Speed=5996KB/s\n"
     ]
    },
    {
     "name": "stderr",
     "output_type": "stream",
     "text": [
      "\r",
      " 88%|███████████████████████████████████████████████████████████████▎        | 138752/157928 [00:21<00:02, 6996.46KB/s]"
     ]
    },
    {
     "name": "stdout",
     "output_type": "stream",
     "text": [
      "2022-07-04 17:28:29 [DEBUG]\tDownloading: TotalSize=154.23M, DownloadSize=136.0M, Speed=5737KB/s\n"
     ]
    },
    {
     "name": "stderr",
     "output_type": "stream",
     "text": [
      "\r",
      " 88%|███████████████████████████████████████████████████████████████▌        | 139453/157928 [00:22<00:02, 6979.66KB/s]"
     ]
    },
    {
     "name": "stdout",
     "output_type": "stream",
     "text": [
      "2022-07-04 17:28:29 [DEBUG]\tDownloading: TotalSize=154.23M, DownloadSize=136.5M, Speed=6413KB/s\n"
     ]
    },
    {
     "name": "stderr",
     "output_type": "stream",
     "text": [
      "\r",
      " 89%|███████████████████████████████████████████████████████████████▉        | 140163/157928 [00:22<00:02, 6918.79KB/s]"
     ]
    },
    {
     "name": "stdout",
     "output_type": "stream",
     "text": [
      "2022-07-04 17:28:29 [DEBUG]\tDownloading: TotalSize=154.23M, DownloadSize=137.0M, Speed=5702KB/s\n",
      "2022-07-04 17:28:29 [DEBUG]\tDownloading: TotalSize=154.23M, DownloadSize=137.5M, Speed=5700KB/s\n"
     ]
    },
    {
     "name": "stderr",
     "output_type": "stream",
     "text": [
      "\r",
      " 89%|████████████████████████████████████████████████████████████████▏       | 140856/157928 [00:22<00:02, 6691.33KB/s]"
     ]
    },
    {
     "name": "stdout",
     "output_type": "stream",
     "text": [
      "2022-07-04 17:28:29 [DEBUG]\tDownloading: TotalSize=154.23M, DownloadSize=138.0M, Speed=6433KB/s\n"
     ]
    },
    {
     "name": "stderr",
     "output_type": "stream",
     "text": [
      "\r",
      " 90%|████████████████████████████████████████████████████████████████▌       | 141539/157928 [00:22<00:02, 6718.68KB/s]"
     ]
    },
    {
     "name": "stdout",
     "output_type": "stream",
     "text": [
      "2022-07-04 17:28:29 [DEBUG]\tDownloading: TotalSize=154.23M, DownloadSize=138.5M, Speed=5363KB/s\n"
     ]
    },
    {
     "name": "stderr",
     "output_type": "stream",
     "text": [
      "\r",
      " 90%|████████████████████████████████████████████████████████████████▊       | 142275/157928 [00:22<00:02, 6827.72KB/s]"
     ]
    },
    {
     "name": "stdout",
     "output_type": "stream",
     "text": [
      "2022-07-04 17:28:29 [DEBUG]\tDownloading: TotalSize=154.23M, DownloadSize=139.0M, Speed=6874KB/s\n",
      "2022-07-04 17:28:29 [DEBUG]\tDownloading: TotalSize=154.23M, DownloadSize=139.5M, Speed=6151KB/s\n"
     ]
    },
    {
     "name": "stderr",
     "output_type": "stream",
     "text": [
      "\r",
      " 91%|█████████████████████████████████████████████████████████████████▏      | 143043/157928 [00:22<00:02, 7028.82KB/s]"
     ]
    },
    {
     "name": "stdout",
     "output_type": "stream",
     "text": [
      "2022-07-04 17:28:30 [DEBUG]\tDownloading: TotalSize=154.23M, DownloadSize=140.0M, Speed=6889KB/s\n"
     ]
    },
    {
     "name": "stderr",
     "output_type": "stream",
     "text": [
      "\r",
      " 91%|█████████████████████████████████████████████████████████████████▌      | 143811/157928 [00:22<00:01, 7219.06KB/s]"
     ]
    },
    {
     "name": "stdout",
     "output_type": "stream",
     "text": [
      "2022-07-04 17:28:30 [DEBUG]\tDownloading: TotalSize=154.23M, DownloadSize=140.5M, Speed=6846KB/s\n",
      "2022-07-04 17:28:30 [DEBUG]\tDownloading: TotalSize=154.23M, DownloadSize=141.0M, Speed=6170KB/s\n"
     ]
    },
    {
     "name": "stderr",
     "output_type": "stream",
     "text": [
      "\r",
      " 92%|█████████████████████████████████████████████████████████████████▉      | 144547/157928 [00:22<00:01, 7162.95KB/s]"
     ]
    },
    {
     "name": "stdout",
     "output_type": "stream",
     "text": [
      "2022-07-04 17:28:30 [DEBUG]\tDownloading: TotalSize=154.23M, DownloadSize=141.5M, Speed=5492KB/s\n"
     ]
    },
    {
     "name": "stderr",
     "output_type": "stream",
     "text": [
      "\r",
      " 92%|██████████████████████████████████████████████████████████████████▏     | 145265/157928 [00:22<00:01, 7141.09KB/s]"
     ]
    },
    {
     "name": "stdout",
     "output_type": "stream",
     "text": [
      "2022-07-04 17:28:30 [DEBUG]\tDownloading: TotalSize=154.23M, DownloadSize=142.0M, Speed=7147KB/s\n",
      "2022-07-04 17:28:30 [DEBUG]\tDownloading: TotalSize=154.23M, DownloadSize=142.5M, Speed=6228KB/s\n"
     ]
    },
    {
     "name": "stderr",
     "output_type": "stream",
     "text": [
      "\r",
      " 92%|██████████████████████████████████████████████████████████████████▌     | 146003/157928 [00:23<00:01, 7191.37KB/s]"
     ]
    },
    {
     "name": "stdout",
     "output_type": "stream",
     "text": [
      "2022-07-04 17:28:30 [DEBUG]\tDownloading: TotalSize=154.23M, DownloadSize=143.0M, Speed=6398KB/s\n"
     ]
    },
    {
     "name": "stderr",
     "output_type": "stream",
     "text": [
      "\r",
      " 93%|██████████████████████████████████████████████████████████████████▉     | 146771/157928 [00:23<00:01, 7329.90KB/s]"
     ]
    },
    {
     "name": "stdout",
     "output_type": "stream",
     "text": [
      "2022-07-04 17:28:30 [DEBUG]\tDownloading: TotalSize=154.23M, DownloadSize=143.5M, Speed=7282KB/s\n",
      "2022-07-04 17:28:30 [DEBUG]\tDownloading: TotalSize=154.23M, DownloadSize=144.0M, Speed=6032KB/s\n"
     ]
    },
    {
     "name": "stderr",
     "output_type": "stream",
     "text": [
      "\r",
      " 93%|███████████████████████████████████████████████████████████████████▏    | 147507/157928 [00:23<00:01, 7337.13KB/s]"
     ]
    },
    {
     "name": "stdout",
     "output_type": "stream",
     "text": [
      "2022-07-04 17:28:30 [DEBUG]\tDownloading: TotalSize=154.23M, DownloadSize=144.5M, Speed=6053KB/s\n"
     ]
    },
    {
     "name": "stderr",
     "output_type": "stream",
     "text": [
      "\r",
      " 94%|███████████████████████████████████████████████████████████████████▌    | 148242/157928 [00:23<00:01, 7287.42KB/s]"
     ]
    },
    {
     "name": "stdout",
     "output_type": "stream",
     "text": [
      "2022-07-04 17:28:30 [DEBUG]\tDownloading: TotalSize=154.23M, DownloadSize=145.0M, Speed=6732KB/s\n"
     ]
    },
    {
     "name": "stderr",
     "output_type": "stream",
     "text": [
      "\r",
      " 94%|███████████████████████████████████████████████████████████████████▉    | 148972/157928 [00:23<00:01, 7044.68KB/s]"
     ]
    },
    {
     "name": "stdout",
     "output_type": "stream",
     "text": [
      "2022-07-04 17:28:30 [DEBUG]\tDownloading: TotalSize=154.23M, DownloadSize=145.5M, Speed=5095KB/s\n",
      "2022-07-04 17:28:30 [DEBUG]\tDownloading: TotalSize=154.23M, DownloadSize=146.0M, Speed=6380KB/s\n"
     ]
    },
    {
     "name": "stderr",
     "output_type": "stream",
     "text": [
      "\r",
      " 95%|████████████████████████████████████████████████████████████████████▏   | 149683/157928 [00:23<00:01, 7004.01KB/s]"
     ]
    },
    {
     "name": "stdout",
     "output_type": "stream",
     "text": [
      "2022-07-04 17:28:30 [DEBUG]\tDownloading: TotalSize=154.23M, DownloadSize=146.5M, Speed=6475KB/s\n"
     ]
    },
    {
     "name": "stderr",
     "output_type": "stream",
     "text": [
      "\r",
      " 95%|████████████████████████████████████████████████████████████████████▌   | 150435/157928 [00:23<00:01, 7138.27KB/s]"
     ]
    },
    {
     "name": "stdout",
     "output_type": "stream",
     "text": [
      "2022-07-04 17:28:30 [DEBUG]\tDownloading: TotalSize=154.23M, DownloadSize=147.0M, Speed=7186KB/s\n",
      "2022-07-04 17:28:31 [DEBUG]\tDownloading: TotalSize=154.23M, DownloadSize=147.5M, Speed=6329KB/s\n"
     ]
    },
    {
     "name": "stderr",
     "output_type": "stream",
     "text": [
      "\r",
      " 96%|████████████████████████████████████████████████████████████████████▉   | 151203/157928 [00:23<00:00, 7188.70KB/s]"
     ]
    },
    {
     "name": "stdout",
     "output_type": "stream",
     "text": [
      "2022-07-04 17:28:31 [DEBUG]\tDownloading: TotalSize=154.23M, DownloadSize=148.0M, Speed=6282KB/s\n"
     ]
    },
    {
     "name": "stderr",
     "output_type": "stream",
     "text": [
      "\r",
      " 96%|█████████████████████████████████████████████████████████████████████▎  | 152019/157928 [00:23<00:00, 7447.30KB/s]"
     ]
    },
    {
     "name": "stdout",
     "output_type": "stream",
     "text": [
      "2022-07-04 17:28:31 [DEBUG]\tDownloading: TotalSize=154.23M, DownloadSize=148.5M, Speed=7291KB/s\n",
      "2022-07-04 17:28:31 [DEBUG]\tDownloading: TotalSize=154.23M, DownloadSize=149.0M, Speed=6376KB/s\n"
     ]
    },
    {
     "name": "stderr",
     "output_type": "stream",
     "text": [
      "\r",
      " 97%|█████████████████████████████████████████████████████████████████████▋  | 152771/157928 [00:23<00:00, 7463.75KB/s]"
     ]
    },
    {
     "name": "stdout",
     "output_type": "stream",
     "text": [
      "2022-07-04 17:28:31 [DEBUG]\tDownloading: TotalSize=154.23M, DownloadSize=149.5M, Speed=5906KB/s\n"
     ]
    },
    {
     "name": "stderr",
     "output_type": "stream",
     "text": [
      "\r",
      " 97%|█████████████████████████████████████████████████████████████████████▉  | 153519/157928 [00:24<00:00, 7451.52KB/s]"
     ]
    },
    {
     "name": "stdout",
     "output_type": "stream",
     "text": [
      "2022-07-04 17:28:31 [DEBUG]\tDownloading: TotalSize=154.23M, DownloadSize=150.0M, Speed=6558KB/s\n",
      "2022-07-04 17:28:31 [DEBUG]\tDownloading: TotalSize=154.23M, DownloadSize=150.5M, Speed=5514KB/s\n"
     ]
    },
    {
     "name": "stderr",
     "output_type": "stream",
     "text": [
      "\r",
      " 98%|██████████████████████████████████████████████████████████████████████▎ | 154265/157928 [00:24<00:00, 6886.87KB/s]"
     ]
    },
    {
     "name": "stdout",
     "output_type": "stream",
     "text": [
      "2022-07-04 17:28:31 [DEBUG]\tDownloading: TotalSize=154.23M, DownloadSize=151.0M, Speed=6000KB/s\n"
     ]
    },
    {
     "name": "stderr",
     "output_type": "stream",
     "text": [
      "\r",
      " 98%|██████████████████████████████████████████████████████████████████████▋ | 154995/157928 [00:24<00:00, 6984.24KB/s]"
     ]
    },
    {
     "name": "stdout",
     "output_type": "stream",
     "text": [
      "2022-07-04 17:28:31 [DEBUG]\tDownloading: TotalSize=154.23M, DownloadSize=151.5M, Speed=6350KB/s\n",
      "2022-07-04 17:28:31 [DEBUG]\tDownloading: TotalSize=154.23M, DownloadSize=152.0M, Speed=6821KB/s\n"
     ]
    },
    {
     "name": "stderr",
     "output_type": "stream",
     "text": [
      "\r",
      " 99%|███████████████████████████████████████████████████████████████████████ | 155779/157928 [00:24<00:00, 7040.89KB/s]"
     ]
    },
    {
     "name": "stdout",
     "output_type": "stream",
     "text": [
      "2022-07-04 17:28:31 [DEBUG]\tDownloading: TotalSize=154.23M, DownloadSize=152.5M, Speed=6286KB/s\n"
     ]
    },
    {
     "name": "stderr",
     "output_type": "stream",
     "text": [
      "\r",
      " 99%|███████████████████████████████████████████████████████████████████████▎| 156547/157928 [00:24<00:00, 7170.59KB/s]"
     ]
    },
    {
     "name": "stdout",
     "output_type": "stream",
     "text": [
      "2022-07-04 17:28:31 [DEBUG]\tDownloading: TotalSize=154.23M, DownloadSize=153.0M, Speed=5898KB/s\n",
      "2022-07-04 17:28:31 [DEBUG]\tDownloading: TotalSize=154.23M, DownloadSize=153.5M, Speed=7514KB/s\n"
     ]
    },
    {
     "name": "stderr",
     "output_type": "stream",
     "text": [
      "\r",
      "100%|███████████████████████████████████████████████████████████████████████▋| 157315/157928 [00:24<00:00, 7283.31KB/s]"
     ]
    },
    {
     "name": "stdout",
     "output_type": "stream",
     "text": [
      "2022-07-04 17:28:31 [DEBUG]\tDownloading: TotalSize=154.23M, DownloadSize=154.0M, Speed=6335KB/s\n"
     ]
    },
    {
     "name": "stderr",
     "output_type": "stream",
     "text": [
      "100%|████████████████████████████████████████████████████████████████████████| 157928/157928 [00:24<00:00, 6401.04KB/s]\n"
     ]
    },
    {
     "name": "stdout",
     "output_type": "stream",
     "text": [
      "2022-07-04 17:28:32 [DEBUG]\tmodel.pdparams download completed.\n",
      "2022-07-04 17:28:32 [INFO]\tLoading pretrained model from C:/Users/Administrator/diwu_pre/baidu/tiqu/exp/pretrain\\model.pdparams\n",
      "2022-07-04 17:28:32 [WARNING]\t[SKIP] Shape of pretrained params head.decoder.conv.weight doesn't match.(Pretrained: [19, 256, 1, 1], Actual: [2, 256, 1, 1])\n",
      "2022-07-04 17:28:32 [WARNING]\t[SKIP] Shape of pretrained params head.decoder.conv.bias doesn't match.(Pretrained: [19], Actual: [2])\n",
      "2022-07-04 17:28:33 [INFO]\tThere are 358/360 variables loaded into DeepLabV3P.\n"
     ]
    }
   ],
   "source": [
    "# 构建DeepLab V3+模型，使用ResNet-50作为backbone\n",
    "model = pdrs.tasks.DeepLabV3P(\n",
    "    input_channel=3,\n",
    "    \n",
    "    backbone='ResNet50_vd'\n",
    ")\n",
    "model.net_initialize(\n",
    "    pretrain_weights='CITYSCAPES',\n",
    "    save_dir=osp.join(EXP_DIR, 'pretrain'),\n",
    "    resume_checkpoint=None,\n",
    "    is_backbone_weights=False\n",
    ")"
   ]
  },
  {
   "cell_type": "code",
   "execution_count": 10,
   "id": "004fff7e",
   "metadata": {},
   "outputs": [],
   "source": [
    "# 构建优化器\n",
    "optimizer = paddle.optimizer.Adam(\n",
    "    learning_rate=0.001, \n",
    "    parameters=model.net.parameters()\n",
    ")"
   ]
  },
  {
   "cell_type": "code",
   "execution_count": 11,
   "id": "bb3dc477",
   "metadata": {},
   "outputs": [
    {
     "name": "stdout",
     "output_type": "stream",
     "text": [
      "2022-07-04 17:28:49 [INFO]\t1 samples in file C:/Users/Administrator/diwu_pre/baidu/tiqu/data/test.txt\n",
      "2022-07-04 17:28:49 [INFO]\tStart to evaluate(total_samples=1, total_steps=1)...\n",
      "测试集上指标：IoU为0.52，Acc为0.73，Kappa系数为0.65, F1为0.69\n"
     ]
    }
   ],
   "source": [
    "# 构建测试集\n",
    "test_dataset = pdrs.datasets.SegDataset(\n",
    "    data_dir=DATA_DIR,\n",
    "    file_list=TEST_FILE_LIST_PATH,\n",
    "\n",
    "    transforms=eval_transforms,\n",
    "    num_workers=0,\n",
    "    shuffle=False\n",
    ")\n",
    "\n",
    "\n",
    "# 为模型加载历史最佳权重\n",
    "state_dict = paddle.load(osp.join(EXP_DIR, 'model.pdparams'))\n",
    "model.net.set_state_dict(state_dict)\n",
    "\n",
    "# 执行测试\n",
    "test_result = model.evaluate(test_dataset)\n",
    "print(\n",
    "    \"测试集上指标：IoU为{:.2f}，Acc为{:.2f}，Kappa系数为{:.2f}, F1为{:.2f}\".format(\n",
    "        test_result['category_iou'][1], \n",
    "        test_result['category_acc'][1],\n",
    "        test_result['kappa'],\n",
    "        test_result['category_F1-score'][1]\n",
    "    )\n",
    ")"
   ]
  },
  {
   "cell_type": "code",
   "execution_count": 19,
   "id": "b9af5f50",
   "metadata": {},
   "outputs": [
    {
     "data": {
      "image/png": "[encoded data removed]",
      "text/plain": [
       "<PIL.Image.Image image mode=RGB size=640x480>"
      ]
     },
     "execution_count": 19,
     "metadata": {},
     "output_type": "execute_result"
    }
   ],
   "source": [
    "# 预测结果可视化\n",
    "# 重复运行本单元可以查看不同结果\n",
    "\n",
    "def read_image(path):\n",
    "    im = cv2.imread(path)\n",
    "    return im[...,::-1]\n",
    "\n",
    "\n",
    "def show_images_in_row(ims, fig, title='', quantize=False):\n",
    "    n = len(ims)\n",
    "    fig.suptitle(title)\n",
    "    axs = fig.subplots(nrows=1, ncols=n)\n",
    "    for idx, (im, ax) in enumerate(zip(ims, axs)):\n",
    "        # 去掉刻度线和边框\n",
    "        ax.spines['top'].set_visible(False)\n",
    "        ax.spines['right'].set_visible(False)\n",
    "        ax.spines['bottom'].set_visible(False)\n",
    "        ax.spines['left'].set_visible(False)\n",
    "        ax.get_xaxis().set_ticks([])\n",
    "        ax.get_yaxis().set_ticks([])\n",
    "\n",
    "        if isinstance(im, str):\n",
    "            im = read_image(im)\n",
    "\n",
    "        if quantize:\n",
    "            im = (im*255).astype('uint8')\n",
    "\n",
    "        if im.ndim == 2:\n",
    "            im = np.tile(im[...,np.newaxis], [1,1,3])\n",
    "\n",
    "        ax.imshow(im)\n",
    "\n",
    "def get_lut():\n",
    "    lut = np.zeros((256,3), dtype=np.uint8)\n",
    "    lut[0] = [255, 0, 0]\n",
    "    lut[1] = [30, 255, 142]\n",
    "    lut[2] = [60, 0, 255]\n",
    "    lut[3] = [255, 222, 0]\n",
    "    lut[4] = [0, 0, 0]\n",
    "    return lut\n",
    "\n",
    "# 需要展示的样本个数\n",
    "num_imgs_to_show = 2\n",
    "# 随机抽取样本\n",
    "chosen_indices = random.choices(range(len(test_dataset)), k=num_imgs_to_show)\n",
    "\n",
    "# 参考 https://stackoverflow.com/a/68209152\n",
    "fig = plt.figure(constrained_layout=True)\n",
    "fig.suptitle(\"Test Results\")\n",
    "\n",
    "subfigs = fig.subfigures(nrows=3, ncols=1)\n",
    "\n",
    "# 读取输入影像并显示\n",
    "im_paths = [test_dataset.file_list[idx]['image'] for idx in chosen_indices]\n",
    "show_images_in_row(im_paths, subfigs[0], title='Image')\n",
    "\n",
    "# 获取模型预测输出\n",
    "with paddle.no_grad():\n",
    "    model.net.eval()\n",
    "    preds = []\n",
    "    for idx in chosen_indices:\n",
    "        input, mask = test_dataset[idx]\n",
    "        input = paddle.to_tensor(input).unsqueeze(0)\n",
    "        logits, *_ = model.net(input)\n",
    "        pred = paddle.argmax(logits[0], axis=0)\n",
    "        preds.append(pred.numpy())\n",
    "show_images_in_row(preds, subfigs[1], title='Pred', quantize=True)\n",
    "\n",
    "im = Image.fromarray(get_lut()[preds[0]])\n",
    "im.save(\"results/your_file.png\")\n",
    "# 读取真值标签并显示\n",
    "\n",
    "\n",
    "# 渲染结果\n",
    "fig.canvas.draw()\n",
    "Image.frombytes('RGB', fig.canvas.get_width_height(), fig.canvas.tostring_rgb())"
   ]
  },
  {
   "cell_type": "code",
   "execution_count": null,
   "id": "257f63a2",
   "metadata": {},
   "outputs": [],
   "source": []
  }
 ],
 "metadata": {
  "kernelspec": {
   "display_name": "paddle",
   "language": "python",
   "name": "paddle"
  },
  "language_info": {
   "codemirror_mode": {
    "name": "ipython",
    "version": 3
   },
   "file_extension": ".py",
   "mimetype": "text/x-python",
   "name": "python",
   "nbconvert_exporter": "python",
   "pygments_lexer": "ipython3",
   "version": "3.9.12"
  }
 },
 "nbformat": 4,
 "nbformat_minor": 5
}
