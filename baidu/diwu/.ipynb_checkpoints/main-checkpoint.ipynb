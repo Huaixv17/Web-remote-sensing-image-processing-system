{
 "cells": [
  {
   "cell_type": "code",
   "execution_count": 1,
   "id": "c8ced481",
   "metadata": {},
   "outputs": [
    {
     "name": "stdout",
     "output_type": "stream",
     "text": [
      "数据集划分已完成。\n"
     ]
    }
   ],
   "source": [
    "# 划分训练集/验证集/测试集，并生成文件名列表\n",
    "# 注意，作为演示，本项目仅使用原数据集的训练集，即用来测试的数据也来自原数据集的训练集\n",
    "\n",
    "import random\n",
    "import os.path as osp\n",
    "from os import listdir\n",
    "from PIL import Image\n",
    "import cv2\n",
    "\n",
    "\n",
    "# 随机数生成器种子\n",
    "RNG_SEED = 77571\n",
    "# 调节此参数控制训练集数据的占比\n",
    "TRAIN_RATIO = 0.9\n",
    "# 调节此参数控制验证集数据的占比\n",
    "VAL_RATIO = 0.05\n",
    "# 使用的样本个数（选取排序靠前的样本）\n",
    "NUM_SAMPLES_TO_USE = 10000\n",
    "# 数据集路径\n",
    "DATA_DIR = 'C:/Users/Administrator/diwu_pre/baidu/diwu/data/'\n",
    "\n",
    "# 分割类别\n",
    "CLASSES = (\n",
    "    'cls0',\n",
    "    'cls1',\n",
    "    'cls2',\n",
    "    'cls3',\n",
    "    'bg'\n",
    ")\n",
    "\n",
    "print(\"数据集划分已完成。\")"
   ]
  },
  {
   "cell_type": "code",
   "execution_count": 2,
   "id": "214ff692",
   "metadata": {},
   "outputs": [
    {
     "name": "stderr",
     "output_type": "stream",
     "text": [
      "D:\\Anaconda3\\envs\\paddle\\lib\\site-packages\\sklearn\\utils\\multiclass.py:13: DeprecationWarning: Please use `spmatrix` from the `scipy.sparse` namespace, the `scipy.sparse.base` namespace is deprecated.\n",
      "  from scipy.sparse.base import spmatrix\n",
      "D:\\Anaconda3\\envs\\paddle\\Lib\\site-packages\\paddlers-0.0.1-py3.9.egg\\paddlers\\models\\ppcls\\data\\preprocess\\ops\\timm_autoaugment.py:38: DeprecationWarning: BILINEAR is deprecated and will be removed in Pillow 10 (2023-07-01). Use Resampling.BILINEAR instead.\n",
      "  _RANDOM_INTERPOLATION = (Image.BILINEAR, Image.BICUBIC)\n",
      "D:\\Anaconda3\\envs\\paddle\\Lib\\site-packages\\paddlers-0.0.1-py3.9.egg\\paddlers\\models\\ppcls\\data\\preprocess\\ops\\timm_autoaugment.py:38: DeprecationWarning: BICUBIC is deprecated and will be removed in Pillow 10 (2023-07-01). Use Resampling.BICUBIC instead.\n",
      "  _RANDOM_INTERPOLATION = (Image.BILINEAR, Image.BICUBIC)\n",
      "2022-07-04 08:39:03,445-WARNING: type object 'QuantizationTransformPass' has no attribute '_supported_quantizable_op_type'\n",
      "2022-07-04 08:39:03,447-WARNING: If you want to use training-aware and post-training quantization, please use Paddle >= 1.8.4 or develop version\n"
     ]
    }
   ],
   "source": [
    "# 导入需要用到的库\n",
    "\n",
    "import random\n",
    "import os.path as osp\n",
    "\n",
    "import cv2\n",
    "import numpy as np\n",
    "import paddle\n",
    "import paddlers as pdrs\n",
    "from paddlers import transforms as T\n",
    "from matplotlib import pyplot as plt\n",
    "from PIL import Image"
   ]
  },
  {
   "cell_type": "code",
   "execution_count": 3,
   "id": "5e34c49b",
   "metadata": {},
   "outputs": [],
   "source": [
    "# 定义全局变量\n",
    "\n",
    "# 随机种子\n",
    "SEED = 77571\n",
    "# 数据集存放目录\n",
    "DATA_DIR = 'C:/Users/Administrator/diwu_pre/baidu/diwu/data'\n",
    "# 训练集`file_list`文件路径\n",
    "\n",
    "# 验证集`file_list`文件路径\n",
    "\n",
    "# 测试集`file_list`文件路径\n",
    "TEST_FILE_LIST_PATH = 'C:/Users/Administrator/diwu_pre/baidu/diwu/data/test.txt'\n",
    "# 数据集类别信息文件路径\n",
    "\n",
    "# 实验目录，保存输出的模型权重和结果\n",
    "EXP_DIR =  'C:/Users/Administrator/diwu_pre/baidu/diwu/exp/'"
   ]
  },
  {
   "cell_type": "code",
   "execution_count": 4,
   "id": "e6a219fc",
   "metadata": {},
   "outputs": [
    {
     "data": {
      "text/plain": [
       "<paddle.fluid.core_avx.Generator at 0x1c1354aa4f0>"
      ]
     },
     "execution_count": 4,
     "metadata": {},
     "output_type": "execute_result"
    }
   ],
   "source": [
    "# 固定随机种子，尽可能使实验结果可复现\n",
    "\n",
    "random.seed(SEED)\n",
    "np.random.seed(SEED)\n",
    "paddle.seed(SEED)"
   ]
  },
  {
   "cell_type": "code",
   "execution_count": 5,
   "id": "1a5bb259",
   "metadata": {},
   "outputs": [],
   "source": [
    "# 构建数据集\n",
    "\n",
    "# 定义训练和验证时使用的数据变换（数据增强、预处理等）\n",
    "\n",
    "\n",
    "eval_transforms = T.Compose([\n",
    "    T.Resize(target_size=256),\n",
    "    # 验证阶段与训练阶段的数据归一化方式必须相同\n",
    "    T.Normalize(\n",
    "        mean=[0.5, 0.5, 0.5], std=[0.5, 0.5, 0.5]),\n",
    "])\n",
    "\n",
    "# 分别构建训练和验证所用的数据集"
   ]
  },
  {
   "cell_type": "code",
   "execution_count": 6,
   "id": "ff807b97",
   "metadata": {},
   "outputs": [
    {
     "name": "stdout",
     "output_type": "stream",
     "text": [
      "2022-07-04 08:39:25 [INFO]\tLoading pretrained model from C:/Users/Administrator/diwu_pre/baidu/diwu/exp/pretrain\\model.pdparams\n",
      "2022-07-04 08:39:26 [WARNING]\t[SKIP] Shape of pretrained params head.decoder.conv.weight doesn't match.(Pretrained: [19, 256, 1, 1], Actual: [2, 256, 1, 1])\n",
      "2022-07-04 08:39:26 [WARNING]\t[SKIP] Shape of pretrained params head.decoder.conv.bias doesn't match.(Pretrained: [19], Actual: [2])\n",
      "2022-07-04 08:39:26 [INFO]\tThere are 358/360 variables loaded into DeepLabV3P.\n"
     ]
    }
   ],
   "source": [
    "# 构建DeepLab V3+模型，使用ResNet-50作为backbone\n",
    "model = pdrs.tasks.DeepLabV3P(\n",
    "    input_channel=3,\n",
    "    \n",
    "    backbone='ResNet50_vd'\n",
    ")\n",
    "model.net_initialize(\n",
    "    pretrain_weights='CITYSCAPES',\n",
    "    save_dir=osp.join(EXP_DIR, 'pretrain'),\n",
    "    resume_checkpoint=None,\n",
    "    is_backbone_weights=False\n",
    ")\n",
    "\n",
    "# 使用focal loss作为损失函数\n",
    "model.losses = dict(\n",
    "    types=[pdrs.models.ppseg.models.FocalLoss()],\n",
    "    coef=[1.0]\n",
    ")\n",
    "\n",
    "# 制定定步长学习率衰减策略\n",
    "lr_scheduler = paddle.optimizer.lr.StepDecay(\n",
    "    0.001,\n",
    "    step_size=8000,\n",
    "    gamma=0.5\n",
    ")\n",
    "# 构造Adam优化器\n",
    "optimizer = paddle.optimizer.Adam(\n",
    "    learning_rate=lr_scheduler,\n",
    "    parameters=model.net.parameters()\n",
    ")"
   ]
  },
  {
   "cell_type": "code",
   "execution_count": 7,
   "id": "9af3ec0f",
   "metadata": {},
   "outputs": [
    {
     "name": "stdout",
     "output_type": "stream",
     "text": [
      "2022-07-04 08:39:30 [INFO]\t1 samples in file C:/Users/Administrator/diwu_pre/baidu/diwu/data/test.txt\n",
      "2022-07-04 08:39:30 [INFO]\tStart to evaluate(total_samples=1, total_steps=1)...\n",
      "测试集上指标：mIoU为0.42，OAcc为0.85，Kappa系数为1.02\n",
      "各类IoU分别为：0.00, 0.85\n",
      "各类Acc分别为：0.00, 0.85\n",
      "各类F1分别为：nan, 0.92\n"
     ]
    }
   ],
   "source": [
    "# 构建测试集\n",
    "test_dataset = pdrs.datasets.SegDataset(\n",
    "    data_dir=DATA_DIR,\n",
    "    file_list=TEST_FILE_LIST_PATH,\n",
    "    \n",
    "    transforms=eval_transforms,\n",
    "    num_workers=0,\n",
    "    shuffle=False\n",
    ")\n",
    "\n",
    "\n",
    "# 为模型加载历史最佳权重\n",
    "state_dict = paddle.load(osp.join(EXP_DIR, 'model.pdparams'))\n",
    "model.net.set_state_dict(state_dict)\n",
    "\n",
    "# 执行测试\n",
    "test_result = model.evaluate(test_dataset)\n",
    "print(\n",
    "    \"测试集上指标：mIoU为{:.2f}，OAcc为{:.2f}，Kappa系数为{:.2f}\".format(\n",
    "        test_result['miou'], \n",
    "        test_result['oacc'],\n",
    "        test_result['kappa'],\n",
    "    )\n",
    ")\n",
    "\n",
    "print(\"各类IoU分别为：\"+', '.join('{:.2f}'.format(iou) for iou in test_result['category_iou']))\n",
    "print(\"各类Acc分别为：\"+', '.join('{:.2f}'.format(acc) for acc in test_result['category_acc']))\n",
    "print(\"各类F1分别为：\"+', '.join('{:.2f}'.format(f1) for f1 in test_result['category_F1-score']))"
   ]
  },
  {
   "cell_type": "code",
   "execution_count": 8,
   "id": "7c00e041",
   "metadata": {
    "scrolled": true
   },
   "outputs": [
    {
     "name": "stdout",
     "output_type": "stream",
     "text": [
      "[0, 0]\n"
     ]
    },
    {
     "data": {
      "image/png": "[encoded data removed]",
      "text/plain": [
       "<PIL.Image.Image image mode=RGB size=640x480>"
      ]
     },
     "execution_count": 8,
     "metadata": {},
     "output_type": "execute_result"
    }
   ],
   "source": [
    "# 预测结果可视化\n",
    "# 重复运行本单元可以查看不同结果\n",
    "\n",
    "def show_images_in_row(ims, fig, title='', lut=None):\n",
    "    n = len(ims)\n",
    "    fig.suptitle(title)\n",
    "    axs = fig.subplots(nrows=1, ncols=n)\n",
    "    for idx, (im, ax) in enumerate(zip(ims, axs)):\n",
    "        # 去掉刻度线和边框\n",
    "        ax.spines['top'].set_visible(False)\n",
    "        ax.spines['right'].set_visible(False)\n",
    "        ax.spines['bottom'].set_visible(False)\n",
    "        ax.spines['left'].set_visible(False)\n",
    "        ax.get_xaxis().set_ticks([])\n",
    "        ax.get_yaxis().set_ticks([])\n",
    "\n",
    "        if isinstance(im, str):\n",
    "            im = cv2.imread(im, cv2.IMREAD_COLOR)\n",
    "        if lut is not None:\n",
    "            if im.ndim == 3:\n",
    "                im = cv2.cvtColor(im, cv2.COLOR_BGR2GRAY)\n",
    "                \n",
    "            im = lut[im]\n",
    "\n",
    "        else:\n",
    "            im = cv2.cvtColor(im, cv2.COLOR_BGR2RGB)\n",
    "        ax.imshow(im)\n",
    "\n",
    "\n",
    "def get_lut():\n",
    "    lut = np.zeros((256,3), dtype=np.uint8)\n",
    "    lut[0] = [255, 0, 0]\n",
    "    lut[1] = [30, 255, 142]\n",
    "    lut[2] = [60, 0, 255]\n",
    "    lut[3] = [255, 222, 0]\n",
    "    lut[4] = [0, 0, 0]\n",
    "    return lut\n",
    "\n",
    "\n",
    "# 需要展示的样本个数\n",
    "num_imgs_to_show = 2\n",
    "# 随机抽取样本\n",
    "chosen_indices = [len(test_dataset)-1,len(test_dataset)-1]\n",
    "print(chosen_indices)\n",
    "# 参考 https://stackoverflow.com/a/68209152\n",
    "fig = plt.figure(constrained_layout=True)\n",
    "fig.suptitle(\"Test Results\")\n",
    "\n",
    "subfigs = fig.subfigures(nrows=3, ncols=1)\n",
    "\n",
    "# 读取输入影像并显示\n",
    "im_paths = [test_dataset.file_list[idx]['image'] for idx in chosen_indices]\n",
    "show_images_in_row(im_paths, subfigs[0], title='Image')\n",
    "\n",
    "# 获取模型预测输出\n",
    "with paddle.no_grad():\n",
    "    model.net.eval()\n",
    "    preds = []\n",
    "    for idx in chosen_indices:\n",
    "        input, _ = test_dataset[idx]\n",
    "        input = paddle.to_tensor(input).unsqueeze(0)\n",
    "        logits, *_ = model.net(input)\n",
    "        pred = paddle.argmax(logits[0], axis=0)\n",
    "        pred = pred.numpy().astype(np.uint8)\n",
    "        preds.append(pred)\n",
    "show_images_in_row(preds, subfigs[1], title='Pred', lut=get_lut())\n",
    "\n",
    "im = Image.fromarray(get_lut()[preds[0]])\n",
    "im.save(\"results/your_file.png\")\n",
    "# 读取真值标签并显示\n",
    "\n",
    "\n",
    "# 渲染结果\n",
    "fig.canvas.draw()\n",
    "Image.frombytes('RGB', fig.canvas.get_width_height(), fig.canvas.tostring_rgb())"
   ]
  },
  {
   "cell_type": "code",
   "execution_count": null,
   "id": "fb552f5d",
   "metadata": {},
   "outputs": [],
   "source": []
  },
  {
   "cell_type": "code",
   "execution_count": null,
   "id": "dda8f010",
   "metadata": {},
   "outputs": [],
   "source": []
  }
 ],
 "metadata": {
  "kernelspec": {
   "display_name": "paddle",
   "language": "python",
   "name": "paddle"
  },
  "language_info": {
   "codemirror_mode": {
    "name": "ipython",
    "version": 3
   },
   "file_extension": ".py",
   "mimetype": "text/x-python",
   "name": "python",
   "nbconvert_exporter": "python",
   "pygments_lexer": "ipython3",
   "version": "3.9.12"
  }
 },
 "nbformat": 4,
 "nbformat_minor": 5
}
